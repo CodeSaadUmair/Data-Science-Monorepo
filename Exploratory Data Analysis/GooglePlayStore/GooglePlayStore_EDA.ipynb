{
 "cells": [
  {
   "cell_type": "markdown",
   "id": "f4f219ae-88b5-4ce4-a8c3-97b5bac01a89",
   "metadata": {},
   "source": [
    "# Google Play Store Apps "
   ]
  },
  {
   "cell_type": "markdown",
   "id": "12770d13-744b-4412-add7-92092285c6b9",
   "metadata": {},
   "source": [
    "## About Dataset\n",
    "\n",
    "**Context**\n",
    "\n",
    "While many public datasets (on Kaggle and the like) provide Apple App Store data, there are not many counterpart datasets available for Google Play Store apps anywhere on the web. On digging deeper, I found out that iTunes App Store page deploys a nicely indexed appendix-like structure to allow for simple and easy web scraping. On the other hand, Google Play Store uses sophisticated modern-day techniques (like dynamic page load) using JQuery making scraping more challenging.\n",
    "\n",
    "**Content**\n",
    "\n",
    "Each app (row) has values for catergory, rating, size, and more.\n",
    "\n",
    "**Acknowledgements**\n",
    "\n",
    "This information is scraped from the Google Play Store. This app information would not be available without it.\n",
    "\n",
    "**Inspiration**\n",
    "\n",
    "The Play Store apps data has enormous potential to drive app-making businesses to success. Actionable insights can be drawn for developers to work on and capture the Android market!"
   ]
  },
  {
   "cell_type": "code",
   "execution_count": 1,
   "id": "0f4128b7-3c78-4a66-8e7e-1c1c023e6ca2",
   "metadata": {},
   "outputs": [],
   "source": [
    "# import libraries\n",
    "import pandas as pd\n",
    "import numpy as np\n",
    "import matplotlib.pyplot as plt\n",
    "import seaborn as sns\n",
    "import warnings\n",
    "%matplotlib inline"
   ]
  },
  {
   "cell_type": "markdown",
   "id": "3f654d28-b952-49cf-ab81-c0c80264fd23",
   "metadata": {},
   "source": [
    "## load data and initail steps of EDA"
   ]
  },
  {
   "cell_type": "code",
   "execution_count": 2,
   "id": "8fb150f2-fac5-41c1-bdee-5f8bba61bc8d",
   "metadata": {},
   "outputs": [],
   "source": [
    "df = pd.read_csv('./Dataset/googleplaystore.csv')"
   ]
  },
  {
   "cell_type": "code",
   "execution_count": 3,
   "id": "7c0ce75b-e917-4055-84c0-727bb3c4e9a1",
   "metadata": {},
   "outputs": [],
   "source": [
    "warnings.filterwarnings('ignore')"
   ]
  },
  {
   "cell_type": "code",
   "execution_count": 4,
   "id": "3ff77b04-f6f2-4a38-a809-f9d82ff84a7a",
   "metadata": {},
   "outputs": [
    {
     "data": {
      "text/html": [
       "<div>\n",
       "<style scoped>\n",
       "    .dataframe tbody tr th:only-of-type {\n",
       "        vertical-align: middle;\n",
       "    }\n",
       "\n",
       "    .dataframe tbody tr th {\n",
       "        vertical-align: top;\n",
       "    }\n",
       "\n",
       "    .dataframe thead th {\n",
       "        text-align: right;\n",
       "    }\n",
       "</style>\n",
       "<table border=\"1\" class=\"dataframe\">\n",
       "  <thead>\n",
       "    <tr style=\"text-align: right;\">\n",
       "      <th></th>\n",
       "      <th>App</th>\n",
       "      <th>Category</th>\n",
       "      <th>Rating</th>\n",
       "      <th>Reviews</th>\n",
       "      <th>Size</th>\n",
       "      <th>Installs</th>\n",
       "      <th>Type</th>\n",
       "      <th>Price</th>\n",
       "      <th>Content Rating</th>\n",
       "      <th>Genres</th>\n",
       "      <th>Last Updated</th>\n",
       "      <th>Current Ver</th>\n",
       "      <th>Android Ver</th>\n",
       "    </tr>\n",
       "  </thead>\n",
       "  <tbody>\n",
       "    <tr>\n",
       "      <th>0</th>\n",
       "      <td>Photo Editor &amp; Candy Camera &amp; Grid &amp; ScrapBook</td>\n",
       "      <td>ART_AND_DESIGN</td>\n",
       "      <td>4.1</td>\n",
       "      <td>159</td>\n",
       "      <td>19M</td>\n",
       "      <td>10,000+</td>\n",
       "      <td>Free</td>\n",
       "      <td>0</td>\n",
       "      <td>Everyone</td>\n",
       "      <td>Art &amp; Design</td>\n",
       "      <td>January 7, 2018</td>\n",
       "      <td>1.0.0</td>\n",
       "      <td>4.0.3 and up</td>\n",
       "    </tr>\n",
       "    <tr>\n",
       "      <th>1</th>\n",
       "      <td>Coloring book moana</td>\n",
       "      <td>ART_AND_DESIGN</td>\n",
       "      <td>3.9</td>\n",
       "      <td>967</td>\n",
       "      <td>14M</td>\n",
       "      <td>500,000+</td>\n",
       "      <td>Free</td>\n",
       "      <td>0</td>\n",
       "      <td>Everyone</td>\n",
       "      <td>Art &amp; Design;Pretend Play</td>\n",
       "      <td>January 15, 2018</td>\n",
       "      <td>2.0.0</td>\n",
       "      <td>4.0.3 and up</td>\n",
       "    </tr>\n",
       "    <tr>\n",
       "      <th>2</th>\n",
       "      <td>U Launcher Lite – FREE Live Cool Themes, Hide ...</td>\n",
       "      <td>ART_AND_DESIGN</td>\n",
       "      <td>4.7</td>\n",
       "      <td>87510</td>\n",
       "      <td>8.7M</td>\n",
       "      <td>5,000,000+</td>\n",
       "      <td>Free</td>\n",
       "      <td>0</td>\n",
       "      <td>Everyone</td>\n",
       "      <td>Art &amp; Design</td>\n",
       "      <td>August 1, 2018</td>\n",
       "      <td>1.2.4</td>\n",
       "      <td>4.0.3 and up</td>\n",
       "    </tr>\n",
       "    <tr>\n",
       "      <th>3</th>\n",
       "      <td>Sketch - Draw &amp; Paint</td>\n",
       "      <td>ART_AND_DESIGN</td>\n",
       "      <td>4.5</td>\n",
       "      <td>215644</td>\n",
       "      <td>25M</td>\n",
       "      <td>50,000,000+</td>\n",
       "      <td>Free</td>\n",
       "      <td>0</td>\n",
       "      <td>Teen</td>\n",
       "      <td>Art &amp; Design</td>\n",
       "      <td>June 8, 2018</td>\n",
       "      <td>Varies with device</td>\n",
       "      <td>4.2 and up</td>\n",
       "    </tr>\n",
       "    <tr>\n",
       "      <th>4</th>\n",
       "      <td>Pixel Draw - Number Art Coloring Book</td>\n",
       "      <td>ART_AND_DESIGN</td>\n",
       "      <td>4.3</td>\n",
       "      <td>967</td>\n",
       "      <td>2.8M</td>\n",
       "      <td>100,000+</td>\n",
       "      <td>Free</td>\n",
       "      <td>0</td>\n",
       "      <td>Everyone</td>\n",
       "      <td>Art &amp; Design;Creativity</td>\n",
       "      <td>June 20, 2018</td>\n",
       "      <td>1.1</td>\n",
       "      <td>4.4 and up</td>\n",
       "    </tr>\n",
       "  </tbody>\n",
       "</table>\n",
       "</div>"
      ],
      "text/plain": [
       "                                                 App        Category  Rating  \\\n",
       "0     Photo Editor & Candy Camera & Grid & ScrapBook  ART_AND_DESIGN     4.1   \n",
       "1                                Coloring book moana  ART_AND_DESIGN     3.9   \n",
       "2  U Launcher Lite – FREE Live Cool Themes, Hide ...  ART_AND_DESIGN     4.7   \n",
       "3                              Sketch - Draw & Paint  ART_AND_DESIGN     4.5   \n",
       "4              Pixel Draw - Number Art Coloring Book  ART_AND_DESIGN     4.3   \n",
       "\n",
       "   Reviews  Size     Installs  Type Price Content Rating  \\\n",
       "0      159   19M      10,000+  Free     0       Everyone   \n",
       "1      967   14M     500,000+  Free     0       Everyone   \n",
       "2    87510  8.7M   5,000,000+  Free     0       Everyone   \n",
       "3   215644   25M  50,000,000+  Free     0           Teen   \n",
       "4      967  2.8M     100,000+  Free     0       Everyone   \n",
       "\n",
       "                      Genres      Last Updated         Current Ver  \\\n",
       "0               Art & Design   January 7, 2018               1.0.0   \n",
       "1  Art & Design;Pretend Play  January 15, 2018               2.0.0   \n",
       "2               Art & Design    August 1, 2018               1.2.4   \n",
       "3               Art & Design      June 8, 2018  Varies with device   \n",
       "4    Art & Design;Creativity     June 20, 2018                 1.1   \n",
       "\n",
       "    Android Ver  \n",
       "0  4.0.3 and up  \n",
       "1  4.0.3 and up  \n",
       "2  4.0.3 and up  \n",
       "3    4.2 and up  \n",
       "4    4.4 and up  "
      ]
     },
     "execution_count": 4,
     "metadata": {},
     "output_type": "execute_result"
    }
   ],
   "source": [
    "df.head()"
   ]
  },
  {
   "cell_type": "code",
   "execution_count": 5,
   "id": "dc23d5e5-4066-4dc8-ae59-5773ed389174",
   "metadata": {},
   "outputs": [
    {
     "data": {
      "text/plain": [
       "Index(['App', 'Category', 'Rating', 'Reviews', 'Size', 'Installs', 'Type',\n",
       "       'Price', 'Content Rating', 'Genres', 'Last Updated', 'Current Ver',\n",
       "       'Android Ver'],\n",
       "      dtype='object')"
      ]
     },
     "execution_count": 5,
     "metadata": {},
     "output_type": "execute_result"
    }
   ],
   "source": [
    "df.columns"
   ]
  },
  {
   "cell_type": "code",
   "execution_count": 6,
   "id": "85f910e9-154f-41d8-aa77-d20ef5e7319f",
   "metadata": {},
   "outputs": [
    {
     "data": {
      "text/plain": [
       "(10841, 13)"
      ]
     },
     "execution_count": 6,
     "metadata": {},
     "output_type": "execute_result"
    }
   ],
   "source": [
    "df.shape"
   ]
  },
  {
   "cell_type": "markdown",
   "id": "964d7ab2-28e5-4535-aa1f-66a3af6c1a5a",
   "metadata": {},
   "source": [
    "## shape of our data is 10841 rows and 13 columns"
   ]
  },
  {
   "cell_type": "code",
   "execution_count": 7,
   "id": "5c90fb9a-f2a4-4c65-89dd-73e294710486",
   "metadata": {},
   "outputs": [
    {
     "name": "stdout",
     "output_type": "stream",
     "text": [
      "<class 'pandas.core.frame.DataFrame'>\n",
      "RangeIndex: 10841 entries, 0 to 10840\n",
      "Data columns (total 13 columns):\n",
      " #   Column          Non-Null Count  Dtype  \n",
      "---  ------          --------------  -----  \n",
      " 0   App             10841 non-null  object \n",
      " 1   Category        10840 non-null  object \n",
      " 2   Rating          9367 non-null   float64\n",
      " 3   Reviews         10841 non-null  int64  \n",
      " 4   Size            10841 non-null  object \n",
      " 5   Installs        10841 non-null  object \n",
      " 6   Type            10840 non-null  object \n",
      " 7   Price           10841 non-null  object \n",
      " 8   Content Rating  10841 non-null  object \n",
      " 9   Genres          10840 non-null  object \n",
      " 10  Last Updated    10841 non-null  object \n",
      " 11  Current Ver     10833 non-null  object \n",
      " 12  Android Ver     10839 non-null  object \n",
      "dtypes: float64(1), int64(1), object(11)\n",
      "memory usage: 1.1+ MB\n"
     ]
    }
   ],
   "source": [
    "df.info()"
   ]
  },
  {
   "cell_type": "code",
   "execution_count": 8,
   "id": "40565c75-c892-436e-ab23-9adfa1c1dbfc",
   "metadata": {},
   "outputs": [
    {
     "data": {
      "text/html": [
       "<div>\n",
       "<style scoped>\n",
       "    .dataframe tbody tr th:only-of-type {\n",
       "        vertical-align: middle;\n",
       "    }\n",
       "\n",
       "    .dataframe tbody tr th {\n",
       "        vertical-align: top;\n",
       "    }\n",
       "\n",
       "    .dataframe thead th {\n",
       "        text-align: right;\n",
       "    }\n",
       "</style>\n",
       "<table border=\"1\" class=\"dataframe\">\n",
       "  <thead>\n",
       "    <tr style=\"text-align: right;\">\n",
       "      <th></th>\n",
       "      <th>Rating</th>\n",
       "      <th>Reviews</th>\n",
       "    </tr>\n",
       "  </thead>\n",
       "  <tbody>\n",
       "    <tr>\n",
       "      <th>count</th>\n",
       "      <td>9367.000000</td>\n",
       "      <td>1.084100e+04</td>\n",
       "    </tr>\n",
       "    <tr>\n",
       "      <th>mean</th>\n",
       "      <td>4.191513</td>\n",
       "      <td>4.441119e+05</td>\n",
       "    </tr>\n",
       "    <tr>\n",
       "      <th>std</th>\n",
       "      <td>0.515735</td>\n",
       "      <td>2.927629e+06</td>\n",
       "    </tr>\n",
       "    <tr>\n",
       "      <th>min</th>\n",
       "      <td>1.000000</td>\n",
       "      <td>0.000000e+00</td>\n",
       "    </tr>\n",
       "    <tr>\n",
       "      <th>25%</th>\n",
       "      <td>4.000000</td>\n",
       "      <td>3.800000e+01</td>\n",
       "    </tr>\n",
       "    <tr>\n",
       "      <th>50%</th>\n",
       "      <td>4.300000</td>\n",
       "      <td>2.094000e+03</td>\n",
       "    </tr>\n",
       "    <tr>\n",
       "      <th>75%</th>\n",
       "      <td>4.500000</td>\n",
       "      <td>5.476800e+04</td>\n",
       "    </tr>\n",
       "    <tr>\n",
       "      <th>max</th>\n",
       "      <td>5.000000</td>\n",
       "      <td>7.815831e+07</td>\n",
       "    </tr>\n",
       "  </tbody>\n",
       "</table>\n",
       "</div>"
      ],
      "text/plain": [
       "            Rating       Reviews\n",
       "count  9367.000000  1.084100e+04\n",
       "mean      4.191513  4.441119e+05\n",
       "std       0.515735  2.927629e+06\n",
       "min       1.000000  0.000000e+00\n",
       "25%       4.000000  3.800000e+01\n",
       "50%       4.300000  2.094000e+03\n",
       "75%       4.500000  5.476800e+04\n",
       "max       5.000000  7.815831e+07"
      ]
     },
     "execution_count": 8,
     "metadata": {},
     "output_type": "execute_result"
    }
   ],
   "source": [
    "df.describe()"
   ]
  },
  {
   "cell_type": "markdown",
   "id": "e2027912-c493-4b18-aa31-652f2b1be1a8",
   "metadata": {},
   "source": [
    "## Gotta Make Size, Installs and Price columns as numarics because they are as objects"
   ]
  },
  {
   "cell_type": "code",
   "execution_count": 9,
   "id": "2a0c5430-2bf3-4c45-a63d-7a76d25c8764",
   "metadata": {},
   "outputs": [
    {
     "data": {
      "text/plain": [
       "array(['19M', '14M', '8.7M', '25M', '2.8M', '5.6M', '29M', '33M', '3.1M',\n",
       "       '28M', '12M', '20M', '21M', '37M', '2.7M', '5.5M', '17M', '39M',\n",
       "       '31M', '4.2M', '7.0M', '23M', '6.0M', '6.1M', '4.6M', '9.2M',\n",
       "       '5.2M', '11M', '24M', 'Varies with device', '9.4M', '15M', '10M',\n",
       "       '1.2M', '26M', '8.0M', '7.9M', '56M', '57M', '35M', '54M', '201k',\n",
       "       '3.6M', '5.7M', '8.6M', '2.4M', '27M', '2.5M', '16M', '3.4M',\n",
       "       '8.9M', '3.9M', '2.9M', '38M', '32M', '5.4M', '18M', '1.1M',\n",
       "       '2.2M', '4.5M', '9.8M', '52M', '9.0M', '6.7M', '30M', '2.6M',\n",
       "       '7.1M', '3.7M', '22M', '7.4M', '6.4M', '3.2M', '8.2M', '9.9M',\n",
       "       '4.9M', '9.5M', '5.0M', '5.9M', '13M', '73M', '6.8M', '3.5M',\n",
       "       '4.0M', '2.3M', '7.2M', '2.1M', '42M', '7.3M', '9.1M', '55M',\n",
       "       '23k', '6.5M', '1.5M', '7.5M', '51M', '41M', '48M', '8.5M', '46M',\n",
       "       '8.3M', '4.3M', '4.7M', '3.3M', '40M', '7.8M', '8.8M', '6.6M',\n",
       "       '5.1M', '61M', '66M', '79k', '8.4M', '118k', '44M', '695k', '1.6M',\n",
       "       '6.2M', '18k', '53M', '1.4M', '3.0M', '5.8M', '3.8M', '9.6M',\n",
       "       '45M', '63M', '49M', '77M', '4.4M', '4.8M', '70M', '6.9M', '9.3M',\n",
       "       '10.0M', '8.1M', '36M', '84M', '97M', '2.0M', '1.9M', '1.8M',\n",
       "       '5.3M', '47M', '556k', '526k', '76M', '7.6M', '59M', '9.7M', '78M',\n",
       "       '72M', '43M', '7.7M', '6.3M', '334k', '34M', '93M', '65M', '79M',\n",
       "       '100M', '58M', '50M', '68M', '64M', '67M', '60M', '94M', '232k',\n",
       "       '99M', '624k', '95M', '8.5k', '41k', '292k', '11k', '80M', '1.7M',\n",
       "       '74M', '62M', '69M', '75M', '98M', '85M', '82M', '96M', '87M',\n",
       "       '71M', '86M', '91M', '81M', '92M', '83M', '88M', '704k', '862k',\n",
       "       '899k', '378k', '266k', '375k', '1.3M', '975k', '980k', '4.1M',\n",
       "       '89M', '696k', '544k', '525k', '920k', '779k', '853k', '720k',\n",
       "       '713k', '772k', '318k', '58k', '241k', '196k', '857k', '51k',\n",
       "       '953k', '865k', '251k', '930k', '540k', '313k', '746k', '203k',\n",
       "       '26k', '314k', '239k', '371k', '220k', '730k', '756k', '91k',\n",
       "       '293k', '17k', '74k', '14k', '317k', '78k', '924k', '902k', '818k',\n",
       "       '81k', '939k', '169k', '45k', '475k', '965k', '90M', '545k', '61k',\n",
       "       '283k', '655k', '714k', '93k', '872k', '121k', '322k', '1.0M',\n",
       "       '976k', '172k', '238k', '549k', '206k', '954k', '444k', '717k',\n",
       "       '210k', '609k', '308k', '705k', '306k', '904k', '473k', '175k',\n",
       "       '350k', '383k', '454k', '421k', '70k', '812k', '442k', '842k',\n",
       "       '417k', '412k', '459k', '478k', '335k', '782k', '721k', '430k',\n",
       "       '429k', '192k', '200k', '460k', '728k', '496k', '816k', '414k',\n",
       "       '506k', '887k', '613k', '243k', '569k', '778k', '683k', '592k',\n",
       "       '319k', '186k', '840k', '647k', '191k', '373k', '437k', '598k',\n",
       "       '716k', '585k', '982k', '222k', '219k', '55k', '948k', '323k',\n",
       "       '691k', '511k', '951k', '963k', '25k', '554k', '351k', '27k',\n",
       "       '82k', '208k', '913k', '514k', '551k', '29k', '103k', '898k',\n",
       "       '743k', '116k', '153k', '209k', '353k', '499k', '173k', '597k',\n",
       "       '809k', '122k', '411k', '400k', '801k', '787k', '237k', '50k',\n",
       "       '643k', '986k', '97k', '516k', '837k', '780k', '961k', '269k',\n",
       "       '20k', '498k', '600k', '749k', '642k', '881k', '72k', '656k',\n",
       "       '601k', '221k', '228k', '108k', '940k', '176k', '33k', '663k',\n",
       "       '34k', '942k', '259k', '164k', '458k', '245k', '629k', '28k',\n",
       "       '288k', '775k', '785k', '636k', '916k', '994k', '309k', '485k',\n",
       "       '914k', '903k', '608k', '500k', '54k', '562k', '847k', '957k',\n",
       "       '688k', '811k', '270k', '48k', '329k', '523k', '921k', '874k',\n",
       "       '981k', '784k', '280k', '24k', '518k', '754k', '892k', '154k',\n",
       "       '860k', '364k', '387k', '626k', '161k', '879k', '39k', '970k',\n",
       "       '170k', '141k', '160k', '144k', '143k', '190k', '376k', '193k',\n",
       "       '246k', '73k', '658k', '992k', '253k', '420k', '404k', '470k',\n",
       "       '226k', '240k', '89k', '234k', '257k', '861k', '467k', '157k',\n",
       "       '44k', '676k', '67k', '552k', '885k', '1020k', '582k', '619k'],\n",
       "      dtype=object)"
      ]
     },
     "execution_count": 9,
     "metadata": {},
     "output_type": "execute_result"
    }
   ],
   "source": [
    "df['Size'].unique()"
   ]
  },
  {
   "cell_type": "code",
   "execution_count": 10,
   "id": "5fb55d41-0dba-419e-b5ba-e828f36297b3",
   "metadata": {},
   "outputs": [
    {
     "data": {
      "text/plain": [
       "np.int64(0)"
      ]
     },
     "execution_count": 10,
     "metadata": {},
     "output_type": "execute_result"
    }
   ],
   "source": [
    "df['Size'].isnull().sum()"
   ]
  },
  {
   "cell_type": "markdown",
   "id": "e17a58b1-73bc-4c97-af78-5753d6c0487a",
   "metadata": {},
   "source": [
    "# Size Column "
   ]
  },
  {
   "cell_type": "markdown",
   "id": "30e631f7-bb5d-4e56-8403-29ad41d753ad",
   "metadata": {},
   "source": [
    "## observation\n",
    "### contains objecs as 'Varies with device', 'M' and 'k' and no missing values"
   ]
  },
  {
   "cell_type": "code",
   "execution_count": 11,
   "id": "624627d2-a464-4dbe-beba-ef34f370b89c",
   "metadata": {},
   "outputs": [],
   "source": [
    "# values containing 'M'\n",
    "size_M = df['Size'].loc[df['Size'].str.contains('M')].value_counts().sum()"
   ]
  },
  {
   "cell_type": "code",
   "execution_count": 12,
   "id": "16fd3ff4-78e5-4e5f-95d7-31f45678de43",
   "metadata": {},
   "outputs": [],
   "source": [
    "# values containing 'k'\n",
    "size_K = df['Size'].loc[df['Size'].str.contains('k')].value_counts().sum()"
   ]
  },
  {
   "cell_type": "code",
   "execution_count": 13,
   "id": "d7d50548-3652-46ef-a2ee-017e435db839",
   "metadata": {},
   "outputs": [],
   "source": [
    "# values containing 'Varies with device'\n",
    "size_V = df['Size'].loc[df['Size'].str.contains('Varies with device')].value_counts().sum()"
   ]
  },
  {
   "cell_type": "code",
   "execution_count": 14,
   "id": "33f7c0ed-9ef8-4f64-99ab-d2a9100cc881",
   "metadata": {},
   "outputs": [
    {
     "name": "stdout",
     "output_type": "stream",
     "text": [
      "10841\n"
     ]
    }
   ],
   "source": [
    "print(size_M+size_K+size_V)"
   ]
  },
  {
   "cell_type": "code",
   "execution_count": 15,
   "id": "b6fad6af-0ff1-46c0-8850-06a25d4a1ae7",
   "metadata": {},
   "outputs": [
    {
     "data": {
      "text/plain": [
       "10841"
      ]
     },
     "execution_count": 15,
     "metadata": {},
     "output_type": "execute_result"
    }
   ],
   "source": [
    "len(df)"
   ]
  },
  {
   "cell_type": "markdown",
   "id": "147ca271-67bb-4bdf-962c-3d2272e97f0e",
   "metadata": {},
   "source": [
    "# observation \n",
    "### only 3 objects Values are there\n",
    "#### We will convert these size to float values of bytes from objects"
   ]
  },
  {
   "cell_type": "code",
   "execution_count": 16,
   "id": "a3687d44-9112-4d49-9120-00e20a28e386",
   "metadata": {},
   "outputs": [],
   "source": [
    "def convert_size(size):\n",
    "    if isinstance(size,str):\n",
    "        if 'k' in size:\n",
    "            return float(size.replace('k',\"\")) * 1024\n",
    "        elif 'M' in size:\n",
    "            return float(size.replace('M',\"\"))*1024*1024\n",
    "        else:\n",
    "            return np.nan\n",
    "    return size"
   ]
  },
  {
   "cell_type": "code",
   "execution_count": 17,
   "id": "8d7281f8-f3af-4493-ad3a-86e04809546c",
   "metadata": {},
   "outputs": [
    {
     "data": {
      "text/plain": [
       "0     19M\n",
       "1     14M\n",
       "2    8.7M\n",
       "3     25M\n",
       "4    2.8M\n",
       "5    5.6M\n",
       "6     19M\n",
       "7     29M\n",
       "8     33M\n",
       "9    3.1M\n",
       "Name: Size, dtype: object"
      ]
     },
     "execution_count": 17,
     "metadata": {},
     "output_type": "execute_result"
    }
   ],
   "source": [
    "df['Size'].head(10)"
   ]
  },
  {
   "cell_type": "code",
   "execution_count": 18,
   "id": "c8e2bc13-31a3-4b14-8031-ead8bda5dd44",
   "metadata": {},
   "outputs": [],
   "source": [
    "df['Size'] = df['Size'].apply(convert_size)"
   ]
  },
  {
   "cell_type": "code",
   "execution_count": 19,
   "id": "e657ff1f-e7af-41e5-b0ba-1cdcb7b78585",
   "metadata": {},
   "outputs": [
    {
     "data": {
      "text/html": [
       "<div>\n",
       "<style scoped>\n",
       "    .dataframe tbody tr th:only-of-type {\n",
       "        vertical-align: middle;\n",
       "    }\n",
       "\n",
       "    .dataframe tbody tr th {\n",
       "        vertical-align: top;\n",
       "    }\n",
       "\n",
       "    .dataframe thead th {\n",
       "        text-align: right;\n",
       "    }\n",
       "</style>\n",
       "<table border=\"1\" class=\"dataframe\">\n",
       "  <thead>\n",
       "    <tr style=\"text-align: right;\">\n",
       "      <th></th>\n",
       "      <th>App</th>\n",
       "      <th>Category</th>\n",
       "      <th>Rating</th>\n",
       "      <th>Reviews</th>\n",
       "      <th>Size</th>\n",
       "      <th>Installs</th>\n",
       "      <th>Type</th>\n",
       "      <th>Price</th>\n",
       "      <th>Content Rating</th>\n",
       "      <th>Genres</th>\n",
       "      <th>Last Updated</th>\n",
       "      <th>Current Ver</th>\n",
       "      <th>Android Ver</th>\n",
       "    </tr>\n",
       "  </thead>\n",
       "  <tbody>\n",
       "    <tr>\n",
       "      <th>0</th>\n",
       "      <td>Photo Editor &amp; Candy Camera &amp; Grid &amp; ScrapBook</td>\n",
       "      <td>ART_AND_DESIGN</td>\n",
       "      <td>4.1</td>\n",
       "      <td>159</td>\n",
       "      <td>19922944.0</td>\n",
       "      <td>10,000+</td>\n",
       "      <td>Free</td>\n",
       "      <td>0</td>\n",
       "      <td>Everyone</td>\n",
       "      <td>Art &amp; Design</td>\n",
       "      <td>January 7, 2018</td>\n",
       "      <td>1.0.0</td>\n",
       "      <td>4.0.3 and up</td>\n",
       "    </tr>\n",
       "    <tr>\n",
       "      <th>1</th>\n",
       "      <td>Coloring book moana</td>\n",
       "      <td>ART_AND_DESIGN</td>\n",
       "      <td>3.9</td>\n",
       "      <td>967</td>\n",
       "      <td>14680064.0</td>\n",
       "      <td>500,000+</td>\n",
       "      <td>Free</td>\n",
       "      <td>0</td>\n",
       "      <td>Everyone</td>\n",
       "      <td>Art &amp; Design;Pretend Play</td>\n",
       "      <td>January 15, 2018</td>\n",
       "      <td>2.0.0</td>\n",
       "      <td>4.0.3 and up</td>\n",
       "    </tr>\n",
       "  </tbody>\n",
       "</table>\n",
       "</div>"
      ],
      "text/plain": [
       "                                              App        Category  Rating  \\\n",
       "0  Photo Editor & Candy Camera & Grid & ScrapBook  ART_AND_DESIGN     4.1   \n",
       "1                             Coloring book moana  ART_AND_DESIGN     3.9   \n",
       "\n",
       "   Reviews        Size  Installs  Type Price Content Rating  \\\n",
       "0      159  19922944.0   10,000+  Free     0       Everyone   \n",
       "1      967  14680064.0  500,000+  Free     0       Everyone   \n",
       "\n",
       "                      Genres      Last Updated Current Ver   Android Ver  \n",
       "0               Art & Design   January 7, 2018       1.0.0  4.0.3 and up  \n",
       "1  Art & Design;Pretend Play  January 15, 2018       2.0.0  4.0.3 and up  "
      ]
     },
     "execution_count": 19,
     "metadata": {},
     "output_type": "execute_result"
    }
   ],
   "source": [
    "df.head(2)"
   ]
  },
  {
   "cell_type": "code",
   "execution_count": 20,
   "id": "966f217d-0b87-4270-a86c-304dc02d19d9",
   "metadata": {},
   "outputs": [],
   "source": [
    "df.rename(columns={'Size':'size_in_bytes'},inplace=True)"
   ]
  },
  {
   "cell_type": "code",
   "execution_count": 21,
   "id": "15fb71fd-7297-46f3-af76-64fd055d9523",
   "metadata": {},
   "outputs": [
    {
     "data": {
      "text/html": [
       "<div>\n",
       "<style scoped>\n",
       "    .dataframe tbody tr th:only-of-type {\n",
       "        vertical-align: middle;\n",
       "    }\n",
       "\n",
       "    .dataframe tbody tr th {\n",
       "        vertical-align: top;\n",
       "    }\n",
       "\n",
       "    .dataframe thead th {\n",
       "        text-align: right;\n",
       "    }\n",
       "</style>\n",
       "<table border=\"1\" class=\"dataframe\">\n",
       "  <thead>\n",
       "    <tr style=\"text-align: right;\">\n",
       "      <th></th>\n",
       "      <th>App</th>\n",
       "      <th>Category</th>\n",
       "      <th>Rating</th>\n",
       "      <th>Reviews</th>\n",
       "      <th>size_in_bytes</th>\n",
       "      <th>Installs</th>\n",
       "      <th>Type</th>\n",
       "      <th>Price</th>\n",
       "      <th>Content Rating</th>\n",
       "      <th>Genres</th>\n",
       "      <th>Last Updated</th>\n",
       "      <th>Current Ver</th>\n",
       "      <th>Android Ver</th>\n",
       "    </tr>\n",
       "  </thead>\n",
       "  <tbody>\n",
       "    <tr>\n",
       "      <th>0</th>\n",
       "      <td>Photo Editor &amp; Candy Camera &amp; Grid &amp; ScrapBook</td>\n",
       "      <td>ART_AND_DESIGN</td>\n",
       "      <td>4.1</td>\n",
       "      <td>159</td>\n",
       "      <td>19922944.0</td>\n",
       "      <td>10,000+</td>\n",
       "      <td>Free</td>\n",
       "      <td>0</td>\n",
       "      <td>Everyone</td>\n",
       "      <td>Art &amp; Design</td>\n",
       "      <td>January 7, 2018</td>\n",
       "      <td>1.0.0</td>\n",
       "      <td>4.0.3 and up</td>\n",
       "    </tr>\n",
       "    <tr>\n",
       "      <th>1</th>\n",
       "      <td>Coloring book moana</td>\n",
       "      <td>ART_AND_DESIGN</td>\n",
       "      <td>3.9</td>\n",
       "      <td>967</td>\n",
       "      <td>14680064.0</td>\n",
       "      <td>500,000+</td>\n",
       "      <td>Free</td>\n",
       "      <td>0</td>\n",
       "      <td>Everyone</td>\n",
       "      <td>Art &amp; Design;Pretend Play</td>\n",
       "      <td>January 15, 2018</td>\n",
       "      <td>2.0.0</td>\n",
       "      <td>4.0.3 and up</td>\n",
       "    </tr>\n",
       "  </tbody>\n",
       "</table>\n",
       "</div>"
      ],
      "text/plain": [
       "                                              App        Category  Rating  \\\n",
       "0  Photo Editor & Candy Camera & Grid & ScrapBook  ART_AND_DESIGN     4.1   \n",
       "1                             Coloring book moana  ART_AND_DESIGN     3.9   \n",
       "\n",
       "   Reviews  size_in_bytes  Installs  Type Price Content Rating  \\\n",
       "0      159     19922944.0   10,000+  Free     0       Everyone   \n",
       "1      967     14680064.0  500,000+  Free     0       Everyone   \n",
       "\n",
       "                      Genres      Last Updated Current Ver   Android Ver  \n",
       "0               Art & Design   January 7, 2018       1.0.0  4.0.3 and up  \n",
       "1  Art & Design;Pretend Play  January 15, 2018       2.0.0  4.0.3 and up  "
      ]
     },
     "execution_count": 21,
     "metadata": {},
     "output_type": "execute_result"
    }
   ],
   "source": [
    "df.head(2)"
   ]
  },
  {
   "cell_type": "markdown",
   "id": "f78b2697-6afd-4ea7-a91f-6a551226a44a",
   "metadata": {},
   "source": [
    "### Adding size in MB column"
   ]
  },
  {
   "cell_type": "code",
   "execution_count": 22,
   "id": "3af1205c-c5fa-4b49-ace8-bcb88b3a32e5",
   "metadata": {},
   "outputs": [],
   "source": [
    "df['size-in_Mb'] = df['size_in_bytes'].apply(lambda x : x/(1024*1024))"
   ]
  },
  {
   "cell_type": "code",
   "execution_count": 23,
   "id": "c6e1aebf-5b54-4811-ae4a-c37753db8e14",
   "metadata": {},
   "outputs": [
    {
     "data": {
      "text/html": [
       "<div>\n",
       "<style scoped>\n",
       "    .dataframe tbody tr th:only-of-type {\n",
       "        vertical-align: middle;\n",
       "    }\n",
       "\n",
       "    .dataframe tbody tr th {\n",
       "        vertical-align: top;\n",
       "    }\n",
       "\n",
       "    .dataframe thead th {\n",
       "        text-align: right;\n",
       "    }\n",
       "</style>\n",
       "<table border=\"1\" class=\"dataframe\">\n",
       "  <thead>\n",
       "    <tr style=\"text-align: right;\">\n",
       "      <th></th>\n",
       "      <th>App</th>\n",
       "      <th>Category</th>\n",
       "      <th>Rating</th>\n",
       "      <th>Reviews</th>\n",
       "      <th>size_in_bytes</th>\n",
       "      <th>Installs</th>\n",
       "      <th>Type</th>\n",
       "      <th>Price</th>\n",
       "      <th>Content Rating</th>\n",
       "      <th>Genres</th>\n",
       "      <th>Last Updated</th>\n",
       "      <th>Current Ver</th>\n",
       "      <th>Android Ver</th>\n",
       "      <th>size-in_Mb</th>\n",
       "    </tr>\n",
       "  </thead>\n",
       "  <tbody>\n",
       "    <tr>\n",
       "      <th>0</th>\n",
       "      <td>Photo Editor &amp; Candy Camera &amp; Grid &amp; ScrapBook</td>\n",
       "      <td>ART_AND_DESIGN</td>\n",
       "      <td>4.1</td>\n",
       "      <td>159</td>\n",
       "      <td>19922944.0</td>\n",
       "      <td>10,000+</td>\n",
       "      <td>Free</td>\n",
       "      <td>0</td>\n",
       "      <td>Everyone</td>\n",
       "      <td>Art &amp; Design</td>\n",
       "      <td>January 7, 2018</td>\n",
       "      <td>1.0.0</td>\n",
       "      <td>4.0.3 and up</td>\n",
       "      <td>19.0</td>\n",
       "    </tr>\n",
       "    <tr>\n",
       "      <th>1</th>\n",
       "      <td>Coloring book moana</td>\n",
       "      <td>ART_AND_DESIGN</td>\n",
       "      <td>3.9</td>\n",
       "      <td>967</td>\n",
       "      <td>14680064.0</td>\n",
       "      <td>500,000+</td>\n",
       "      <td>Free</td>\n",
       "      <td>0</td>\n",
       "      <td>Everyone</td>\n",
       "      <td>Art &amp; Design;Pretend Play</td>\n",
       "      <td>January 15, 2018</td>\n",
       "      <td>2.0.0</td>\n",
       "      <td>4.0.3 and up</td>\n",
       "      <td>14.0</td>\n",
       "    </tr>\n",
       "  </tbody>\n",
       "</table>\n",
       "</div>"
      ],
      "text/plain": [
       "                                              App        Category  Rating  \\\n",
       "0  Photo Editor & Candy Camera & Grid & ScrapBook  ART_AND_DESIGN     4.1   \n",
       "1                             Coloring book moana  ART_AND_DESIGN     3.9   \n",
       "\n",
       "   Reviews  size_in_bytes  Installs  Type Price Content Rating  \\\n",
       "0      159     19922944.0   10,000+  Free     0       Everyone   \n",
       "1      967     14680064.0  500,000+  Free     0       Everyone   \n",
       "\n",
       "                      Genres      Last Updated Current Ver   Android Ver  \\\n",
       "0               Art & Design   January 7, 2018       1.0.0  4.0.3 and up   \n",
       "1  Art & Design;Pretend Play  January 15, 2018       2.0.0  4.0.3 and up   \n",
       "\n",
       "   size-in_Mb  \n",
       "0        19.0  \n",
       "1        14.0  "
      ]
     },
     "execution_count": 23,
     "metadata": {},
     "output_type": "execute_result"
    }
   ],
   "source": [
    "df.head(2)"
   ]
  },
  {
   "cell_type": "markdown",
   "id": "8bc376cd-eefa-4751-b180-594bcdfdc9fa",
   "metadata": {},
   "source": [
    "# Installs Column\n"
   ]
  },
  {
   "cell_type": "code",
   "execution_count": 24,
   "id": "fa109a04-35a9-413c-8cba-08b3fae27c1c",
   "metadata": {},
   "outputs": [
    {
     "data": {
      "text/plain": [
       "array(['10,000+', '500,000+', '5,000,000+', '50,000,000+', '100,000+',\n",
       "       '50,000+', '1,000,000+', '10,000,000+', '5,000+', '100,000,000+',\n",
       "       '1,000,000,000+', '1,000+', '500,000,000+', '50+', '100+', '500+',\n",
       "       '10+', '1+', '5+', '0+', '0'], dtype=object)"
      ]
     },
     "execution_count": 24,
     "metadata": {},
     "output_type": "execute_result"
    }
   ],
   "source": [
    "df['Installs'].unique()"
   ]
  },
  {
   "cell_type": "code",
   "execution_count": 25,
   "id": "d1aad689-8c06-4939-aec3-359b684bf89f",
   "metadata": {},
   "outputs": [
    {
     "data": {
      "text/plain": [
       "np.int64(0)"
      ]
     },
     "execution_count": 25,
     "metadata": {},
     "output_type": "execute_result"
    }
   ],
   "source": [
    "df['Installs'].isnull().sum()"
   ]
  },
  {
   "cell_type": "markdown",
   "id": "c7520216-e7ba-4888-934c-5dccb3fb7cc8",
   "metadata": {},
   "source": [
    "# Observations\n",
    "##### no Null Values in Installs column\n",
    "##### gotta remove (+) sign\n",
    "##### gotta remove (,)\n",
    "##### Convert To Integer"
   ]
  },
  {
   "cell_type": "code",
   "execution_count": 26,
   "id": "fb60c69a-5087-4abd-b4f5-78624c91c10a",
   "metadata": {},
   "outputs": [],
   "source": [
    "df['Installs'] = df['Installs'].apply(lambda x : x.replace(\"+\",\"\") if '+' in str(x) else x)"
   ]
  },
  {
   "cell_type": "code",
   "execution_count": 27,
   "id": "be48aeb3-4a39-4328-bd76-8b88594d7159",
   "metadata": {},
   "outputs": [
    {
     "data": {
      "text/plain": [
       "array(['10,000', '500,000', '5,000,000', '50,000,000', '100,000',\n",
       "       '50,000', '1,000,000', '10,000,000', '5,000', '100,000,000',\n",
       "       '1,000,000,000', '1,000', '500,000,000', '50', '100', '500', '10',\n",
       "       '1', '5', '0'], dtype=object)"
      ]
     },
     "execution_count": 27,
     "metadata": {},
     "output_type": "execute_result"
    }
   ],
   "source": [
    "df['Installs'].unique()"
   ]
  },
  {
   "cell_type": "code",
   "execution_count": 28,
   "id": "de2a0a7c-46b5-4889-855b-5128ed726742",
   "metadata": {},
   "outputs": [],
   "source": [
    "df['Installs'] = df['Installs'].apply(lambda x : x.replace(\",\",\"\") if ',' in str(x) else x)"
   ]
  },
  {
   "cell_type": "code",
   "execution_count": 29,
   "id": "69a75fcf-0fb3-4025-ad40-6f30e1d01910",
   "metadata": {},
   "outputs": [
    {
     "data": {
      "text/plain": [
       "array(['10000', '500000', '5000000', '50000000', '100000', '50000',\n",
       "       '1000000', '10000000', '5000', '100000000', '1000000000', '1000',\n",
       "       '500000000', '50', '100', '500', '10', '1', '5', '0'], dtype=object)"
      ]
     },
     "execution_count": 29,
     "metadata": {},
     "output_type": "execute_result"
    }
   ],
   "source": [
    "df['Installs'].unique()"
   ]
  },
  {
   "cell_type": "code",
   "execution_count": 30,
   "id": "c4b482fa-5a56-4e5a-ba57-bf7e393df300",
   "metadata": {},
   "outputs": [],
   "source": [
    "df['Installs'] = df['Installs'].astype('int64')"
   ]
  },
  {
   "cell_type": "code",
   "execution_count": 31,
   "id": "638b8e96-457d-4f02-9cda-2a8f152bdb9f",
   "metadata": {},
   "outputs": [
    {
     "data": {
      "text/plain": [
       "array([     10000,     500000,    5000000,   50000000,     100000,\n",
       "            50000,    1000000,   10000000,       5000,  100000000,\n",
       "       1000000000,       1000,  500000000,         50,        100,\n",
       "              500,         10,          1,          5,          0])"
      ]
     },
     "execution_count": 31,
     "metadata": {},
     "output_type": "execute_result"
    }
   ],
   "source": [
    "df['Installs'].unique()"
   ]
  },
  {
   "cell_type": "code",
   "execution_count": 32,
   "id": "f80c39fd-80b5-477e-a73b-2b70d29daeb0",
   "metadata": {},
   "outputs": [
    {
     "data": {
      "text/plain": [
       "dtype('int64')"
      ]
     },
     "execution_count": 32,
     "metadata": {},
     "output_type": "execute_result"
    }
   ],
   "source": [
    "df.Installs.dtype"
   ]
  },
  {
   "cell_type": "markdown",
   "id": "125b252e-837b-458e-827c-8aeaeb4ee0ca",
   "metadata": {},
   "source": [
    "- We can generate a new columns based on the installation values, which will be helpful in our analysis"
   ]
  },
  {
   "cell_type": "code",
   "execution_count": 33,
   "id": "187f501a-a650-4f61-a204-e6dd09ee4d78",
   "metadata": {},
   "outputs": [
    {
     "data": {
      "text/plain": [
       "np.int64(1000000000)"
      ]
     },
     "execution_count": 33,
     "metadata": {},
     "output_type": "execute_result"
    }
   ],
   "source": [
    "df.Installs.max()"
   ]
  },
  {
   "cell_type": "code",
   "execution_count": 34,
   "id": "33309ba4-2e89-4d48-b933-0c0d7b2e96fc",
   "metadata": {},
   "outputs": [],
   "source": [
    "# making a new column called 'Installs_category' which will have the category of the installs\n",
    "bins = [-1,0,10, 1000, 10000, 100000, 1000000, 10000000, 10000000000]\n",
    "labels = ['no', 'Very low', 'Low', 'Moderate', 'More than moderate', 'High', 'Very High', 'Top Notch']\n",
    "df['Installs_category'] = pd.cut(df['Installs'], bins=bins, labels=labels)"
   ]
  },
  {
   "cell_type": "code",
   "execution_count": 35,
   "id": "c818b0c2-5026-49e1-af7d-a62b0eb6df34",
   "metadata": {},
   "outputs": [
    {
     "data": {
      "text/plain": [
       "0              Moderate\n",
       "1                  High\n",
       "2             Very High\n",
       "3             Top Notch\n",
       "4    More than moderate\n",
       "Name: Installs_category, dtype: category\n",
       "Categories (8, object): ['no' < 'Very low' < 'Low' < 'Moderate' < 'More than moderate' < 'High' < 'Very High' < 'Top Notch']"
      ]
     },
     "execution_count": 35,
     "metadata": {},
     "output_type": "execute_result"
    }
   ],
   "source": [
    "df.Installs_category.head()"
   ]
  },
  {
   "cell_type": "code",
   "execution_count": 36,
   "id": "e7edcd50-d3c7-48a3-b190-73c86f8cae7b",
   "metadata": {},
   "outputs": [
    {
     "data": {
      "text/plain": [
       "Installs_category\n",
       "no                      15\n",
       "Very low               535\n",
       "Top Notch              828\n",
       "Moderate              1531\n",
       "More than moderate    1648\n",
       "Very High             2004\n",
       "High                  2118\n",
       "Low                   2162\n",
       "Name: count, dtype: int64"
      ]
     },
     "execution_count": 36,
     "metadata": {},
     "output_type": "execute_result"
    }
   ],
   "source": [
    "df['Installs_category'].value_counts().sort_values()"
   ]
  },
  {
   "cell_type": "code",
   "execution_count": null,
   "id": "7b7f9df8-7e5e-4805-a367-7b427be8aeb9",
   "metadata": {},
   "outputs": [],
   "source": []
  },
  {
   "cell_type": "markdown",
   "id": "879093f4-3a38-4020-b4a8-eab1446a0d47",
   "metadata": {},
   "source": [
    "# Price Column"
   ]
  },
  {
   "cell_type": "code",
   "execution_count": 37,
   "id": "7c345fa9-1461-41c1-afe9-dd34f228e70c",
   "metadata": {},
   "outputs": [
    {
     "data": {
      "text/plain": [
       "array(['0', '$4.99', '$3.99', '$6.99', '$1.49', '$2.99', '$7.99', '$5.99',\n",
       "       '$3.49', '$1.99', '$9.99', '$7.49', '$0.99', '$9.00', '$5.49',\n",
       "       '$10.00', '$24.99', '$11.99', '$79.99', '$16.99', '$14.99',\n",
       "       '$1.00', '$29.99', '$12.99', '$2.49', '$10.99', '$1.50', '$19.99',\n",
       "       '$15.99', '$33.99', '$74.99', '$39.99', '$3.95', '$4.49', '$1.70',\n",
       "       '$8.99', '$2.00', '$3.88', '$25.99', '$399.99', '$17.99',\n",
       "       '$400.00', '$3.02', '$1.76', '$4.84', '$4.77', '$1.61', '$2.50',\n",
       "       '$1.59', '$6.49', '$1.29', '$5.00', '$13.99', '$299.99', '$379.99',\n",
       "       '$37.99', '$18.99', '$389.99', '$19.90', '$8.49', '$1.75',\n",
       "       '$14.00', '$4.85', '$46.99', '$109.99', '$154.99', '$3.08',\n",
       "       '$2.59', '$4.80', '$1.96', '$19.40', '$3.90', '$4.59', '$15.46',\n",
       "       '$3.04', '$4.29', '$2.60', '$3.28', '$4.60', '$28.99', '$2.95',\n",
       "       '$2.90', '$1.97', '$200.00', '$89.99', '$2.56', '$30.99', '$3.61',\n",
       "       '$394.99', '$1.26', '$1.20', '$1.04'], dtype=object)"
      ]
     },
     "execution_count": 37,
     "metadata": {},
     "output_type": "execute_result"
    }
   ],
   "source": [
    "df['Price'].unique()"
   ]
  },
  {
   "cell_type": "markdown",
   "id": "673475d2-37cc-4bd4-bdff-8c61da6bf529",
   "metadata": {},
   "source": [
    "# Observations\n",
    "##### There is $ sign We Gotta remove that"
   ]
  },
  {
   "cell_type": "code",
   "execution_count": 38,
   "id": "e493e4d3-fd27-48ee-a6c6-086d923d2678",
   "metadata": {},
   "outputs": [
    {
     "data": {
      "text/plain": [
       "np.int64(800)"
      ]
     },
     "execution_count": 38,
     "metadata": {},
     "output_type": "execute_result"
    }
   ],
   "source": [
    "df['Price'].loc[df['Price'].str.contains('\\$')].value_counts().sum()"
   ]
  },
  {
   "cell_type": "code",
   "execution_count": 39,
   "id": "fa3bddb9-6c5b-41fc-a3fa-b4dd622eebea",
   "metadata": {},
   "outputs": [],
   "source": [
    "# remove the dollar sign from the price column and convert it to numeric\n",
    "df['Price'] = df['Price'].apply(lambda x: x.replace('$', '') if '$' in str(x) else x)\n",
    "df['Price'] = df['Price'].apply(lambda x: float(x))"
   ]
  },
  {
   "cell_type": "code",
   "execution_count": 40,
   "id": "2cba1453-9779-4e21-91ce-2eb5c80b75e7",
   "metadata": {},
   "outputs": [
    {
     "data": {
      "text/plain": [
       "Price\n",
       "0.00      10041\n",
       "0.99        148\n",
       "2.99        129\n",
       "1.99         73\n",
       "4.99         72\n",
       "          ...  \n",
       "3.61          1\n",
       "394.99        1\n",
       "1.26          1\n",
       "1.20          1\n",
       "1.04          1\n",
       "Name: count, Length: 92, dtype: int64"
      ]
     },
     "execution_count": 40,
     "metadata": {},
     "output_type": "execute_result"
    }
   ],
   "source": [
    "df['Price'].value_counts()"
   ]
  },
  {
   "cell_type": "code",
   "execution_count": 41,
   "id": "58b06d6f-88e6-4581-914b-742efeb84614",
   "metadata": {},
   "outputs": [
    {
     "name": "stdout",
     "output_type": "stream",
     "text": [
      "Min price is: 0.0 $\n",
      "Max price is: 400.0 $\n",
      "Average price is: 1.0272733142699015 $\n"
     ]
    }
   ],
   "source": [
    "# using f string to print the min, max and average price of the apps\n",
    "print(f\"Min price is: {df['Price'].min()} $\")\n",
    "print(f\"Max price is: {df['Price'].max()} $\")\n",
    "print(f\"Average price is: {df['Price'].mean()} $\")"
   ]
  },
  {
   "cell_type": "code",
   "execution_count": 42,
   "id": "4051dec6-b0b0-4fb9-8762-b8d6a839b7b9",
   "metadata": {},
   "outputs": [
    {
     "data": {
      "text/html": [
       "<div>\n",
       "<style scoped>\n",
       "    .dataframe tbody tr th:only-of-type {\n",
       "        vertical-align: middle;\n",
       "    }\n",
       "\n",
       "    .dataframe tbody tr th {\n",
       "        vertical-align: top;\n",
       "    }\n",
       "\n",
       "    .dataframe thead th {\n",
       "        text-align: right;\n",
       "    }\n",
       "</style>\n",
       "<table border=\"1\" class=\"dataframe\">\n",
       "  <thead>\n",
       "    <tr style=\"text-align: right;\">\n",
       "      <th></th>\n",
       "      <th>Rating</th>\n",
       "      <th>Reviews</th>\n",
       "      <th>size_in_bytes</th>\n",
       "      <th>Installs</th>\n",
       "      <th>Price</th>\n",
       "      <th>size-in_Mb</th>\n",
       "    </tr>\n",
       "  </thead>\n",
       "  <tbody>\n",
       "    <tr>\n",
       "      <th>count</th>\n",
       "      <td>9367.000000</td>\n",
       "      <td>1.084100e+04</td>\n",
       "      <td>9.146000e+03</td>\n",
       "      <td>1.084100e+04</td>\n",
       "      <td>10841.000000</td>\n",
       "      <td>9146.000000</td>\n",
       "    </tr>\n",
       "    <tr>\n",
       "      <th>mean</th>\n",
       "      <td>4.191513</td>\n",
       "      <td>4.441119e+05</td>\n",
       "      <td>2.255921e+07</td>\n",
       "      <td>1.546291e+07</td>\n",
       "      <td>1.027273</td>\n",
       "      <td>21.514141</td>\n",
       "    </tr>\n",
       "    <tr>\n",
       "      <th>std</th>\n",
       "      <td>0.515735</td>\n",
       "      <td>2.927629e+06</td>\n",
       "      <td>2.368595e+07</td>\n",
       "      <td>8.502557e+07</td>\n",
       "      <td>15.948971</td>\n",
       "      <td>22.588679</td>\n",
       "    </tr>\n",
       "    <tr>\n",
       "      <th>min</th>\n",
       "      <td>1.000000</td>\n",
       "      <td>0.000000e+00</td>\n",
       "      <td>8.704000e+03</td>\n",
       "      <td>0.000000e+00</td>\n",
       "      <td>0.000000</td>\n",
       "      <td>0.008301</td>\n",
       "    </tr>\n",
       "    <tr>\n",
       "      <th>25%</th>\n",
       "      <td>4.000000</td>\n",
       "      <td>3.800000e+01</td>\n",
       "      <td>5.138022e+06</td>\n",
       "      <td>1.000000e+03</td>\n",
       "      <td>0.000000</td>\n",
       "      <td>4.900000</td>\n",
       "    </tr>\n",
       "    <tr>\n",
       "      <th>50%</th>\n",
       "      <td>4.300000</td>\n",
       "      <td>2.094000e+03</td>\n",
       "      <td>1.363149e+07</td>\n",
       "      <td>1.000000e+05</td>\n",
       "      <td>0.000000</td>\n",
       "      <td>13.000000</td>\n",
       "    </tr>\n",
       "    <tr>\n",
       "      <th>75%</th>\n",
       "      <td>4.500000</td>\n",
       "      <td>5.476800e+04</td>\n",
       "      <td>3.145728e+07</td>\n",
       "      <td>5.000000e+06</td>\n",
       "      <td>0.000000</td>\n",
       "      <td>30.000000</td>\n",
       "    </tr>\n",
       "    <tr>\n",
       "      <th>max</th>\n",
       "      <td>5.000000</td>\n",
       "      <td>7.815831e+07</td>\n",
       "      <td>1.048576e+08</td>\n",
       "      <td>1.000000e+09</td>\n",
       "      <td>400.000000</td>\n",
       "      <td>100.000000</td>\n",
       "    </tr>\n",
       "  </tbody>\n",
       "</table>\n",
       "</div>"
      ],
      "text/plain": [
       "            Rating       Reviews  size_in_bytes      Installs         Price  \\\n",
       "count  9367.000000  1.084100e+04   9.146000e+03  1.084100e+04  10841.000000   \n",
       "mean      4.191513  4.441119e+05   2.255921e+07  1.546291e+07      1.027273   \n",
       "std       0.515735  2.927629e+06   2.368595e+07  8.502557e+07     15.948971   \n",
       "min       1.000000  0.000000e+00   8.704000e+03  0.000000e+00      0.000000   \n",
       "25%       4.000000  3.800000e+01   5.138022e+06  1.000000e+03      0.000000   \n",
       "50%       4.300000  2.094000e+03   1.363149e+07  1.000000e+05      0.000000   \n",
       "75%       4.500000  5.476800e+04   3.145728e+07  5.000000e+06      0.000000   \n",
       "max       5.000000  7.815831e+07   1.048576e+08  1.000000e+09    400.000000   \n",
       "\n",
       "        size-in_Mb  \n",
       "count  9146.000000  \n",
       "mean     21.514141  \n",
       "std      22.588679  \n",
       "min       0.008301  \n",
       "25%       4.900000  \n",
       "50%      13.000000  \n",
       "75%      30.000000  \n",
       "max     100.000000  "
      ]
     },
     "execution_count": 42,
     "metadata": {},
     "output_type": "execute_result"
    }
   ],
   "source": [
    "df.describe()"
   ]
  },
  {
   "cell_type": "markdown",
   "id": "b6853687-c056-4b12-8ec9-0532227d7bd5",
   "metadata": {},
   "source": [
    "# Observations:\n",
    "\n",
    "- Now, we have only 6 columns as numeric data type.\n",
    "- We can observe their descriptive statistics. and make tons of observations as per our hypotheses.\n",
    "- We can see that the Rating column has a minimum value of 1 and a maximum value of 5, which is the range of rating, and the mean is 4.19 which is a good rating. On an average people give this rating.\n",
    "- We can see that the Reviews column has a minimum value of 0 and a maximum value of 78,158,306 78+ Millions, which is the range of reviews, and the mean is 444,111.93 which is a good number of reviews. On an average people give this number of reviews to the apps. But it does not make sense to us, as we have different categories of apps.\n",
    "- Similarly, we can observe the other columns as well.\n",
    "\n",
    "Therefore, the most important thing is to classify as app based on the correlation matrix and then observe the descriptive statistics of the app category and number of installs, reviews, ratings, etc."
   ]
  },
  {
   "cell_type": "markdown",
   "id": "a926832c-f4d9-4496-8df1-ec12abd2cc75",
   "metadata": {},
   "source": [
    "# Handling Missing Values"
   ]
  },
  {
   "cell_type": "code",
   "execution_count": 43,
   "id": "77aa287f-b283-4f17-9838-007d2ba0e934",
   "metadata": {},
   "outputs": [
    {
     "data": {
      "text/plain": [
       "size_in_bytes        1695\n",
       "size-in_Mb           1695\n",
       "Rating               1474\n",
       "Current Ver             8\n",
       "Android Ver             2\n",
       "Type                    1\n",
       "Category                1\n",
       "Genres                  1\n",
       "Installs                0\n",
       "App                     0\n",
       "Reviews                 0\n",
       "Last Updated            0\n",
       "Content Rating          0\n",
       "Price                   0\n",
       "Installs_category       0\n",
       "dtype: int64"
      ]
     },
     "execution_count": 43,
     "metadata": {},
     "output_type": "execute_result"
    }
   ],
   "source": [
    "df.isnull().sum().sort_values(ascending=False)"
   ]
  },
  {
   "cell_type": "code",
   "execution_count": 44,
   "id": "345aaa3d-82aa-4996-83ff-f1725f156ca4",
   "metadata": {},
   "outputs": [],
   "source": [
    "df.rename(columns={'size-in_Mb':'size_in_Mb'},inplace=True)"
   ]
  },
  {
   "cell_type": "code",
   "execution_count": 45,
   "id": "84ea01e4-ebe3-4db3-a6a5-9407df532eaa",
   "metadata": {},
   "outputs": [
    {
     "data": {
      "text/plain": [
       "App                   0.00\n",
       "Category              0.01\n",
       "Rating               13.60\n",
       "Reviews               0.00\n",
       "size_in_bytes        15.64\n",
       "Installs              0.00\n",
       "Type                  0.01\n",
       "Price                 0.00\n",
       "Content Rating        0.00\n",
       "Genres                0.01\n",
       "Last Updated          0.00\n",
       "Current Ver           0.07\n",
       "Android Ver           0.02\n",
       "size_in_Mb           15.64\n",
       "Installs_category     0.00\n",
       "dtype: float64"
      ]
     },
     "execution_count": 45,
     "metadata": {},
     "output_type": "execute_result"
    }
   ],
   "source": [
    "round(df.isnull().sum()/len(df)*100,2)"
   ]
  },
  {
   "cell_type": "code",
   "execution_count": 46,
   "id": "27586cdc-3f5d-4a50-bf57-4b430091e02b",
   "metadata": {},
   "outputs": [
    {
     "data": {
      "image/png": "[encoded data removed]",
      "text/plain": [
       "<Figure size 640x480 with 2 Axes>"
      ]
     },
     "metadata": {},
     "output_type": "display_data"
    }
   ],
   "source": [
    "sns.heatmap(df.isnull())\n",
    "plt.show()"
   ]
  },
  {
   "cell_type": "markdown",
   "id": "7c1b6135-132a-4cd2-b16e-e1ee4c6ea3e2",
   "metadata": {},
   "source": [
    "## size_in_bytes and size_in_Mb are same so Ratings Have Most missing values"
   ]
  },
  {
   "cell_type": "markdown",
   "id": "80b7c345-cdda-4426-8687-29629a9aae0d",
   "metadata": {},
   "source": [
    "# Observations:\n",
    "- We have 1695 missing values in the 'Size_in_bytes' and 'Size_in_Mb' columns, which is 15.6% of the total values in the column.\n",
    "- We have 1474 missing values in the 'Rating' column, which is 13.6% of the total values in the column.\n",
    "- We have 8 missing value in the 'Current Ver' column, which is 0.07% of the total values in the column.\n",
    "- We have 2 missing values in the 'Android Ver' column, which is 0.01% of the total values in the column.\n",
    "- We have only 1 missing value in Category, Type and Genres columns, which is 0.009% of the total values in the column."
   ]
  },
  {
   "cell_type": "markdown",
   "id": "59e264e5-8845-4ff4-bc69-7c4f27648271",
   "metadata": {},
   "source": [
    "- We can not impute the Rating column as is is directly linked with the installation column. To test this Hypothesis we need to plot the Rating column with the Installs and Size columns and statistically test it using pearson correlation test."
   ]
  },
  {
   "cell_type": "code",
   "execution_count": 47,
   "id": "e9586327-3cbd-4364-83ea-f6cc633a122c",
   "metadata": {},
   "outputs": [
    {
     "data": {
      "text/plain": [
       "<Axes: >"
      ]
     },
     "execution_count": 47,
     "metadata": {},
     "output_type": "execute_result"
    },
    {
     "data": {
      "image/png": "[encoded data removed]",
      "text/plain": [
       "<Figure size 640x480 with 2 Axes>"
      ]
     },
     "metadata": {},
     "output_type": "display_data"
    }
   ],
   "source": [
    "numeric_cols = ['Rating', 'Reviews', 'size_in_bytes', 'Installs', 'Price', 'size_in_Mb']\n",
    "sns.heatmap(df[numeric_cols].corr(), annot=True) "
   ]
  },
  {
   "cell_type": "code",
   "execution_count": 48,
   "id": "6e3f6736-c8ac-4ed3-b459-ab3b64e0b4a8",
   "metadata": {},
   "outputs": [
    {
     "data": {
      "text/html": [
       "<div>\n",
       "<style scoped>\n",
       "    .dataframe tbody tr th:only-of-type {\n",
       "        vertical-align: middle;\n",
       "    }\n",
       "\n",
       "    .dataframe tbody tr th {\n",
       "        vertical-align: top;\n",
       "    }\n",
       "\n",
       "    .dataframe thead th {\n",
       "        text-align: right;\n",
       "    }\n",
       "</style>\n",
       "<table border=\"1\" class=\"dataframe\">\n",
       "  <thead>\n",
       "    <tr style=\"text-align: right;\">\n",
       "      <th></th>\n",
       "      <th>Rating</th>\n",
       "      <th>Reviews</th>\n",
       "      <th>size_in_bytes</th>\n",
       "      <th>Installs</th>\n",
       "      <th>Price</th>\n",
       "      <th>size_in_Mb</th>\n",
       "    </tr>\n",
       "  </thead>\n",
       "  <tbody>\n",
       "    <tr>\n",
       "      <th>Rating</th>\n",
       "      <td>1.000000</td>\n",
       "      <td>0.068147</td>\n",
       "      <td>0.084098</td>\n",
       "      <td>0.051393</td>\n",
       "      <td>-0.021851</td>\n",
       "      <td>0.084098</td>\n",
       "    </tr>\n",
       "    <tr>\n",
       "      <th>Reviews</th>\n",
       "      <td>0.068147</td>\n",
       "      <td>1.000000</td>\n",
       "      <td>0.238218</td>\n",
       "      <td>0.643123</td>\n",
       "      <td>-0.009666</td>\n",
       "      <td>0.238218</td>\n",
       "    </tr>\n",
       "    <tr>\n",
       "      <th>size_in_bytes</th>\n",
       "      <td>0.084098</td>\n",
       "      <td>0.238218</td>\n",
       "      <td>1.000000</td>\n",
       "      <td>0.164794</td>\n",
       "      <td>-0.023000</td>\n",
       "      <td>1.000000</td>\n",
       "    </tr>\n",
       "    <tr>\n",
       "      <th>Installs</th>\n",
       "      <td>0.051393</td>\n",
       "      <td>0.643123</td>\n",
       "      <td>0.164794</td>\n",
       "      <td>1.000000</td>\n",
       "      <td>-0.011688</td>\n",
       "      <td>0.164794</td>\n",
       "    </tr>\n",
       "    <tr>\n",
       "      <th>Price</th>\n",
       "      <td>-0.021851</td>\n",
       "      <td>-0.009666</td>\n",
       "      <td>-0.023000</td>\n",
       "      <td>-0.011688</td>\n",
       "      <td>1.000000</td>\n",
       "      <td>-0.023000</td>\n",
       "    </tr>\n",
       "    <tr>\n",
       "      <th>size_in_Mb</th>\n",
       "      <td>0.084098</td>\n",
       "      <td>0.238218</td>\n",
       "      <td>1.000000</td>\n",
       "      <td>0.164794</td>\n",
       "      <td>-0.023000</td>\n",
       "      <td>1.000000</td>\n",
       "    </tr>\n",
       "  </tbody>\n",
       "</table>\n",
       "</div>"
      ],
      "text/plain": [
       "                 Rating   Reviews  size_in_bytes  Installs     Price  \\\n",
       "Rating         1.000000  0.068147       0.084098  0.051393 -0.021851   \n",
       "Reviews        0.068147  1.000000       0.238218  0.643123 -0.009666   \n",
       "size_in_bytes  0.084098  0.238218       1.000000  0.164794 -0.023000   \n",
       "Installs       0.051393  0.643123       0.164794  1.000000 -0.011688   \n",
       "Price         -0.021851 -0.009666      -0.023000 -0.011688  1.000000   \n",
       "size_in_Mb     0.084098  0.238218       1.000000  0.164794 -0.023000   \n",
       "\n",
       "               size_in_Mb  \n",
       "Rating           0.084098  \n",
       "Reviews          0.238218  \n",
       "size_in_bytes    1.000000  \n",
       "Installs         0.164794  \n",
       "Price           -0.023000  \n",
       "size_in_Mb       1.000000  "
      ]
     },
     "execution_count": 48,
     "metadata": {},
     "output_type": "execute_result"
    }
   ],
   "source": [
    "df[numeric_cols].corr()"
   ]
  },
  {
   "cell_type": "markdown",
   "id": "da49b6e8-22c5-490e-8f25-faf734fc7490",
   "metadata": {},
   "source": [
    "# Observations\n",
    "\n",
    "- Lighter color shows the high correlation and darker color shows the low correlation\n",
    "- We can see that the Reviews column has a high correlation with the Installs column, which is 0.64 according to corr(). Which is quite good.\n",
    "    - This shows that the more the reviews the more the installs are for one app. If in any case we need to impute reviews we have to think of number of install.\n",
    "        - If we have an ap with 2 installs and we imputer the reviews with 1000 or via average reviews then it will be wrong.\n",
    "- Installs is slightly correlated with Size_in_Mb or Size_in_bytes , which is 0.16, this also shows us the importance of size and Installs. But we can not depend on it as the Peason correlation is very low.\n",
    "-------"
   ]
  },
  {
   "cell_type": "markdown",
   "id": "96fd38fc-2262-4fea-945d-a3ed651d26e7",
   "metadata": {},
   "source": [
    "- Before going ahead, let's remove the rows with missing values in the Current Ver, Android Ver, Category, Type and Genres columns, as they are very less in number and will not affect our analysis."
   ]
  },
  {
   "cell_type": "code",
   "execution_count": 49,
   "id": "d7d21e1b-ba07-4c7f-bf12-eca9c8d6c9bd",
   "metadata": {},
   "outputs": [
    {
     "data": {
      "text/plain": [
       "10841"
      ]
     },
     "execution_count": 49,
     "metadata": {},
     "output_type": "execute_result"
    }
   ],
   "source": [
    "len(df)"
   ]
  },
  {
   "cell_type": "code",
   "execution_count": 50,
   "id": "e2e176fa-d3d7-43f2-9450-92f5ec77da7e",
   "metadata": {},
   "outputs": [],
   "source": [
    "df.dropna(subset=['Current Ver', 'Android Ver', 'Category', 'Type', 'Genres'],inplace=True)"
   ]
  },
  {
   "cell_type": "code",
   "execution_count": 51,
   "id": "f613e703-cc56-46a5-90d3-78302a0b77ce",
   "metadata": {},
   "outputs": [
    {
     "data": {
      "text/plain": [
       "10829"
      ]
     },
     "execution_count": 51,
     "metadata": {},
     "output_type": "execute_result"
    }
   ],
   "source": [
    "len(df)"
   ]
  },
  {
   "cell_type": "code",
   "execution_count": 52,
   "id": "f8783a90-5157-47a8-8940-44139913097e",
   "metadata": {},
   "outputs": [
    {
     "data": {
      "text/plain": [
       "12"
      ]
     },
     "execution_count": 52,
     "metadata": {},
     "output_type": "execute_result"
    }
   ],
   "source": [
    "10841-10829"
   ]
  },
  {
   "cell_type": "markdown",
   "id": "8c30b4a5-373f-49a9-baa6-10ff6dc98c38",
   "metadata": {},
   "source": [
    "- We have removed 12 rows having null values in the Current Ver, Android Ver, Category, Type and Genres columns."
   ]
  },
  {
   "cell_type": "code",
   "execution_count": 53,
   "id": "5beffdf4-1062-4ad9-83e8-4083b1c8e233",
   "metadata": {},
   "outputs": [
    {
     "data": {
      "text/plain": [
       "size_in_bytes        1694\n",
       "size_in_Mb           1694\n",
       "Rating               1469\n",
       "Category                0\n",
       "Reviews                 0\n",
       "Installs                0\n",
       "App                     0\n",
       "Type                    0\n",
       "Price                   0\n",
       "Genres                  0\n",
       "Content Rating          0\n",
       "Last Updated            0\n",
       "Current Ver             0\n",
       "Android Ver             0\n",
       "Installs_category       0\n",
       "dtype: int64"
      ]
     },
     "execution_count": 53,
     "metadata": {},
     "output_type": "execute_result"
    }
   ],
   "source": [
    "df.isnull().sum().sort_values(ascending=False)"
   ]
  },
  {
   "cell_type": "markdown",
   "id": "949893e5-2228-4229-b81b-45e162b65abd",
   "metadata": {},
   "source": [
    "# Observations\n",
    "\n",
    "- Only Rating and Size_in_bytes or Size_in_Mb columns are left with missing values.\n",
    "    - We know that we have to be carefull while deadling with Rating column, as it is directly linked with the Installs column.\n",
    "    - In Size columns we already know about Varies with device values, which we have converted into null values, we do not need to impute at the moment, as every app has different size and nobody can predict that as nearly as possible."
   ]
  },
  {
   "cell_type": "code",
   "execution_count": 54,
   "id": "5d6e5650-09a7-4d9b-9fd1-f5b4b59428f0",
   "metadata": {},
   "outputs": [
    {
     "data": {
      "text/plain": [
       "Installs_category\n",
       "Low                   880\n",
       "Very low              453\n",
       "Moderate               88\n",
       "More than moderate     31\n",
       "no                     14\n",
       "High                    3\n",
       "Very High               0\n",
       "Top Notch               0\n",
       "Name: count, dtype: int64"
      ]
     },
     "execution_count": 54,
     "metadata": {},
     "output_type": "execute_result"
    }
   ],
   "source": [
    "# in which Install_category the Rating has NaN values\n",
    "df['Installs_category'].loc[df['Rating'].isnull()].value_counts()"
   ]
  },
  {
   "cell_type": "code",
   "execution_count": 55,
   "id": "ecb0e714-60cf-4153-9b8b-7ac9e8ca536a",
   "metadata": {},
   "outputs": [
    {
     "data": {
      "text/plain": [
       "<Axes: xlabel='Installs_category', ylabel='Rating'>"
      ]
     },
     "execution_count": 55,
     "metadata": {},
     "output_type": "execute_result"
    },
    {
     "data": {
      "image/png": "[encoded data removed]",
      "text/plain": [
       "<Figure size 1600x600 with 1 Axes>"
      ]
     },
     "metadata": {},
     "output_type": "display_data"
    }
   ],
   "source": [
    "plt.figure(figsize=(16, 6))\n",
    "sns.boxplot(x='Installs_category', y='Rating', hue='Installs_category', data=df)"
   ]
  },
  {
   "cell_type": "code",
   "execution_count": 56,
   "id": "cd01360d-575d-4b29-bfd4-07e944b0cdc4",
   "metadata": {},
   "outputs": [
    {
     "data": {
      "text/plain": [
       "Installs_category\n",
       "no                    0\n",
       "Very low              0\n",
       "Low                   0\n",
       "Moderate              0\n",
       "More than moderate    0\n",
       "High                  0\n",
       "Very High             0\n",
       "Top Notch             0\n",
       "Name: count, dtype: int64"
      ]
     },
     "execution_count": 56,
     "metadata": {},
     "output_type": "execute_result"
    }
   ],
   "source": [
    "# in which Install_category the Rating has NaN values\n",
    "df['Installs_category'].loc[df['Reviews'].isnull()].value_counts()"
   ]
  },
  {
   "cell_type": "code",
   "execution_count": 57,
   "id": "6865bc9e-43f8-46fc-846a-1d28f09d3332",
   "metadata": {},
   "outputs": [
    {
     "data": {
      "text/plain": [
       "<Axes: xlabel='Installs_category', ylabel='Reviews'>"
      ]
     },
     "execution_count": 57,
     "metadata": {},
     "output_type": "execute_result"
    },
    {
     "data": {
      "image/png": "[encoded data removed]",
      "text/plain": [
       "<Figure size 1600x600 with 1 Axes>"
      ]
     },
     "metadata": {},
     "output_type": "display_data"
    }
   ],
   "source": [
    "plt.figure(figsize=(16, 6))\n",
    "sns.boxplot(x='Installs_category', y= 'Reviews', data=df)"
   ]
  },
  {
   "cell_type": "markdown",
   "id": "65d3bd17-f0f0-4f14-9eed-0366bbb7a5fb",
   "metadata": {},
   "source": [
    "- The data looks really imbalance, let's normalize the data using log transformation"
   ]
  },
  {
   "cell_type": "code",
   "execution_count": 58,
   "id": "b4fe6c2e-0b7c-4816-8e67-1f20bd064aac",
   "metadata": {},
   "outputs": [
    {
     "data": {
      "text/plain": [
       "<Axes: xlabel='Installs_category', ylabel='Reviews'>"
      ]
     },
     "execution_count": 58,
     "metadata": {},
     "output_type": "execute_result"
    },
    {
     "data": {
      "image/png": "[encoded data removed]",
      "text/plain": [
       "<Figure size 1600x600 with 1 Axes>"
      ]
     },
     "metadata": {},
     "output_type": "display_data"
    }
   ],
   "source": [
    "plt.figure(figsize=(16, 6))\n",
    "sns.boxplot(x='Installs_category', y= np.log10(df['Reviews']), data=df)"
   ]
  },
  {
   "cell_type": "code",
   "execution_count": 59,
   "id": "3d063684-58b3-4b65-95ed-b2b9f64f19ce",
   "metadata": {},
   "outputs": [
    {
     "data": {
      "text/plain": [
       "<Axes: xlabel='Rating', ylabel='Reviews'>"
      ]
     },
     "execution_count": 59,
     "metadata": {},
     "output_type": "execute_result"
    },
    {
     "data": {
      "image/png": "[encoded data removed]",
      "text/plain": [
       "<Figure size 1600x600 with 1 Axes>"
      ]
     },
     "metadata": {},
     "output_type": "display_data"
    }
   ],
   "source": [
    "# Draw a scatter plot between Rating, Reviews and Installs\n",
    "plt.figure(figsize=(16, 6))\n",
    "sns.scatterplot(x='Rating', y='Reviews', hue='Installs_category', data=df) "
   ]
  },
  {
   "cell_type": "markdown",
   "id": "9ca2dc71-b0f9-4a46-b5cf-50670953ba16",
   "metadata": {},
   "source": [
    "# Duplicates\n",
    "\n",
    "- Removing duplicates is one of the most important part of the data wrangling process, we must remove the duplicates in order to get the correct insights from the data.\n",
    "- If you do not remove duplicates from a dataset, it can lead to incorrect insights and analysis.\n",
    "- Duplicates can skew statistical measures such as mean, median, and standard deviation, and can also lead to over-representation of certain data points.\n",
    "- It is important to remove duplicates to ensure the accuracy and reliability of your data analysis."
   ]
  },
  {
   "cell_type": "code",
   "execution_count": 62,
   "id": "047e5e69-e992-45e8-8ca7-f69be7692c7b",
   "metadata": {},
   "outputs": [
    {
     "data": {
      "text/plain": [
       "np.int64(483)"
      ]
     },
     "execution_count": 62,
     "metadata": {},
     "output_type": "execute_result"
    }
   ],
   "source": [
    "df.duplicated().sum()"
   ]
  },
  {
   "cell_type": "markdown",
   "id": "f0d31f8e-f47c-4d1f-a45f-0b2dc68752be",
   "metadata": {},
   "source": [
    "483 duplicated rows"
   ]
  },
  {
   "cell_type": "code",
   "execution_count": 63,
   "id": "2db4fc78-f427-42a9-868b-b6dd5c972099",
   "metadata": {},
   "outputs": [
    {
     "data": {
      "text/plain": [
       "np.int64(1181)"
      ]
     },
     "execution_count": 63,
     "metadata": {},
     "output_type": "execute_result"
    }
   ],
   "source": [
    "df['App'].duplicated().sum()"
   ]
  },
  {
   "cell_type": "code",
   "execution_count": 65,
   "id": "d4ecdcf5-3b65-425e-bbee-c7ae1cc37919",
   "metadata": {},
   "outputs": [
    {
     "name": "stdout",
     "output_type": "stream",
     "text": [
      "Number of duplicates in df are: 483\n"
     ]
    }
   ],
   "source": [
    "# print the number of duplicates in df\n",
    "print(f\"Number of duplicates in df are: {df.duplicated().sum()}\")"
   ]
  },
  {
   "cell_type": "code",
   "execution_count": 70,
   "id": "52c84b86-b0fe-4003-8e86-b5c77434bb26",
   "metadata": {},
   "outputs": [
    {
     "data": {
      "text/html": [
       "<div>\n",
       "<style scoped>\n",
       "    .dataframe tbody tr th:only-of-type {\n",
       "        vertical-align: middle;\n",
       "    }\n",
       "\n",
       "    .dataframe tbody tr th {\n",
       "        vertical-align: top;\n",
       "    }\n",
       "\n",
       "    .dataframe thead th {\n",
       "        text-align: right;\n",
       "    }\n",
       "</style>\n",
       "<table border=\"1\" class=\"dataframe\">\n",
       "  <thead>\n",
       "    <tr style=\"text-align: right;\">\n",
       "      <th></th>\n",
       "      <th>App</th>\n",
       "      <th>Category</th>\n",
       "      <th>Rating</th>\n",
       "      <th>Reviews</th>\n",
       "      <th>size_in_bytes</th>\n",
       "      <th>Installs</th>\n",
       "      <th>Type</th>\n",
       "      <th>Price</th>\n",
       "      <th>Content Rating</th>\n",
       "      <th>Genres</th>\n",
       "      <th>Last Updated</th>\n",
       "      <th>Current Ver</th>\n",
       "      <th>Android Ver</th>\n",
       "      <th>size_in_Mb</th>\n",
       "      <th>Installs_category</th>\n",
       "    </tr>\n",
       "  </thead>\n",
       "  <tbody>\n",
       "    <tr>\n",
       "      <th>5415</th>\n",
       "      <td>365Scores - Live Scores</td>\n",
       "      <td>SPORTS</td>\n",
       "      <td>4.6</td>\n",
       "      <td>666246</td>\n",
       "      <td>26214400.0</td>\n",
       "      <td>10000000</td>\n",
       "      <td>Free</td>\n",
       "      <td>0.0</td>\n",
       "      <td>Everyone</td>\n",
       "      <td>Sports</td>\n",
       "      <td>July 29, 2018</td>\n",
       "      <td>5.5.9</td>\n",
       "      <td>4.1 and up</td>\n",
       "      <td>25.0</td>\n",
       "      <td>Very High</td>\n",
       "    </tr>\n",
       "    <tr>\n",
       "      <th>3083</th>\n",
       "      <td>365Scores - Live Scores</td>\n",
       "      <td>SPORTS</td>\n",
       "      <td>4.6</td>\n",
       "      <td>666521</td>\n",
       "      <td>26214400.0</td>\n",
       "      <td>10000000</td>\n",
       "      <td>Free</td>\n",
       "      <td>0.0</td>\n",
       "      <td>Everyone</td>\n",
       "      <td>Sports</td>\n",
       "      <td>July 29, 2018</td>\n",
       "      <td>5.5.9</td>\n",
       "      <td>4.1 and up</td>\n",
       "      <td>25.0</td>\n",
       "      <td>Very High</td>\n",
       "    </tr>\n",
       "    <tr>\n",
       "      <th>1755</th>\n",
       "      <td>8 Ball Pool</td>\n",
       "      <td>GAME</td>\n",
       "      <td>4.5</td>\n",
       "      <td>14200344</td>\n",
       "      <td>54525952.0</td>\n",
       "      <td>100000000</td>\n",
       "      <td>Free</td>\n",
       "      <td>0.0</td>\n",
       "      <td>Everyone</td>\n",
       "      <td>Sports</td>\n",
       "      <td>July 31, 2018</td>\n",
       "      <td>4.0.0</td>\n",
       "      <td>4.0.3 and up</td>\n",
       "      <td>52.0</td>\n",
       "      <td>Top Notch</td>\n",
       "    </tr>\n",
       "    <tr>\n",
       "      <th>1703</th>\n",
       "      <td>8 Ball Pool</td>\n",
       "      <td>GAME</td>\n",
       "      <td>4.5</td>\n",
       "      <td>14198602</td>\n",
       "      <td>54525952.0</td>\n",
       "      <td>100000000</td>\n",
       "      <td>Free</td>\n",
       "      <td>0.0</td>\n",
       "      <td>Everyone</td>\n",
       "      <td>Sports</td>\n",
       "      <td>July 31, 2018</td>\n",
       "      <td>4.0.0</td>\n",
       "      <td>4.0.3 and up</td>\n",
       "      <td>52.0</td>\n",
       "      <td>Top Notch</td>\n",
       "    </tr>\n",
       "    <tr>\n",
       "      <th>1871</th>\n",
       "      <td>8 Ball Pool</td>\n",
       "      <td>GAME</td>\n",
       "      <td>4.5</td>\n",
       "      <td>14201891</td>\n",
       "      <td>54525952.0</td>\n",
       "      <td>100000000</td>\n",
       "      <td>Free</td>\n",
       "      <td>0.0</td>\n",
       "      <td>Everyone</td>\n",
       "      <td>Sports</td>\n",
       "      <td>July 31, 2018</td>\n",
       "      <td>4.0.0</td>\n",
       "      <td>4.0.3 and up</td>\n",
       "      <td>52.0</td>\n",
       "      <td>Top Notch</td>\n",
       "    </tr>\n",
       "    <tr>\n",
       "      <th>...</th>\n",
       "      <td>...</td>\n",
       "      <td>...</td>\n",
       "      <td>...</td>\n",
       "      <td>...</td>\n",
       "      <td>...</td>\n",
       "      <td>...</td>\n",
       "      <td>...</td>\n",
       "      <td>...</td>\n",
       "      <td>...</td>\n",
       "      <td>...</td>\n",
       "      <td>...</td>\n",
       "      <td>...</td>\n",
       "      <td>...</td>\n",
       "      <td>...</td>\n",
       "      <td>...</td>\n",
       "    </tr>\n",
       "    <tr>\n",
       "      <th>2590</th>\n",
       "      <td>textPlus: Free Text &amp; Calls</td>\n",
       "      <td>SOCIAL</td>\n",
       "      <td>4.1</td>\n",
       "      <td>382120</td>\n",
       "      <td>29360128.0</td>\n",
       "      <td>10000000</td>\n",
       "      <td>Free</td>\n",
       "      <td>0.0</td>\n",
       "      <td>Everyone</td>\n",
       "      <td>Social</td>\n",
       "      <td>July 26, 2018</td>\n",
       "      <td>7.3.1</td>\n",
       "      <td>4.1 and up</td>\n",
       "      <td>28.0</td>\n",
       "      <td>Very High</td>\n",
       "    </tr>\n",
       "    <tr>\n",
       "      <th>2964</th>\n",
       "      <td>theScore: Live Sports Scores, News, Stats &amp; Vi...</td>\n",
       "      <td>SPORTS</td>\n",
       "      <td>4.4</td>\n",
       "      <td>133825</td>\n",
       "      <td>35651584.0</td>\n",
       "      <td>10000000</td>\n",
       "      <td>Free</td>\n",
       "      <td>0.0</td>\n",
       "      <td>Everyone 10+</td>\n",
       "      <td>Sports</td>\n",
       "      <td>July 25, 2018</td>\n",
       "      <td>6.17.2</td>\n",
       "      <td>4.4 and up</td>\n",
       "      <td>34.0</td>\n",
       "      <td>Very High</td>\n",
       "    </tr>\n",
       "    <tr>\n",
       "      <th>3055</th>\n",
       "      <td>theScore: Live Sports Scores, News, Stats &amp; Vi...</td>\n",
       "      <td>SPORTS</td>\n",
       "      <td>4.4</td>\n",
       "      <td>133833</td>\n",
       "      <td>35651584.0</td>\n",
       "      <td>10000000</td>\n",
       "      <td>Free</td>\n",
       "      <td>0.0</td>\n",
       "      <td>Everyone 10+</td>\n",
       "      <td>Sports</td>\n",
       "      <td>July 25, 2018</td>\n",
       "      <td>6.17.2</td>\n",
       "      <td>4.4 and up</td>\n",
       "      <td>34.0</td>\n",
       "      <td>Very High</td>\n",
       "    </tr>\n",
       "    <tr>\n",
       "      <th>3652</th>\n",
       "      <td>wetter.com - Weather and Radar</td>\n",
       "      <td>WEATHER</td>\n",
       "      <td>4.2</td>\n",
       "      <td>189313</td>\n",
       "      <td>39845888.0</td>\n",
       "      <td>10000000</td>\n",
       "      <td>Free</td>\n",
       "      <td>0.0</td>\n",
       "      <td>Everyone</td>\n",
       "      <td>Weather</td>\n",
       "      <td>August 6, 2018</td>\n",
       "      <td>Varies with device</td>\n",
       "      <td>Varies with device</td>\n",
       "      <td>38.0</td>\n",
       "      <td>Very High</td>\n",
       "    </tr>\n",
       "    <tr>\n",
       "      <th>8291</th>\n",
       "      <td>wetter.com - Weather and Radar</td>\n",
       "      <td>WEATHER</td>\n",
       "      <td>4.2</td>\n",
       "      <td>189310</td>\n",
       "      <td>39845888.0</td>\n",
       "      <td>10000000</td>\n",
       "      <td>Free</td>\n",
       "      <td>0.0</td>\n",
       "      <td>Everyone</td>\n",
       "      <td>Weather</td>\n",
       "      <td>August 6, 2018</td>\n",
       "      <td>Varies with device</td>\n",
       "      <td>Varies with device</td>\n",
       "      <td>38.0</td>\n",
       "      <td>Very High</td>\n",
       "    </tr>\n",
       "  </tbody>\n",
       "</table>\n",
       "<p>1221 rows × 15 columns</p>\n",
       "</div>"
      ],
      "text/plain": [
       "                                                    App Category  Rating  \\\n",
       "5415                            365Scores - Live Scores   SPORTS     4.6   \n",
       "3083                            365Scores - Live Scores   SPORTS     4.6   \n",
       "1755                                        8 Ball Pool     GAME     4.5   \n",
       "1703                                        8 Ball Pool     GAME     4.5   \n",
       "1871                                        8 Ball Pool     GAME     4.5   \n",
       "...                                                 ...      ...     ...   \n",
       "2590                        textPlus: Free Text & Calls   SOCIAL     4.1   \n",
       "2964  theScore: Live Sports Scores, News, Stats & Vi...   SPORTS     4.4   \n",
       "3055  theScore: Live Sports Scores, News, Stats & Vi...   SPORTS     4.4   \n",
       "3652                     wetter.com - Weather and Radar  WEATHER     4.2   \n",
       "8291                     wetter.com - Weather and Radar  WEATHER     4.2   \n",
       "\n",
       "       Reviews  size_in_bytes   Installs  Type  Price Content Rating   Genres  \\\n",
       "5415    666246     26214400.0   10000000  Free    0.0       Everyone   Sports   \n",
       "3083    666521     26214400.0   10000000  Free    0.0       Everyone   Sports   \n",
       "1755  14200344     54525952.0  100000000  Free    0.0       Everyone   Sports   \n",
       "1703  14198602     54525952.0  100000000  Free    0.0       Everyone   Sports   \n",
       "1871  14201891     54525952.0  100000000  Free    0.0       Everyone   Sports   \n",
       "...        ...            ...        ...   ...    ...            ...      ...   \n",
       "2590    382120     29360128.0   10000000  Free    0.0       Everyone   Social   \n",
       "2964    133825     35651584.0   10000000  Free    0.0   Everyone 10+   Sports   \n",
       "3055    133833     35651584.0   10000000  Free    0.0   Everyone 10+   Sports   \n",
       "3652    189313     39845888.0   10000000  Free    0.0       Everyone  Weather   \n",
       "8291    189310     39845888.0   10000000  Free    0.0       Everyone  Weather   \n",
       "\n",
       "        Last Updated         Current Ver         Android Ver  size_in_Mb  \\\n",
       "5415   July 29, 2018               5.5.9          4.1 and up        25.0   \n",
       "3083   July 29, 2018               5.5.9          4.1 and up        25.0   \n",
       "1755   July 31, 2018               4.0.0        4.0.3 and up        52.0   \n",
       "1703   July 31, 2018               4.0.0        4.0.3 and up        52.0   \n",
       "1871   July 31, 2018               4.0.0        4.0.3 and up        52.0   \n",
       "...              ...                 ...                 ...         ...   \n",
       "2590   July 26, 2018               7.3.1          4.1 and up        28.0   \n",
       "2964   July 25, 2018              6.17.2          4.4 and up        34.0   \n",
       "3055   July 25, 2018              6.17.2          4.4 and up        34.0   \n",
       "3652  August 6, 2018  Varies with device  Varies with device        38.0   \n",
       "8291  August 6, 2018  Varies with device  Varies with device        38.0   \n",
       "\n",
       "     Installs_category  \n",
       "5415         Very High  \n",
       "3083         Very High  \n",
       "1755         Top Notch  \n",
       "1703         Top Notch  \n",
       "1871         Top Notch  \n",
       "...                ...  \n",
       "2590         Very High  \n",
       "2964         Very High  \n",
       "3055         Very High  \n",
       "3652         Very High  \n",
       "8291         Very High  \n",
       "\n",
       "[1221 rows x 15 columns]"
      ]
     },
     "execution_count": 70,
     "metadata": {},
     "output_type": "execute_result"
    }
   ],
   "source": [
    "# find exact duplicates and print them\n",
    "df[df['App'].duplicated(keep=False)].sort_values(by='App')"
   ]
  },
  {
   "cell_type": "markdown",
   "id": "52f9991d-996a-4005-b376-7230c82c5ae4",
   "metadata": {},
   "source": [
    "### Remove Duplicates"
   ]
  },
  {
   "cell_type": "code",
   "execution_count": 67,
   "id": "74943167-1295-44fa-b8c4-fc27fe501b85",
   "metadata": {},
   "outputs": [],
   "source": [
    "df.drop_duplicates(inplace=True)"
   ]
  },
  {
   "cell_type": "code",
   "execution_count": 69,
   "id": "e75dbe44-0e59-4500-ad78-31ed480c4750",
   "metadata": {},
   "outputs": [
    {
     "data": {
      "text/plain": [
       "10346"
      ]
     },
     "execution_count": 69,
     "metadata": {},
     "output_type": "execute_result"
    }
   ],
   "source": [
    "len(df)"
   ]
  },
  {
   "cell_type": "markdown",
   "id": "d7eec017-b2e9-4855-b64b-b21696f573da",
   "metadata": {},
   "source": [
    "### from 10829 Rows to we Are now At 10346 Rows after duplicate removal"
   ]
  },
  {
   "cell_type": "markdown",
   "id": "704f84f3-d653-4c8f-bdb4-361f44b9efd9",
   "metadata": {},
   "source": [
    "#  Insights from Data"
   ]
  },
  {
   "cell_type": "markdown",
   "id": "f360e251-673d-4d27-81f0-516d7e6973a0",
   "metadata": {},
   "source": [
    "### Which category has the highest number of apps?"
   ]
  },
  {
   "cell_type": "code",
   "execution_count": 73,
   "id": "aab29511-b221-423b-9cbc-8423e641bc8e",
   "metadata": {},
   "outputs": [
    {
     "data": {
      "text/plain": [
       "Category\n",
       "FAMILY      1939\n",
       "GAME        1121\n",
       "TOOLS        841\n",
       "BUSINESS     427\n",
       "MEDICAL      408\n",
       "Name: count, dtype: int64"
      ]
     },
     "execution_count": 73,
     "metadata": {},
     "output_type": "execute_result"
    }
   ],
   "source": [
    "df.Category.value_counts().head()"
   ]
  },
  {
   "cell_type": "markdown",
   "id": "fce001e5-85fd-449b-b2bc-f9ec3a6887a0",
   "metadata": {},
   "source": [
    "- FAMILY     \n",
    "- GAME        \n",
    "- TOOLS       \n",
    "- BUSINESS     \n",
    "- MEDICAL\\\n",
    "  Has The Highest number of apps"
   ]
  },
  {
   "cell_type": "markdown",
   "id": "db096618-f37f-435a-a12e-61da303c4648",
   "metadata": {},
   "source": [
    "### Which category has the highest number of installs?"
   ]
  },
  {
   "cell_type": "code",
   "execution_count": 74,
   "id": "95b669fb-deaa-4857-ac9e-8029d1d7bd41",
   "metadata": {},
   "outputs": [
    {
     "data": {
      "text/plain": [
       "Category\n",
       "ART_AND_DESIGN           124333100\n",
       "AUTO_AND_VEHICLES         53130211\n",
       "BEAUTY                    27197050\n",
       "BOOKS_AND_REFERENCE     1916468576\n",
       "BUSINESS                 863664865\n",
       "COMICS                    56086150\n",
       "COMMUNICATION          24152276251\n",
       "DATING                   206536107\n",
       "EDUCATION                533952000\n",
       "ENTERTAINMENT           2455660000\n",
       "EVENTS                    15973161\n",
       "FAMILY                 10041632405\n",
       "FINANCE                  770348734\n",
       "FOOD_AND_DRINK           257898751\n",
       "GAME                   31544024415\n",
       "HEALTH_AND_FITNESS      1361022512\n",
       "HOUSE_AND_HOME           125212461\n",
       "LIBRARIES_AND_DEMO        61995910\n",
       "LIFESTYLE                534823539\n",
       "MAPS_AND_NAVIGATION      724281890\n",
       "MEDICAL                   42204177\n",
       "NEWS_AND_MAGAZINES      5393217760\n",
       "PARENTING                 31521110\n",
       "PERSONALIZATION         2074483782\n",
       "PHOTOGRAPHY             9721247655\n",
       "PRODUCTIVITY           12463091369\n",
       "SHOPPING                2573348785\n",
       "SOCIAL                 12513867902\n",
       "SPORTS                  1528574498\n",
       "TOOLS                  11452271905\n",
       "TRAVEL_AND_LOCAL        6361887146\n",
       "VIDEO_PLAYERS           6222002720\n",
       "WEATHER                  426100520\n",
       "Name: Installs, dtype: int64"
      ]
     },
     "execution_count": 74,
     "metadata": {},
     "output_type": "execute_result"
    }
   ],
   "source": [
    "df.groupby('Category')['Installs'].sum()"
   ]
  },
  {
   "cell_type": "code",
   "execution_count": 78,
   "id": "78665a02-de16-442a-a05e-acd5370c218c",
   "metadata": {},
   "outputs": [
    {
     "data": {
      "text/plain": [
       "Category\n",
       "GAME             31544024415\n",
       "COMMUNICATION    24152276251\n",
       "SOCIAL           12513867902\n",
       "PRODUCTIVITY     12463091369\n",
       "TOOLS            11452271905\n",
       "Name: Installs, dtype: int64"
      ]
     },
     "execution_count": 78,
     "metadata": {},
     "output_type": "execute_result"
    }
   ],
   "source": [
    "df.groupby('Category')['Installs'].sum().sort_values(ascending=False).head()"
   ]
  },
  {
   "cell_type": "markdown",
   "id": "7fad9f62-99d1-4406-85e9-c08c9c1fb8c0",
   "metadata": {},
   "source": [
    "### Which category has the highest number of reviews?"
   ]
  },
  {
   "cell_type": "code",
   "execution_count": 79,
   "id": "46f392ae-4e96-41a4-98ce-77cfc4bb40e6",
   "metadata": {},
   "outputs": [
    {
     "data": {
      "text/plain": [
       "Category\n",
       "GAME             1415536650\n",
       "COMMUNICATION     601273552\n",
       "SOCIAL            533576829\n",
       "FAMILY            396771746\n",
       "TOOLS             273181033\n",
       "Name: Reviews, dtype: int64"
      ]
     },
     "execution_count": 79,
     "metadata": {},
     "output_type": "execute_result"
    }
   ],
   "source": [
    "df.groupby('Category')['Reviews'].sum().sort_values(ascending=False).head()"
   ]
  },
  {
   "cell_type": "markdown",
   "id": "5c263289-08a7-4ec3-92d7-75262365b725",
   "metadata": {},
   "source": [
    "### Which category has the highest rating?"
   ]
  },
  {
   "cell_type": "code",
   "execution_count": 83,
   "id": "6485c7e1-cf27-49cd-bf4b-b261a99eca4b",
   "metadata": {},
   "outputs": [
    {
     "data": {
      "text/plain": [
       "Category\n",
       "EVENTS                 4.435556\n",
       "ART_AND_DESIGN         4.377049\n",
       "EDUCATION              4.375969\n",
       "BOOKS_AND_REFERENCE    4.347458\n",
       "PERSONALIZATION        4.333117\n",
       "PARENTING              4.300000\n",
       "GAME                   4.281285\n",
       "BEAUTY                 4.278571\n",
       "HEALTH_AND_FITNESS     4.261450\n",
       "SOCIAL                 4.254918\n",
       "SHOPPING               4.251485\n",
       "WEATHER                4.244000\n",
       "SPORTS                 4.225175\n",
       "PRODUCTIVITY           4.201796\n",
       "FAMILY                 4.191264\n",
       "AUTO_AND_VEHICLES      4.190411\n",
       "PHOTOGRAPHY            4.182895\n",
       "MEDICAL                4.182450\n",
       "LIBRARIES_AND_DEMO     4.179688\n",
       "HOUSE_AND_HOME         4.164706\n",
       "FOOD_AND_DRINK         4.164151\n",
       "COMICS                 4.155172\n",
       "COMMUNICATION          4.151466\n",
       "ENTERTAINMENT          4.136036\n",
       "NEWS_AND_MAGAZINES     4.128505\n",
       "FINANCE                4.127445\n",
       "BUSINESS               4.102593\n",
       "LIFESTYLE              4.096066\n",
       "TRAVEL_AND_LOCAL       4.094146\n",
       "VIDEO_PLAYERS          4.063750\n",
       "MAPS_AND_NAVIGATION    4.051613\n",
       "TOOLS                  4.047203\n",
       "DATING                 3.971698\n",
       "Name: Rating, dtype: float64"
      ]
     },
     "execution_count": 83,
     "metadata": {},
     "output_type": "execute_result"
    }
   ],
   "source": [
    "df.groupby('Category')['Rating'].mean().sort_values(ascending=False)"
   ]
  },
  {
   "cell_type": "markdown",
   "id": "250b076e-d58f-4a15-a0ca-69a3dfa350f0",
   "metadata": {},
   "source": [
    "## number of installs for free vs paid apps "
   ]
  },
  {
   "cell_type": "code",
   "execution_count": 90,
   "id": "fa0a392a-9292-44e6-8841-b9a9260f408e",
   "metadata": {},
   "outputs": [
    {
     "data": {
      "text/plain": [
       "<Axes: xlabel='Type', ylabel='Installs'>"
      ]
     },
     "execution_count": 90,
     "metadata": {},
     "output_type": "execute_result"
    },
    {
     "data": {
      "image/png": "[encoded data removed]",
      "text/plain": [
       "<Figure size 1000x600 with 1 Axes>"
      ]
     },
     "metadata": {},
     "output_type": "display_data"
    }
   ],
   "source": [
    "plt.figure(figsize=(10,6))\n",
    "sns.barplot(df,x='Type',y='Installs')"
   ]
  },
  {
   "cell_type": "code",
   "execution_count": 92,
   "id": "1f9edc22-ee6d-4517-ab68-b340db8615c0",
   "metadata": {},
   "outputs": [
    {
     "data": {
      "text/plain": [
       "<Axes: xlabel='Type', ylabel='Installs'>"
      ]
     },
     "execution_count": 92,
     "metadata": {},
     "output_type": "execute_result"
    },
    {
     "data": {
      "image/png": "[encoded data removed]",
      "text/plain": [
       "<Figure size 640x480 with 1 Axes>"
      ]
     },
     "metadata": {},
     "output_type": "display_data"
    }
   ],
   "source": [
    "sns.scatterplot(df,x='Type',y='Installs',hue='Type')"
   ]
  },
  {
   "cell_type": "markdown",
   "id": "dfc0d307-e191-4e43-8f65-b8113e71538a",
   "metadata": {},
   "source": [
    "## Size_in_Mb vs Installs_category"
   ]
  },
  {
   "cell_type": "code",
   "execution_count": 112,
   "id": "c50651d0-75f4-4aef-bff5-9e55e1c5afef",
   "metadata": {},
   "outputs": [
    {
     "data": {
      "text/plain": [
       "<Axes: xlabel='Installs_category', ylabel='size_in_Mb'>"
      ]
     },
     "execution_count": 112,
     "metadata": {},
     "output_type": "execute_result"
    },
    {
     "data": {
      "image/png": "[encoded data removed]",
      "text/plain": [
       "<Figure size 1600x800 with 1 Axes>"
      ]
     },
     "metadata": {},
     "output_type": "display_data"
    }
   ],
   "source": [
    "plt.figure(figsize=(16,8))\n",
    "sns.barplot(df,x='Installs_category', y='size_in_Mb')"
   ]
  },
  {
   "cell_type": "code",
   "execution_count": 99,
   "id": "7f327d7e-c89d-49d6-b352-36594032c5d8",
   "metadata": {},
   "outputs": [
    {
     "data": {
      "text/plain": [
       "Content Rating\n",
       "Everyone           8372\n",
       "Teen               1146\n",
       "Mature 17+          447\n",
       "Everyone 10+        376\n",
       "Adults only 18+       3\n",
       "Unrated               2\n",
       "Name: count, dtype: int64"
      ]
     },
     "execution_count": 99,
     "metadata": {},
     "output_type": "execute_result"
    }
   ],
   "source": [
    "df['Content Rating'].value_counts()"
   ]
  },
  {
   "cell_type": "code",
   "execution_count": 101,
   "id": "6c9f197a-8ee6-45ca-ae39-6a66de0239ef",
   "metadata": {},
   "outputs": [
    {
     "data": {
      "text/plain": [
       "<Axes: xlabel='Content Rating', ylabel='Installs'>"
      ]
     },
     "execution_count": 101,
     "metadata": {},
     "output_type": "execute_result"
    },
    {
     "data": {
      "image/png": "[encoded data removed]",
      "text/plain": [
       "<Figure size 1600x800 with 1 Axes>"
      ]
     },
     "metadata": {},
     "output_type": "display_data"
    }
   ],
   "source": [
    "plt.figure(figsize=(16,8))\n",
    "sns.barplot(df,x='Content Rating', y='Installs')"
   ]
  },
  {
   "cell_type": "markdown",
   "id": "cf1fdaa5-3951-4937-bd58-7ff7c0ff9c0e",
   "metadata": {},
   "source": [
    "## Top 5 Free Apps By Installs"
   ]
  },
  {
   "cell_type": "code",
   "execution_count": 117,
   "id": "b114b7d6-ae4d-4eb4-b200-b7308a21c1bf",
   "metadata": {},
   "outputs": [
    {
     "data": {
      "text/plain": [
       "<Axes: xlabel='App', ylabel='Installs'>"
      ]
     },
     "execution_count": 117,
     "metadata": {},
     "output_type": "execute_result"
    },
    {
     "data": {
      "image/png": "[encoded data removed]",
      "text/plain": [
       "<Figure size 1600x800 with 1 Axes>"
      ]
     },
     "metadata": {},
     "output_type": "display_data"
    }
   ],
   "source": [
    "plt.figure(figsize=(16,8))\n",
    "sns.barplot(x='App',y='Installs',data=df[df['Type'] == 'Free'].sort_values(by='Installs',ascending=False).head())"
   ]
  },
  {
   "cell_type": "markdown",
   "id": "4ea0479c-74e1-4b1d-a205-4eaa284f73ef",
   "metadata": {},
   "source": [
    "## top 5 free apps by reviews"
   ]
  },
  {
   "cell_type": "code",
   "execution_count": 116,
   "id": "80371f51-175c-4b3c-aeed-967730cb137b",
   "metadata": {},
   "outputs": [
    {
     "data": {
      "text/plain": [
       "<Axes: xlabel='App', ylabel='Reviews'>"
      ]
     },
     "execution_count": 116,
     "metadata": {},
     "output_type": "execute_result"
    },
    {
     "data": {
      "image/png": "[encoded data removed]",
      "text/plain": [
       "<Figure size 1600x800 with 1 Axes>"
      ]
     },
     "metadata": {},
     "output_type": "display_data"
    }
   ],
   "source": [
    "plt.figure(figsize=(16,8))\n",
    "sns.barplot(x='App', y='Reviews', data=df[df['Type'] == 'Free'].sort_values(by='Reviews', ascending=False).head(10))"
   ]
  },
  {
   "cell_type": "markdown",
   "id": "e71c613a-f9e5-4747-8a38-980f6a6ca0b5",
   "metadata": {},
   "source": [
    "## Plot top 5 Paid apps with highest number of reviews"
   ]
  },
  {
   "cell_type": "code",
   "execution_count": 118,
   "id": "5a255014-7aea-4aa9-8c10-e0f7c76d57b3",
   "metadata": {},
   "outputs": [
    {
     "data": {
      "text/plain": [
       "<Axes: xlabel='App', ylabel='Reviews'>"
      ]
     },
     "execution_count": 118,
     "metadata": {},
     "output_type": "execute_result"
    },
    {
     "data": {
      "image/png": "[encoded data removed]",
      "text/plain": [
       "<Figure size 1600x800 with 1 Axes>"
      ]
     },
     "metadata": {},
     "output_type": "display_data"
    }
   ],
   "source": [
    "plt.figure(figsize=(16, 8)) \n",
    "sns.barplot(x='App', y='Reviews', data=df[df['Type'] == 'Paid'].sort_values(by='Reviews', ascending=False).head(5))"
   ]
  },
  {
   "cell_type": "markdown",
   "id": "11d13367-feed-438c-8a1e-d5b5e4c1fc15",
   "metadata": {},
   "source": [
    "## Conclusion\n",
    "\n",
    "This analysis of the Google Play Store dataset has uncovered significant insights into the mobile app ecosystem. Key findings include:\n",
    "\n",
    "- **Diverse App Categories:** A detailed examination of app categories revealed distinct trends in user preferences and market saturation. Certain categories dominate due to their wide appeal, while niche categories show promise for targeted strategies.\n",
    "- **Rating and Review Dynamics:** The correlation between user ratings, reviews, and app performance emphasizes the importance of quality and user engagement. Positive user feedback is a strong indicator of app success, while negative trends highlight areas for improvement.\n",
    "- **Installation and Pricing Strategies:** Our exploration of download trends has highlighted the critical balance between pricing models and user acquisition. The data suggests that strategic pricing can significantly impact an app's market presence and user reach.\n",
    "\n",
    "Overall, this project demonstrates the power of exploratory data analysis in revealing hidden patterns and informing strategic decisions. Future work could include predictive modeling to forecast app performance and deeper segmentation analysis to further understand user behavior. The insights drawn here lay a solid foundation for advanced analytics and targeted business strategies in the dynamic world of mobile apps.\n",
    "\n",
    "---"
   ]
  },
  {
   "cell_type": "code",
   "execution_count": null,
   "id": "940b1637-3d0d-4503-9265-705165721d66",
   "metadata": {},
   "outputs": [],
   "source": []
  }
 ],
 "metadata": {
  "kernelspec": {
   "display_name": "Python 3 (ipykernel)",
   "language": "python",
   "name": "python3"
  },
  "language_info": {
   "codemirror_mode": {
    "name": "ipython",
    "version": 3
   },
   "file_extension": ".py",
   "mimetype": "text/x-python",
   "name": "python",
   "nbconvert_exporter": "python",
   "pygments_lexer": "ipython3",
   "version": "3.9.2"
  }
 },
 "nbformat": 4,
 "nbformat_minor": 5
}
