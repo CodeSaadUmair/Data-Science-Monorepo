{
 "cells": [
  {
   "cell_type": "markdown",
   "id": "419d873c-0ef2-4800-9df5-40ecfd74e646",
   "metadata": {},
   "source": [
    "# Numpy Introduction"
   ]
  },
  {
   "cell_type": "markdown",
   "id": "b5a96e91-da2e-455a-ae2a-90e527095464",
   "metadata": {},
   "source": [
    "## 📌 Introduction\n",
    "NumPy (Numerical Python) is the core package for numerical computing in Python.\n",
    "\n",
    "**It provides:**\n",
    "\n",
    "Efficient array operations\n",
    "\n",
    "Tools for linear algebra, statistics, and more\n",
    "\n",
    "Better performance than native Python lists for numerical tasks\n",
    "\n",
    "**Why NumPy?**\n",
    "\n",
    "Speed: NumPy arrays are stored more efficiently and operate faster than Python lists.\n",
    "Functionality: Offers advanced functions for scientific computing."
   ]
  },
  {
   "cell_type": "code",
   "execution_count": 2,
   "id": "9360bec1-be7d-41de-ae94-1c62d690ef7f",
   "metadata": {},
   "outputs": [],
   "source": [
    "# Install and import numpy\n",
    "# pip install numpy\n",
    "import numpy as np"
   ]
  },
  {
   "cell_type": "markdown",
   "id": "36ed3177-e886-416d-92ce-53d52743a8ff",
   "metadata": {},
   "source": [
    "## 🔢 Basic Concepts\n",
    "Arrays vs Lists\n",
    "\n",
    "**Python List:** Flexible but slow and memory inefficient for numerical operations.\n",
    "\n",
    "**NumPy Array:** Fixed-size, homogeneous type, faster computation."
   ]
  },
  {
   "cell_type": "code",
   "execution_count": 3,
   "id": "9fe4c6ef-f21c-4342-878d-053a50282cbd",
   "metadata": {},
   "outputs": [
    {
     "name": "stdout",
     "output_type": "stream",
     "text": [
      "<class 'list'>\n",
      "<class 'numpy.ndarray'>\n"
     ]
    }
   ],
   "source": [
    "py_list = [1, 2, 3]\n",
    "np_array = np.array([1, 2, 3])\n",
    "\n",
    "print(type(py_list))\n",
    "print(type(np_array))  "
   ]
  },
  {
   "cell_type": "markdown",
   "id": "b9b3d450-96db-4e5d-90ab-2af979f5e4f0",
   "metadata": {},
   "source": [
    "✅ NumPy arrays support vectorized operations, meaning you don’t need loops.\n",
    "\n",
    "## 🧱 Creating Arrays\n",
    "From Python Lists"
   ]
  },
  {
   "cell_type": "code",
   "execution_count": 4,
   "id": "a00ecda1-1a4b-4dff-8874-b6fda56165bc",
   "metadata": {},
   "outputs": [],
   "source": [
    "a = np.array([1, 2, 3])"
   ]
  },
  {
   "cell_type": "markdown",
   "id": "0b99a0de-39c3-47e2-b46c-b9235200ad2d",
   "metadata": {},
   "source": [
    "### functions"
   ]
  },
  {
   "cell_type": "code",
   "execution_count": 6,
   "id": "63d333a2-4f71-492f-99a1-38a5b2f64c16",
   "metadata": {},
   "outputs": [
    {
     "data": {
      "text/plain": [
       "array([0, 2, 4, 6, 8])"
      ]
     },
     "execution_count": 6,
     "metadata": {},
     "output_type": "execute_result"
    }
   ],
   "source": [
    "np.arange(0, 10, 2)"
   ]
  },
  {
   "cell_type": "code",
   "execution_count": 8,
   "id": "c8723d25-9b02-464e-a3be-fc179556e387",
   "metadata": {},
   "outputs": [
    {
     "data": {
      "text/plain": [
       "array([0.  , 0.25, 0.5 , 0.75, 1.  ])"
      ]
     },
     "execution_count": 8,
     "metadata": {},
     "output_type": "execute_result"
    }
   ],
   "source": [
    "np.linspace(0,1,5)"
   ]
  },
  {
   "cell_type": "code",
   "execution_count": 9,
   "id": "281db421-2136-4dfc-93ee-413132483673",
   "metadata": {},
   "outputs": [
    {
     "data": {
      "text/plain": [
       "array([0., 0.])"
      ]
     },
     "execution_count": 9,
     "metadata": {},
     "output_type": "execute_result"
    }
   ],
   "source": [
    "np.zeros(2)"
   ]
  },
  {
   "cell_type": "code",
   "execution_count": 11,
   "id": "f6d9826c-f2d0-40c6-9a1b-1583809c6797",
   "metadata": {},
   "outputs": [
    {
     "data": {
      "text/plain": [
       "array([[0., 0., 0.],\n",
       "       [0., 0., 0.]])"
      ]
     },
     "execution_count": 11,
     "metadata": {},
     "output_type": "execute_result"
    }
   ],
   "source": [
    "np.zeros([2,3])"
   ]
  },
  {
   "cell_type": "code",
   "execution_count": 12,
   "id": "a7975319-3cd0-4a4b-8931-54778c42bd78",
   "metadata": {},
   "outputs": [
    {
     "data": {
      "text/plain": [
       "array([[1., 1., 1.],\n",
       "       [1., 1., 1.]])"
      ]
     },
     "execution_count": 12,
     "metadata": {},
     "output_type": "execute_result"
    }
   ],
   "source": [
    "np.ones([2,3])"
   ]
  },
  {
   "cell_type": "code",
   "execution_count": 13,
   "id": "ebd20218-213e-4205-8e98-86e81054d75b",
   "metadata": {},
   "outputs": [
    {
     "data": {
      "text/plain": [
       "array([[1., 0., 0.],\n",
       "       [0., 1., 0.],\n",
       "       [0., 0., 1.]])"
      ]
     },
     "execution_count": 13,
     "metadata": {},
     "output_type": "execute_result"
    }
   ],
   "source": [
    "np.eye(3)"
   ]
  },
  {
   "cell_type": "code",
   "execution_count": 16,
   "id": "5a7cc61d-7e64-494c-9995-f9214dbb57c7",
   "metadata": {},
   "outputs": [
    {
     "data": {
      "text/plain": [
       "array([[1., 0., 0., 0., 0.],\n",
       "       [0., 1., 0., 0., 0.],\n",
       "       [0., 0., 1., 0., 0.],\n",
       "       [0., 0., 0., 1., 0.],\n",
       "       [0., 0., 0., 0., 1.]])"
      ]
     },
     "execution_count": 16,
     "metadata": {},
     "output_type": "execute_result"
    }
   ],
   "source": [
    "np.eye(5)"
   ]
  },
  {
   "cell_type": "code",
   "execution_count": 28,
   "id": "841d46d2-d3c8-4a9a-8ee7-b25b94477031",
   "metadata": {},
   "outputs": [
    {
     "data": {
      "text/plain": [
       "array([[6, 6, 6, 6, 6, 6],\n",
       "       [6, 6, 6, 6, 6, 6],\n",
       "       [6, 6, 6, 6, 6, 6],\n",
       "       [6, 6, 6, 6, 6, 6],\n",
       "       [6, 6, 6, 6, 6, 6]])"
      ]
     },
     "execution_count": 28,
     "metadata": {},
     "output_type": "execute_result"
    }
   ],
   "source": [
    "np.full((5,6),3*2)"
   ]
  },
  {
   "cell_type": "markdown",
   "id": "93206887-6154-44d6-aae6-346dfe47fccd",
   "metadata": {},
   "source": [
    "## ⚙️ Array Operations\n",
    "#### Element-wise Arithmetic"
   ]
  },
  {
   "cell_type": "code",
   "execution_count": 17,
   "id": "5e51b377-13c2-4cf7-af9e-277ae7719793",
   "metadata": {},
   "outputs": [
    {
     "name": "stdout",
     "output_type": "stream",
     "text": [
      "[5 7 9]\n",
      "[-3 -3 -3]\n",
      "[ 4 10 18]\n",
      "[0 0 0]\n",
      "[1 2 3]\n"
     ]
    }
   ],
   "source": [
    "a = np.array([1,2,3])\n",
    "b = np.array([4,5,6])\n",
    "\n",
    "print(a+b)\n",
    "print(a-b)\n",
    "print(a*b)\n",
    "print(a//b)\n",
    "print(a%b)"
   ]
  },
  {
   "cell_type": "code",
   "execution_count": 18,
   "id": "55978396-277a-4289-9fea-cb87c130ab41",
   "metadata": {},
   "outputs": [
    {
     "name": "stdout",
     "output_type": "stream",
     "text": [
      "[3 4 5]\n"
     ]
    }
   ],
   "source": [
    "c = 2\n",
    "print(a+c)"
   ]
  },
  {
   "cell_type": "code",
   "execution_count": 19,
   "id": "5c761a34-e3df-45ff-8c87-9f76375db1c6",
   "metadata": {},
   "outputs": [
    {
     "name": "stdout",
     "output_type": "stream",
     "text": [
      "[ 8 10 12]\n"
     ]
    }
   ],
   "source": [
    "print(b*c)"
   ]
  },
  {
   "cell_type": "markdown",
   "id": "7e941aee-8ec6-4778-8aa6-3f2d578fc02e",
   "metadata": {},
   "source": [
    "## 🔍 Indexing and Slicing"
   ]
  },
  {
   "cell_type": "code",
   "execution_count": 22,
   "id": "7e87f6bd-2649-4178-8806-72dd75aca3b4",
   "metadata": {},
   "outputs": [
    {
     "name": "stdout",
     "output_type": "stream",
     "text": [
      "10\n",
      "[20 30]\n"
     ]
    }
   ],
   "source": [
    "a = np.array([10, 20, 30, 40])\n",
    "\n",
    "print(a[0])       \n",
    "print(a[1:3])     "
   ]
  },
  {
   "cell_type": "code",
   "execution_count": 23,
   "id": "7df306f2-21e0-4ffb-af92-9a1b84739a6a",
   "metadata": {},
   "outputs": [
    {
     "data": {
      "text/plain": [
       "array([99, 20, 30, 40])"
      ]
     },
     "execution_count": 23,
     "metadata": {},
     "output_type": "execute_result"
    }
   ],
   "source": [
    "a[0] = 99\n",
    "a"
   ]
  },
  {
   "cell_type": "markdown",
   "id": "1ace0ec9-800d-4eff-ae0c-1e31af0beab2",
   "metadata": {},
   "source": [
    "## Attributes"
   ]
  },
  {
   "cell_type": "code",
   "execution_count": 31,
   "id": "bdfa5221-44b0-4d0f-a67d-36b17686fc6c",
   "metadata": {},
   "outputs": [
    {
     "name": "stdout",
     "output_type": "stream",
     "text": [
      "[0 1 2 3 4 5]\n",
      "[[0 1 2 3 4 5]\n",
      " [0 1 2 3 4 5]]\n"
     ]
    }
   ],
   "source": [
    "a = np.arange(6)\n",
    "b = np.array([(np.arange(6)),(np.arange(6))])\n",
    "\n",
    "print(a)\n",
    "print(b)"
   ]
  },
  {
   "cell_type": "code",
   "execution_count": 36,
   "id": "6df99ed3-516e-43d2-980f-c1f0e9743a5e",
   "metadata": {},
   "outputs": [
    {
     "name": "stdout",
     "output_type": "stream",
     "text": [
      "(6,)\n",
      "(2, 6)\n"
     ]
    }
   ],
   "source": [
    "# shape\n",
    "print(a.shape)\n",
    "print(b.shape)"
   ]
  },
  {
   "cell_type": "code",
   "execution_count": 41,
   "id": "80ad13ff-74c0-4698-80c8-675dc7614127",
   "metadata": {},
   "outputs": [
    {
     "name": "stdout",
     "output_type": "stream",
     "text": [
      "6\n",
      "12\n"
     ]
    }
   ],
   "source": [
    "# Size\n",
    "print(a.size)\n",
    "print(b.size)"
   ]
  },
  {
   "cell_type": "code",
   "execution_count": 38,
   "id": "f5724a29-3373-44e0-b71d-2b6707259545",
   "metadata": {},
   "outputs": [
    {
     "name": "stdout",
     "output_type": "stream",
     "text": [
      "6\n",
      "2\n"
     ]
    }
   ],
   "source": [
    "# length\n",
    "print(len(a))\n",
    "print(len(b))"
   ]
  },
  {
   "cell_type": "code",
   "execution_count": 39,
   "id": "48bd787c-b56c-46d5-927b-7b07d205cce2",
   "metadata": {},
   "outputs": [
    {
     "name": "stdout",
     "output_type": "stream",
     "text": [
      "1\n",
      "2\n"
     ]
    }
   ],
   "source": [
    "# dimension\n",
    "print(a.ndim)\n",
    "print(b.ndim)"
   ]
  },
  {
   "cell_type": "code",
   "execution_count": null,
   "id": "d7058b84-90b6-4f94-a9a5-e5fc0d815e6c",
   "metadata": {},
   "outputs": [],
   "source": []
  },
  {
   "cell_type": "markdown",
   "id": "61d6f6d6-c635-48fb-b28a-6556ff91613f",
   "metadata": {},
   "source": [
    "## 🧰 Useful Functions"
   ]
  },
  {
   "cell_type": "code",
   "execution_count": 54,
   "id": "f9d8df58-d8b9-4314-b912-7b429e015353",
   "metadata": {},
   "outputs": [
    {
     "data": {
      "text/plain": [
       "array([0, 1, 2, 3, 4, 5])"
      ]
     },
     "execution_count": 54,
     "metadata": {},
     "output_type": "execute_result"
    }
   ],
   "source": [
    "a"
   ]
  },
  {
   "cell_type": "code",
   "execution_count": 48,
   "id": "ae7fc115-3782-4118-b5cb-b15d28b02a8b",
   "metadata": {},
   "outputs": [
    {
     "data": {
      "text/plain": [
       "array([[0, 1, 2, 3, 4, 5],\n",
       "       [0, 1, 2, 3, 4, 5]])"
      ]
     },
     "execution_count": 48,
     "metadata": {},
     "output_type": "execute_result"
    }
   ],
   "source": [
    "b"
   ]
  },
  {
   "cell_type": "code",
   "execution_count": 43,
   "id": "6bf91c5b-3fd3-4ba0-90c3-8a87ba31ee8a",
   "metadata": {},
   "outputs": [
    {
     "name": "stdout",
     "output_type": "stream",
     "text": [
      "30\n"
     ]
    }
   ],
   "source": [
    "print(np.sum(b))"
   ]
  },
  {
   "cell_type": "code",
   "execution_count": 44,
   "id": "7ee4cc39-0e27-41c0-9036-81675f05ae5d",
   "metadata": {},
   "outputs": [
    {
     "name": "stdout",
     "output_type": "stream",
     "text": [
      "2.5\n"
     ]
    }
   ],
   "source": [
    "print(np.mean(b))"
   ]
  },
  {
   "cell_type": "code",
   "execution_count": 45,
   "id": "89d33929-bf0c-41fe-bbdf-9a1eed728116",
   "metadata": {},
   "outputs": [
    {
     "name": "stdout",
     "output_type": "stream",
     "text": [
      "5\n"
     ]
    }
   ],
   "source": [
    "print(np.max(b))"
   ]
  },
  {
   "cell_type": "code",
   "execution_count": 46,
   "id": "43aa09c3-8831-404c-a51b-e391fa8c46a7",
   "metadata": {},
   "outputs": [
    {
     "name": "stdout",
     "output_type": "stream",
     "text": [
      "0\n"
     ]
    }
   ],
   "source": [
    "print(np.min(b))"
   ]
  },
  {
   "cell_type": "code",
   "execution_count": 47,
   "id": "9bc2a660-74ca-4684-ba03-dc356a5ec7fb",
   "metadata": {},
   "outputs": [
    {
     "name": "stdout",
     "output_type": "stream",
     "text": [
      "[[0 0]\n",
      " [1 1]\n",
      " [2 2]\n",
      " [3 3]\n",
      " [4 4]\n",
      " [5 5]]\n"
     ]
    }
   ],
   "source": [
    "print(np.transpose(b))"
   ]
  },
  {
   "cell_type": "code",
   "execution_count": 53,
   "id": "cbfd31bd-1d3b-41db-9c2c-c83c57d1cb1f",
   "metadata": {},
   "outputs": [
    {
     "data": {
      "text/plain": [
       "array([  0.        ,  11.11111111,  22.22222222,  33.33333333,\n",
       "        44.44444444,  55.55555556,  66.66666667,  77.77777778,\n",
       "        88.88888889, 100.        ])"
      ]
     },
     "execution_count": 53,
     "metadata": {},
     "output_type": "execute_result"
    }
   ],
   "source": [
    "np.linspace(0,100,10)"
   ]
  },
  {
   "cell_type": "code",
   "execution_count": 60,
   "id": "6f755ef0-0ce6-4752-a279-c19013ea6949",
   "metadata": {},
   "outputs": [
    {
     "data": {
      "text/plain": [
       "array([ 1,  2,  4,  5,  6,  6,  8,  9, 10, 25, 29, 68])"
      ]
     },
     "execution_count": 60,
     "metadata": {},
     "output_type": "execute_result"
    }
   ],
   "source": [
    "d = np.sort(np.array([9,6,5,2,29,1,6,8,4,10,25,68]))\n",
    "d"
   ]
  },
  {
   "cell_type": "code",
   "execution_count": 65,
   "id": "1a2bbe6c-f561-4252-b40e-a57c61f7d48b",
   "metadata": {},
   "outputs": [
    {
     "data": {
      "text/plain": [
       "array([ 0,  1,  2,  3,  4,  5,  1,  2,  4,  5,  6,  6,  8,  9, 10, 25, 29,\n",
       "       68])"
      ]
     },
     "execution_count": 65,
     "metadata": {},
     "output_type": "execute_result"
    }
   ],
   "source": [
    "np.concatenate((a,d))"
   ]
  },
  {
   "cell_type": "code",
   "execution_count": 66,
   "id": "a6f83e64-42e5-42a0-8d66-69a447b5ac7e",
   "metadata": {},
   "outputs": [
    {
     "data": {
      "text/plain": [
       "array([[0, 1, 2, 3, 4, 5],\n",
       "       [0, 1, 2, 3, 4, 5]])"
      ]
     },
     "execution_count": 66,
     "metadata": {},
     "output_type": "execute_result"
    }
   ],
   "source": [
    "b"
   ]
  },
  {
   "cell_type": "code",
   "execution_count": 73,
   "id": "f5e24de3-1417-4c89-8620-58305edc4f3c",
   "metadata": {},
   "outputs": [
    {
     "data": {
      "text/plain": [
       "array([[[0, 1, 2, 3]],\n",
       "\n",
       "       [[4, 5, 0, 1]],\n",
       "\n",
       "       [[2, 3, 4, 5]]])"
      ]
     },
     "execution_count": 73,
     "metadata": {},
     "output_type": "execute_result"
    }
   ],
   "source": [
    "b.reshape(3,1,4)"
   ]
  },
  {
   "cell_type": "markdown",
   "id": "5d502561-3e62-4863-b277-eef5c3edb6ab",
   "metadata": {},
   "source": [
    "#### Covert  1D to 2D array"
   ]
  },
  {
   "cell_type": "code",
   "execution_count": 77,
   "id": "3fc7ae2e-693a-4e9a-b116-600b50bd8036",
   "metadata": {},
   "outputs": [
    {
     "data": {
      "text/plain": [
       "array([0, 1, 2, 3, 4, 5, 6, 7])"
      ]
     },
     "execution_count": 77,
     "metadata": {},
     "output_type": "execute_result"
    }
   ],
   "source": [
    "a = np.arange(8)\n",
    "a"
   ]
  },
  {
   "cell_type": "code",
   "execution_count": 81,
   "id": "ccd1477a-a298-46a3-9296-79f793792ef6",
   "metadata": {},
   "outputs": [
    {
     "data": {
      "text/plain": [
       "(8, 1)"
      ]
     },
     "execution_count": 81,
     "metadata": {},
     "output_type": "execute_result"
    }
   ],
   "source": [
    "a[:,np.newaxis].shape"
   ]
  },
  {
   "cell_type": "code",
   "execution_count": null,
   "id": "0ebb6bdd-6d27-45a4-b7b5-183b2013c827",
   "metadata": {},
   "outputs": [],
   "source": []
  }
 ],
 "metadata": {
  "kernelspec": {
   "display_name": "Python 3 (ipykernel)",
   "language": "python",
   "name": "python3"
  },
  "language_info": {
   "codemirror_mode": {
    "name": "ipython",
    "version": 3
   },
   "file_extension": ".py",
   "mimetype": "text/x-python",
   "name": "python",
   "nbconvert_exporter": "python",
   "pygments_lexer": "ipython3",
   "version": "3.9.2"
  }
 },
 "nbformat": 4,
 "nbformat_minor": 5
}
