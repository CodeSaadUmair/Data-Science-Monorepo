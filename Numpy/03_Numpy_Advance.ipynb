{
 "cells": [
  {
   "cell_type": "markdown",
   "id": "a8215ae0-7904-4dbe-8bc9-9b2b862c8af6",
   "metadata": {},
   "source": [
    "# Matrix or Matrices"
   ]
  },
  {
   "cell_type": "code",
   "execution_count": 2,
   "id": "2cfa8336-6264-43b9-aac3-d99ba55f8bcc",
   "metadata": {},
   "outputs": [],
   "source": [
    "import numpy as np"
   ]
  },
  {
   "cell_type": "code",
   "execution_count": 3,
   "id": "399cf0b3-6b2e-413a-9e0d-37d9d9c3036a",
   "metadata": {},
   "outputs": [
    {
     "data": {
      "text/plain": [
       "array([[1, 2, 3],\n",
       "       [4, 5, 6]])"
      ]
     },
     "execution_count": 3,
     "metadata": {},
     "output_type": "execute_result"
    }
   ],
   "source": [
    "# create a 2x3 matrix\n",
    "a = np.array([[1,2,3],[4,5,6]])\n",
    "a"
   ]
  },
  {
   "cell_type": "code",
   "execution_count": 4,
   "id": "23774374-c1f9-4a07-a5b4-e3142f1bfd62",
   "metadata": {},
   "outputs": [
    {
     "data": {
      "text/plain": [
       "array([[ 0,  2,  4,  6,  8, 10, 12, 14, 16, 18],\n",
       "       [20, 22, 24, 26, 28, 30, 32, 34, 36, 38],\n",
       "       [40, 42, 44, 46, 48, 50, 52, 54, 56, 58],\n",
       "       [60, 62, 64, 66, 68, 70, 72, 74, 76, 78],\n",
       "       [80, 82, 84, 86, 88, 90, 92, 94, 96, 98]])"
      ]
     },
     "execution_count": 4,
     "metadata": {},
     "output_type": "execute_result"
    }
   ],
   "source": [
    "b = np.arange(0,100,2).reshape(5,10)\n",
    "b"
   ]
  },
  {
   "cell_type": "code",
   "execution_count": 5,
   "id": "ec43231c-bb2f-4c23-a2d7-72ec76c8c2cd",
   "metadata": {},
   "outputs": [
    {
     "data": {
      "text/plain": [
       "array([[ 6,  8],\n",
       "       [26, 28],\n",
       "       [46, 48]])"
      ]
     },
     "execution_count": 5,
     "metadata": {},
     "output_type": "execute_result"
    }
   ],
   "source": [
    "# slicing a matrix of 3x2\n",
    "c = b[0:3,3:5]\n",
    "c"
   ]
  },
  {
   "cell_type": "code",
   "execution_count": 6,
   "id": "139453fa-1eb1-4cbd-a67e-8cce8c4dee4b",
   "metadata": {},
   "outputs": [
    {
     "data": {
      "text/plain": [
       "np.int64(98)"
      ]
     },
     "execution_count": 6,
     "metadata": {},
     "output_type": "execute_result"
    }
   ],
   "source": [
    "b.max()"
   ]
  },
  {
   "cell_type": "code",
   "execution_count": 7,
   "id": "29888991-b21a-4a1b-ac78-77c10aa65e0e",
   "metadata": {},
   "outputs": [
    {
     "data": {
      "text/plain": [
       "np.int64(6)"
      ]
     },
     "execution_count": 7,
     "metadata": {},
     "output_type": "execute_result"
    }
   ],
   "source": [
    "c.min()"
   ]
  },
  {
   "cell_type": "code",
   "execution_count": 8,
   "id": "92efa3b9-b85c-4e71-ab7b-fb11845881e2",
   "metadata": {},
   "outputs": [
    {
     "data": {
      "text/plain": [
       "np.int64(2450)"
      ]
     },
     "execution_count": 8,
     "metadata": {},
     "output_type": "execute_result"
    }
   ],
   "source": [
    "b.sum()"
   ]
  },
  {
   "cell_type": "code",
   "execution_count": 9,
   "id": "2a25cc31-6a35-4a5a-920f-324a6844f3f7",
   "metadata": {},
   "outputs": [
    {
     "data": {
      "text/plain": [
       "array([ 0,  2,  4,  6,  8, 10, 12, 14, 16, 18])"
      ]
     },
     "execution_count": 9,
     "metadata": {},
     "output_type": "execute_result"
    }
   ],
   "source": [
    "b.min(axis=0)"
   ]
  },
  {
   "cell_type": "code",
   "execution_count": 10,
   "id": "4584c94d-d551-4bfb-849a-b8700f9cd5c8",
   "metadata": {},
   "outputs": [
    {
     "data": {
      "text/plain": [
       "array([ 0, 20, 40, 60, 80])"
      ]
     },
     "execution_count": 10,
     "metadata": {},
     "output_type": "execute_result"
    }
   ],
   "source": [
    "b.min(axis=1)"
   ]
  },
  {
   "cell_type": "code",
   "execution_count": 11,
   "id": "ba220e3c-f78d-4548-ae90-5e803fe5fcd0",
   "metadata": {},
   "outputs": [
    {
     "data": {
      "text/plain": [
       "array([80, 82, 84, 86, 88, 90, 92, 94, 96, 98])"
      ]
     },
     "execution_count": 11,
     "metadata": {},
     "output_type": "execute_result"
    }
   ],
   "source": [
    "b.max(axis=0)"
   ]
  },
  {
   "cell_type": "code",
   "execution_count": 12,
   "id": "98fe37cc-21af-4d59-a76f-313c06c44dcc",
   "metadata": {},
   "outputs": [
    {
     "data": {
      "text/plain": [
       "array([18, 38, 58, 78, 98])"
      ]
     },
     "execution_count": 12,
     "metadata": {},
     "output_type": "execute_result"
    }
   ],
   "source": [
    "b.max(axis=1)"
   ]
  },
  {
   "cell_type": "code",
   "execution_count": null,
   "id": "c2322b1d-ccc2-45b4-90b4-85ae0d12b523",
   "metadata": {},
   "outputs": [],
   "source": []
  },
  {
   "cell_type": "code",
   "execution_count": null,
   "id": "1f2638c7-e2c8-471b-883d-a1d6cea79811",
   "metadata": {},
   "outputs": [],
   "source": []
  },
  {
   "cell_type": "code",
   "execution_count": 13,
   "id": "131c7c3f-be6a-4866-9a0c-9acf66341f6d",
   "metadata": {},
   "outputs": [
    {
     "data": {
      "text/plain": [
       "array([[ 0,  2],\n",
       "       [ 4,  6],\n",
       "       [ 8, 10],\n",
       "       [12, 14],\n",
       "       [16, 18]])"
      ]
     },
     "execution_count": 13,
     "metadata": {},
     "output_type": "execute_result"
    }
   ],
   "source": [
    "m = np.arange(0,20,2).reshape(5,2)\n",
    "m"
   ]
  },
  {
   "cell_type": "code",
   "execution_count": 14,
   "id": "10839e6f-015a-45a8-8eb2-f463024ae2a9",
   "metadata": {},
   "outputs": [
    {
     "data": {
      "text/plain": [
       "array([[  0,  44],\n",
       "       [ 80, 132],\n",
       "       [160, 220],\n",
       "       [240, 308],\n",
       "       [320, 396]])"
      ]
     },
     "execution_count": 14,
     "metadata": {},
     "output_type": "execute_result"
    }
   ],
   "source": [
    "m * np.array([20, 22])"
   ]
  },
  {
   "cell_type": "code",
   "execution_count": 18,
   "id": "e3f67e93-9cc1-439a-8e36-60cd4acfe388",
   "metadata": {},
   "outputs": [],
   "source": [
    "dd = np.vstack((m, np.array([42,44])))"
   ]
  },
  {
   "cell_type": "code",
   "execution_count": 20,
   "id": "a61b91ea-e7a0-4335-afff-36eba3fc7265",
   "metadata": {},
   "outputs": [
    {
     "data": {
      "text/plain": [
       "array([[44, 42],\n",
       "       [18, 16],\n",
       "       [14, 12],\n",
       "       [10,  8],\n",
       "       [ 6,  4],\n",
       "       [ 2,  0]])"
      ]
     },
     "execution_count": 20,
     "metadata": {},
     "output_type": "execute_result"
    }
   ],
   "source": [
    "np.flip(dd)"
   ]
  },
  {
   "cell_type": "markdown",
   "id": "801d7c52-078a-4d9f-b7fa-e978bc54c3a8",
   "metadata": {},
   "source": [
    "# Array Shape Manipulation\n",
    "Reshape, Flatten, Ravel"
   ]
  },
  {
   "cell_type": "code",
   "execution_count": 21,
   "id": "04d8613d-7a8d-4682-8b40-0ccb1fa6838a",
   "metadata": {},
   "outputs": [
    {
     "data": {
      "text/plain": [
       "array([[1, 2],\n",
       "       [3, 4],\n",
       "       [5, 6]])"
      ]
     },
     "execution_count": 21,
     "metadata": {},
     "output_type": "execute_result"
    }
   ],
   "source": [
    "a = np.array([[1, 2], [3, 4], [5, 6]])\n",
    "a"
   ]
  },
  {
   "cell_type": "code",
   "execution_count": 22,
   "id": "fbb7d9ce-c6b1-41ed-9e0e-d46c09e6603f",
   "metadata": {},
   "outputs": [
    {
     "data": {
      "text/plain": [
       "(3, 2)"
      ]
     },
     "execution_count": 22,
     "metadata": {},
     "output_type": "execute_result"
    }
   ],
   "source": [
    "a.shape"
   ]
  },
  {
   "cell_type": "code",
   "execution_count": 23,
   "id": "dc4e79af-3d88-4629-904b-310de64a0a84",
   "metadata": {},
   "outputs": [
    {
     "data": {
      "text/plain": [
       "array([1, 2, 3, 4, 5, 6])"
      ]
     },
     "execution_count": 23,
     "metadata": {},
     "output_type": "execute_result"
    }
   ],
   "source": [
    "a.flatten()"
   ]
  },
  {
   "cell_type": "code",
   "execution_count": 25,
   "id": "2ad926fb-be1c-46aa-ad41-87c322a6e5f0",
   "metadata": {},
   "outputs": [
    {
     "data": {
      "text/plain": [
       "array([1, 2, 3, 4, 5, 6])"
      ]
     },
     "execution_count": 25,
     "metadata": {},
     "output_type": "execute_result"
    }
   ],
   "source": [
    "a.ravel() # Same as flatten but returns a view (if possible)"
   ]
  },
  {
   "cell_type": "markdown",
   "id": "7401f2be-6a8a-47d1-9e31-eff1fbab8121",
   "metadata": {},
   "source": [
    "# Advanced Indexing and Boolean Logic\n",
    "### Integer Indexing"
   ]
  },
  {
   "cell_type": "code",
   "execution_count": 28,
   "id": "42f2a7b1-8e76-48e5-9daf-df877a48a5a7",
   "metadata": {},
   "outputs": [
    {
     "data": {
      "text/plain": [
       "array([20, 50])"
      ]
     },
     "execution_count": 28,
     "metadata": {},
     "output_type": "execute_result"
    }
   ],
   "source": [
    "a = np.array([[10, 20], [30, 40], [50, 60]])\n",
    "a[[0, 2], [1, 0]] "
   ]
  },
  {
   "cell_type": "markdown",
   "id": "446ec672-5035-4060-9f96-4242b57fbf98",
   "metadata": {},
   "source": [
    "### Boolean Masking"
   ]
  },
  {
   "cell_type": "code",
   "execution_count": 29,
   "id": "44b807ac-d8ac-4254-b08a-aa224da9d9b2",
   "metadata": {},
   "outputs": [
    {
     "data": {
      "text/plain": [
       "array([2, 4])"
      ]
     },
     "execution_count": 29,
     "metadata": {},
     "output_type": "execute_result"
    }
   ],
   "source": [
    "a = np.array([1, 2, 3, 4, 5])\n",
    "mask = a % 2 == 0\n",
    "a[mask]"
   ]
  },
  {
   "cell_type": "code",
   "execution_count": 30,
   "id": "54ae2ecd-16d5-45ae-9ef5-83d638a9fcf5",
   "metadata": {},
   "outputs": [
    {
     "data": {
      "text/plain": [
       "(array([2, 3, 4]),)"
      ]
     },
     "execution_count": 30,
     "metadata": {},
     "output_type": "execute_result"
    }
   ],
   "source": [
    "np.where(a>2.5)"
   ]
  },
  {
   "cell_type": "code",
   "execution_count": 34,
   "id": "710e3856-2780-48a1-8576-dcc80fb9efc3",
   "metadata": {},
   "outputs": [
    {
     "data": {
      "text/plain": [
       "array([-1, -1,  3,  4,  5])"
      ]
     },
     "execution_count": 34,
     "metadata": {},
     "output_type": "execute_result"
    }
   ],
   "source": [
    "np.where(a > 2, a, -1) "
   ]
  },
  {
   "cell_type": "markdown",
   "id": "787877c8-88a9-482e-bb4b-2bcbf7609e70",
   "metadata": {},
   "source": [
    "### Broadcasting \n",
    "Broadcasting lets NumPy apply operations to arrays of different shapes."
   ]
  },
  {
   "cell_type": "code",
   "execution_count": 38,
   "id": "3bd53127-1b74-4965-acf3-8d33a36e5415",
   "metadata": {},
   "outputs": [
    {
     "name": "stdout",
     "output_type": "stream",
     "text": [
      "(3, 1)\n",
      "(3,)\n"
     ]
    },
    {
     "data": {
      "text/plain": [
       "array([[1],\n",
       "       [2],\n",
       "       [3]])"
      ]
     },
     "execution_count": 38,
     "metadata": {},
     "output_type": "execute_result"
    }
   ],
   "source": [
    "a = np.array([[1], [2], [3]])\n",
    "b = np.array([10, 20, 30])\n",
    "print(a.shape)\n",
    "print(b.shape)\n",
    "a"
   ]
  },
  {
   "cell_type": "code",
   "execution_count": 37,
   "id": "fcdcdb2d-4551-4b56-934c-504270585697",
   "metadata": {},
   "outputs": [
    {
     "name": "stdout",
     "output_type": "stream",
     "text": [
      "[[11 21 31]\n",
      " [12 22 32]\n",
      " [13 23 33]]\n"
     ]
    }
   ],
   "source": [
    "print(a+b)"
   ]
  },
  {
   "cell_type": "markdown",
   "id": "a6cab26e-8490-4355-93db-a26b4b910282",
   "metadata": {},
   "source": [
    "### Linear Algebra with np.linalg"
   ]
  },
  {
   "cell_type": "code",
   "execution_count": 39,
   "id": "73e11541-13e6-451d-84bb-cbe062b10b15",
   "metadata": {},
   "outputs": [],
   "source": [
    "from numpy.linalg import inv, eig, det"
   ]
  },
  {
   "cell_type": "code",
   "execution_count": 40,
   "id": "96eb125d-eb26-4458-a8c1-1ad2ec521bd8",
   "metadata": {},
   "outputs": [
    {
     "data": {
      "text/plain": [
       "array([[1, 2],\n",
       "       [3, 4]])"
      ]
     },
     "execution_count": 40,
     "metadata": {},
     "output_type": "execute_result"
    }
   ],
   "source": [
    "A = np.array([[1, 2], [3, 4]])\n",
    "A"
   ]
  },
  {
   "cell_type": "code",
   "execution_count": 44,
   "id": "8c40be66-7576-4e07-a5bd-64e7b11aae4b",
   "metadata": {},
   "outputs": [
    {
     "data": {
      "text/plain": [
       "array([[-2. ,  1. ],\n",
       "       [ 1.5, -0.5]])"
      ]
     },
     "execution_count": 44,
     "metadata": {},
     "output_type": "execute_result"
    }
   ],
   "source": [
    "inv(A) # Inverse of matrix"
   ]
  },
  {
   "cell_type": "code",
   "execution_count": 45,
   "id": "93ce12e0-a4b9-463a-9b8c-e19742f86739",
   "metadata": {},
   "outputs": [
    {
     "data": {
      "text/plain": [
       "EigResult(eigenvalues=array([-0.37228132,  5.37228132]), eigenvectors=array([[-0.82456484, -0.41597356],\n",
       "       [ 0.56576746, -0.90937671]]))"
      ]
     },
     "execution_count": 45,
     "metadata": {},
     "output_type": "execute_result"
    }
   ],
   "source": [
    "eig(A) # Eigenvalues and eigenvectors"
   ]
  },
  {
   "cell_type": "code",
   "execution_count": 46,
   "id": "9b553a33-856a-497d-8522-7e4b0dee0fa3",
   "metadata": {},
   "outputs": [
    {
     "data": {
      "text/plain": [
       "np.float64(-2.0000000000000004)"
      ]
     },
     "execution_count": 46,
     "metadata": {},
     "output_type": "execute_result"
    }
   ],
   "source": [
    "det(A) # Determinant"
   ]
  },
  {
   "cell_type": "markdown",
   "id": "644f025f-0da3-42f8-9a01-b4a1b85020b5",
   "metadata": {},
   "source": [
    "Matrix Multiplication"
   ]
  },
  {
   "cell_type": "code",
   "execution_count": 47,
   "id": "90313c81-7ff0-4c2f-9c07-00b8be510f93",
   "metadata": {},
   "outputs": [
    {
     "data": {
      "text/plain": [
       "array([[ 7, 10],\n",
       "       [15, 22]])"
      ]
     },
     "execution_count": 47,
     "metadata": {},
     "output_type": "execute_result"
    }
   ],
   "source": [
    "np.dot(A, A)"
   ]
  },
  {
   "cell_type": "code",
   "execution_count": 49,
   "id": "de5d1724-0809-4b96-9b5a-d8fe095f9f81",
   "metadata": {},
   "outputs": [
    {
     "data": {
      "text/plain": [
       "array([[ 7, 10],\n",
       "       [15, 22]])"
      ]
     },
     "execution_count": 49,
     "metadata": {},
     "output_type": "execute_result"
    }
   ],
   "source": [
    "A @ A           # Cleaner syntax "
   ]
  },
  {
   "cell_type": "markdown",
   "id": "3fae17d1-6a53-40a3-88a7-3abd4f4ef35c",
   "metadata": {},
   "source": [
    "### Structured Arrays and Record Arrays\n",
    "Useful for tabular data with multiple types."
   ]
  },
  {
   "cell_type": "code",
   "execution_count": 51,
   "id": "252ea853-acbd-4f0a-9368-7d6c074a6ce3",
   "metadata": {},
   "outputs": [
    {
     "data": {
      "text/plain": [
       "array(['Alice', 'Bob'], dtype='<U10')"
      ]
     },
     "execution_count": 51,
     "metadata": {},
     "output_type": "execute_result"
    }
   ],
   "source": [
    "data = np.array([\n",
    "    (1, 'Alice', 9.5),\n",
    "    (2, 'Bob', 8.1)\n",
    "], dtype=[('id', 'i4'), ('name', 'U10'), ('score', 'f4')])\n",
    "\n",
    "data['name']"
   ]
  },
  {
   "cell_type": "markdown",
   "id": "dfdf0026-1542-4810-9f48-a54321c6cbb2",
   "metadata": {},
   "source": [
    "### Vectorization vs Loops\n",
    "Avoid Python loops when possible!"
   ]
  },
  {
   "cell_type": "code",
   "execution_count": 54,
   "id": "22c4af7d-3414-4363-b530-2e071dac9b8f",
   "metadata": {},
   "outputs": [
    {
     "data": {
      "text/plain": [
       "array([      0,       2,       4, ..., 1999994, 1999996, 1999998])"
      ]
     },
     "execution_count": 54,
     "metadata": {},
     "output_type": "execute_result"
    }
   ],
   "source": [
    "# slow\n",
    "a = np.arange(1000000)\n",
    "b = np.empty_like(a)\n",
    "for i in range(len(a)):\n",
    "    b[i] = a[i] * 2\n",
    "b"
   ]
  },
  {
   "cell_type": "code",
   "execution_count": 56,
   "id": "02113993-74bb-4da6-81fb-5161ff42b826",
   "metadata": {},
   "outputs": [
    {
     "data": {
      "text/plain": [
       "array([      0,       2,       4, ..., 1999994, 1999996, 1999998])"
      ]
     },
     "execution_count": 56,
     "metadata": {},
     "output_type": "execute_result"
    }
   ],
   "source": [
    "# Fast\n",
    "b = a * 2\n",
    "b"
   ]
  },
  {
   "cell_type": "markdown",
   "id": "cf1eacc4-6981-42a8-93f5-cf55a6bd6d6e",
   "metadata": {},
   "source": [
    "### Random Numbers (np.random)"
   ]
  },
  {
   "cell_type": "code",
   "execution_count": 62,
   "id": "fd1735f9-ef05-433e-955c-d678ae629909",
   "metadata": {},
   "outputs": [
    {
     "data": {
      "text/plain": [
       "array([0.5488135 , 0.71518937, 0.60276338, 0.54488318])"
      ]
     },
     "execution_count": 62,
     "metadata": {},
     "output_type": "execute_result"
    }
   ],
   "source": [
    "np.random.seed(0) ; np.random.rand(4)               # For reproducibility"
   ]
  },
  {
   "cell_type": "code",
   "execution_count": 63,
   "id": "7ccb6e92-b27a-4b38-8c94-db6aaa6f8ad6",
   "metadata": {},
   "outputs": [
    {
     "data": {
      "text/plain": [
       "array([[0.4236548 , 0.64589411],\n",
       "       [0.43758721, 0.891773  ],\n",
       "       [0.96366276, 0.38344152]])"
      ]
     },
     "execution_count": 63,
     "metadata": {},
     "output_type": "execute_result"
    }
   ],
   "source": [
    "np.random.rand(3, 2) # diff every time if not seed"
   ]
  },
  {
   "cell_type": "code",
   "execution_count": 66,
   "id": "3a5357fa-1ec5-4a31-9bfb-982d74401ce4",
   "metadata": {},
   "outputs": [
    {
     "data": {
      "text/plain": [
       "array([[0.14335329, 0.94466892],\n",
       "       [0.52184832, 0.41466194],\n",
       "       [0.26455561, 0.77423369]])"
      ]
     },
     "execution_count": 66,
     "metadata": {},
     "output_type": "execute_result"
    }
   ],
   "source": [
    "np.random.rand(3, 2)         # Uniform distribution"
   ]
  },
  {
   "cell_type": "code",
   "execution_count": 67,
   "id": "dab842b8-b6a8-4e8f-b35f-fd51e70bd8ff",
   "metadata": {},
   "outputs": [
    {
     "data": {
      "text/plain": [
       "array([[ 2.26975462, -1.45436567],\n",
       "       [ 0.04575852, -0.18718385],\n",
       "       [ 1.53277921,  1.46935877]])"
      ]
     },
     "execution_count": 67,
     "metadata": {},
     "output_type": "execute_result"
    }
   ],
   "source": [
    "np.random.randn(3, 2)       # Normal distribution"
   ]
  },
  {
   "cell_type": "code",
   "execution_count": 68,
   "id": "40cdab90-b06d-405b-8756-921381fc6ce6",
   "metadata": {},
   "outputs": [
    {
     "data": {
      "text/plain": [
       "array([[5, 9, 2],\n",
       "       [2, 8, 4]], dtype=int32)"
      ]
     },
     "execution_count": 68,
     "metadata": {},
     "output_type": "execute_result"
    }
   ],
   "source": [
    "np.random.randint(1, 10, (2, 3))  # Random integers"
   ]
  },
  {
   "cell_type": "code",
   "execution_count": 69,
   "id": "102c55e1-b022-4d25-bfe7-39870cf299af",
   "metadata": {},
   "outputs": [
    {
     "data": {
      "text/plain": [
       "array([3, 3, 3, 1, 3])"
      ]
     },
     "execution_count": 69,
     "metadata": {},
     "output_type": "execute_result"
    }
   ],
   "source": [
    "np.random.choice([1, 2, 3], 5)  # Random sampling"
   ]
  },
  {
   "cell_type": "markdown",
   "id": "87ba83d7-05bf-4bb8-aa2f-292984012872",
   "metadata": {},
   "source": [
    "### Advanced Functions and Tricks\n",
    "Aggregations with Axis"
   ]
  },
  {
   "cell_type": "code",
   "execution_count": 75,
   "id": "8a47bb0f-ade7-45fd-b271-db99b34667ed",
   "metadata": {},
   "outputs": [
    {
     "name": "stdout",
     "output_type": "stream",
     "text": [
      "[[1 2 3]\n",
      " [4 5 6]]\n"
     ]
    },
    {
     "data": {
      "text/plain": [
       "array([5, 7, 9])"
      ]
     },
     "execution_count": 75,
     "metadata": {},
     "output_type": "execute_result"
    }
   ],
   "source": [
    "a = np.array([[1, 2, 3], [4, 5, 6]])\n",
    "print(a)\n",
    "np.sum(a, axis=0) #(column-wise)"
   ]
  },
  {
   "cell_type": "code",
   "execution_count": 76,
   "id": "9efc4da5-02a1-4c9e-b9ce-780b873729fa",
   "metadata": {},
   "outputs": [
    {
     "name": "stdout",
     "output_type": "stream",
     "text": [
      "[[1 2 3]\n",
      " [4 5 6]]\n"
     ]
    },
    {
     "data": {
      "text/plain": [
       "array([ 6, 15])"
      ]
     },
     "execution_count": 76,
     "metadata": {},
     "output_type": "execute_result"
    }
   ],
   "source": [
    "print(a)\n",
    "np.sum(a, axis=1)  #(row-wise)"
   ]
  },
  {
   "cell_type": "markdown",
   "id": "35e4df52-727f-45a9-89d5-17b7b544e77e",
   "metadata": {},
   "source": [
    "#### np.apply_along_axis()"
   ]
  },
  {
   "cell_type": "code",
   "execution_count": 78,
   "id": "39dbcd84-ab4d-4975-a060-a06f3079e3b5",
   "metadata": {},
   "outputs": [
    {
     "data": {
      "text/plain": [
       "array([2, 2])"
      ]
     },
     "execution_count": 78,
     "metadata": {},
     "output_type": "execute_result"
    }
   ],
   "source": [
    "def my_func(x): return x.max() - x.min()\n",
    "np.apply_along_axis(my_func, axis=1, arr=a)"
   ]
  },
  {
   "cell_type": "markdown",
   "id": "060e742f-d613-4445-b20e-92d74d4dcbd5",
   "metadata": {},
   "source": [
    "#### np.tile() and np.repeat()"
   ]
  },
  {
   "cell_type": "code",
   "execution_count": 79,
   "id": "812f6e70-73f4-4aa4-b7c2-7da7b53f432f",
   "metadata": {},
   "outputs": [
    {
     "data": {
      "text/plain": [
       "array([1, 2, 1, 2, 1, 2])"
      ]
     },
     "execution_count": 79,
     "metadata": {},
     "output_type": "execute_result"
    }
   ],
   "source": [
    "np.tile([1, 2], 3)    "
   ]
  },
  {
   "cell_type": "code",
   "execution_count": 80,
   "id": "4165b34f-69ab-473c-822f-5bc963e9a217",
   "metadata": {},
   "outputs": [
    {
     "data": {
      "text/plain": [
       "array([1, 1, 1, 2, 2, 2])"
      ]
     },
     "execution_count": 80,
     "metadata": {},
     "output_type": "execute_result"
    }
   ],
   "source": [
    "np.repeat([1, 2], 3)  "
   ]
  },
  {
   "cell_type": "markdown",
   "id": "ef2b13af-632f-42e3-b71f-d40b5e151b5b",
   "metadata": {},
   "source": [
    "### Practical Use Case: Z-Score Normalization"
   ]
  },
  {
   "cell_type": "code",
   "execution_count": 83,
   "id": "31b3b3b7-722e-4899-9015-b4c6c04d7ede",
   "metadata": {},
   "outputs": [
    {
     "data": {
      "text/plain": [
       "array([ 0.        ,  1.41421356, -1.41421356, -0.70710678,  0.70710678])"
      ]
     },
     "execution_count": 83,
     "metadata": {},
     "output_type": "execute_result"
    }
   ],
   "source": [
    "def z_score(x):\n",
    "    return (x - np.mean(x)) / np.std(x)\n",
    "\n",
    "data = np.array([100, 110, 90, 95, 105])\n",
    "z = z_score(data)\n",
    "z"
   ]
  },
  {
   "cell_type": "code",
   "execution_count": null,
   "id": "0819c9ab-1239-43d1-9cb6-8a4dd952c2be",
   "metadata": {},
   "outputs": [],
   "source": []
  }
 ],
 "metadata": {
  "kernelspec": {
   "display_name": "Python 3 (ipykernel)",
   "language": "python",
   "name": "python3"
  },
  "language_info": {
   "codemirror_mode": {
    "name": "ipython",
    "version": 3
   },
   "file_extension": ".py",
   "mimetype": "text/x-python",
   "name": "python",
   "nbconvert_exporter": "python",
   "pygments_lexer": "ipython3",
   "version": "3.9.2"
  }
 },
 "nbformat": 4,
 "nbformat_minor": 5
}
