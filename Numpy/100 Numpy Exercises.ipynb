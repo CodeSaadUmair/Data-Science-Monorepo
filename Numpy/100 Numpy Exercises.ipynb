{
 "cells": [
  {
   "cell_type": "markdown",
   "metadata": {},
   "source": [
    "# 100 numpy exercises\n"
   ]
  },
  {
   "cell_type": "markdown",
   "metadata": {},
   "source": [
    "#### 1. Import the numpy package under the name `np` (★☆☆)"
   ]
  },
  {
   "cell_type": "code",
   "execution_count": 1,
   "metadata": {
    "collapsed": true
   },
   "outputs": [],
   "source": [
    "import numpy as np"
   ]
  },
  {
   "cell_type": "markdown",
   "metadata": {},
   "source": [
    "#### 2. Print the numpy version and the configuration (★☆☆)"
   ]
  },
  {
   "cell_type": "code",
   "execution_count": 2,
   "metadata": {
    "collapsed": false
   },
   "outputs": [
    {
     "name": "stdout",
     "output_type": "stream",
     "text": [
      "1.22.3\n",
      "openblas64__info:\n",
      "    library_dirs = ['D:\\\\a\\\\1\\\\s\\\\numpy\\\\build\\\\openblas64__info']\n",
      "    libraries = ['openblas64__info']\n",
      "    language = f77\n",
      "    define_macros = [('HAVE_CBLAS', None), ('BLAS_SYMBOL_SUFFIX', '64_'), ('HAVE_BLAS_ILP64', None)]\n",
      "blas_ilp64_opt_info:\n",
      "    library_dirs = ['D:\\\\a\\\\1\\\\s\\\\numpy\\\\build\\\\openblas64__info']\n",
      "    libraries = ['openblas64__info']\n",
      "    language = f77\n",
      "    define_macros = [('HAVE_CBLAS', None), ('BLAS_SYMBOL_SUFFIX', '64_'), ('HAVE_BLAS_ILP64', None)]\n",
      "openblas64__lapack_info:\n",
      "    library_dirs = ['D:\\\\a\\\\1\\\\s\\\\numpy\\\\build\\\\openblas64__lapack_info']\n",
      "    libraries = ['openblas64__lapack_info']\n",
      "    language = f77\n",
      "    define_macros = [('HAVE_CBLAS', None), ('BLAS_SYMBOL_SUFFIX', '64_'), ('HAVE_BLAS_ILP64', None), ('HAVE_LAPACKE', None)]\n",
      "lapack_ilp64_opt_info:\n",
      "    library_dirs = ['D:\\\\a\\\\1\\\\s\\\\numpy\\\\build\\\\openblas64__lapack_info']\n",
      "    libraries = ['openblas64__lapack_info']\n",
      "    language = f77\n",
      "    define_macros = [('HAVE_CBLAS', None), ('BLAS_SYMBOL_SUFFIX', '64_'), ('HAVE_BLAS_ILP64', None), ('HAVE_LAPACKE', None)]\n",
      "Supported SIMD extensions in this NumPy install:\n",
      "    baseline = SSE,SSE2,SSE3\n",
      "    found = SSSE3,SSE41,POPCNT,SSE42,AVX,F16C,FMA3,AVX2\n",
      "    not found = AVX512F,AVX512CD,AVX512_SKX,AVX512_CLX,AVX512_CNL\n"
     ]
    }
   ],
   "source": [
    "print(np.__version__)\n",
    "np.show_config()"
   ]
  },
  {
   "cell_type": "markdown",
   "metadata": {},
   "source": [
    "#### 3. Create a null vector of size 10 (★☆☆)"
   ]
  },
  {
   "cell_type": "code",
   "execution_count": 3,
   "metadata": {
    "collapsed": false
   },
   "outputs": [
    {
     "data": {
      "text/plain": [
       "array([0., 0., 0., 0., 0., 0., 0., 0., 0., 0.])"
      ]
     },
     "execution_count": 3,
     "metadata": {},
     "output_type": "execute_result"
    }
   ],
   "source": [
    "a = np.zeros(10)\n",
    "a"
   ]
  },
  {
   "cell_type": "markdown",
   "metadata": {},
   "source": [
    "#### 4.  How to find the memory size of any array (★☆☆)"
   ]
  },
  {
   "cell_type": "code",
   "execution_count": 4,
   "metadata": {
    "collapsed": false
   },
   "outputs": [
    {
     "data": {
      "text/plain": [
       "80"
      ]
     },
     "execution_count": 4,
     "metadata": {},
     "output_type": "execute_result"
    }
   ],
   "source": [
    "a.size * a.itemsize"
   ]
  },
  {
   "cell_type": "markdown",
   "metadata": {},
   "source": [
    "#### 5.  How to get the documentation of the numpy add function from the command line? (★☆☆)"
   ]
  },
  {
   "cell_type": "code",
   "execution_count": 5,
   "metadata": {
    "collapsed": true
   },
   "outputs": [
    {
     "name": "stdout",
     "output_type": "stream",
     "text": [
      "Help on ufunc:\n",
      "\n",
      "add = <ufunc 'add'>\n",
      "    add(x1, x2, /, out=None, *, where=True, casting='same_kind', order='K', dtype=None, subok=True[, signature, extobj])\n",
      "    \n",
      "    Add arguments element-wise.\n",
      "    \n",
      "    Parameters\n",
      "    ----------\n",
      "    x1, x2 : array_like\n",
      "        The arrays to be added.\n",
      "        If ``x1.shape != x2.shape``, they must be broadcastable to a common\n",
      "        shape (which becomes the shape of the output).\n",
      "    out : ndarray, None, or tuple of ndarray and None, optional\n",
      "        A location into which the result is stored. If provided, it must have\n",
      "        a shape that the inputs broadcast to. If not provided or None,\n",
      "        a freshly-allocated array is returned. A tuple (possible only as a\n",
      "        keyword argument) must have length equal to the number of outputs.\n",
      "    where : array_like, optional\n",
      "        This condition is broadcast over the input. At locations where the\n",
      "        condition is True, the `out` array will be set to the ufunc result.\n",
      "        Elsewhere, the `out` array will retain its original value.\n",
      "        Note that if an uninitialized `out` array is created via the default\n",
      "        ``out=None``, locations within it where the condition is False will\n",
      "        remain uninitialized.\n",
      "    **kwargs\n",
      "        For other keyword-only arguments, see the\n",
      "        :ref:`ufunc docs <ufuncs.kwargs>`.\n",
      "    \n",
      "    Returns\n",
      "    -------\n",
      "    add : ndarray or scalar\n",
      "        The sum of `x1` and `x2`, element-wise.\n",
      "        This is a scalar if both `x1` and `x2` are scalars.\n",
      "    \n",
      "    Notes\n",
      "    -----\n",
      "    Equivalent to `x1` + `x2` in terms of array broadcasting.\n",
      "    \n",
      "    Examples\n",
      "    --------\n",
      "    >>> np.add(1.0, 4.0)\n",
      "    5.0\n",
      "    >>> x1 = np.arange(9.0).reshape((3, 3))\n",
      "    >>> x2 = np.arange(3.0)\n",
      "    >>> np.add(x1, x2)\n",
      "    array([[  0.,   2.,   4.],\n",
      "           [  3.,   5.,   7.],\n",
      "           [  6.,   8.,  10.]])\n",
      "    \n",
      "    The ``+`` operator can be used as a shorthand for ``np.add`` on ndarrays.\n",
      "    \n",
      "    >>> x1 = np.arange(9.0).reshape((3, 3))\n",
      "    >>> x2 = np.arange(3.0)\n",
      "    >>> x1 + x2\n",
      "    array([[ 0.,  2.,  4.],\n",
      "           [ 3.,  5.,  7.],\n",
      "           [ 6.,  8., 10.]])\n",
      "\n"
     ]
    }
   ],
   "source": [
    "help(np.add)"
   ]
  },
  {
   "cell_type": "markdown",
   "metadata": {},
   "source": [
    "#### 6.  Create a null vector of size 10 but the fifth value which is 1 (★☆☆)"
   ]
  },
  {
   "cell_type": "code",
   "execution_count": 6,
   "metadata": {
    "collapsed": false
   },
   "outputs": [
    {
     "name": "stdout",
     "output_type": "stream",
     "text": [
      "[0. 0. 0. 0. 0. 0. 0. 0. 0. 0.]\n",
      "[0. 0. 0. 0. 1. 0. 0. 0. 0. 0.]\n"
     ]
    }
   ],
   "source": [
    "a = np.zeros(10)\n",
    "print(a)\n",
    "a[4] = 1\n",
    "print(a)"
   ]
  },
  {
   "cell_type": "markdown",
   "metadata": {},
   "source": [
    "#### 7.  Create a vector with values ranging from 10 to 49 (★☆☆)"
   ]
  },
  {
   "cell_type": "code",
   "execution_count": 7,
   "metadata": {
    "collapsed": false
   },
   "outputs": [
    {
     "data": {
      "text/plain": [
       "array([10, 11, 12, 13, 14, 15, 16, 17, 18, 19, 20, 21, 22, 23, 24, 25, 26,\n",
       "       27, 28, 29, 30, 31, 32, 33, 34, 35, 36, 37, 38, 39, 40, 41, 42, 43,\n",
       "       44, 45, 46, 47, 48, 49])"
      ]
     },
     "execution_count": 7,
     "metadata": {},
     "output_type": "execute_result"
    }
   ],
   "source": [
    "v = np.arange(10,50)\n",
    "v"
   ]
  },
  {
   "cell_type": "markdown",
   "metadata": {},
   "source": [
    "#### 8.  Reverse a vector (first element becomes last) (★☆☆)"
   ]
  },
  {
   "cell_type": "code",
   "execution_count": 8,
   "metadata": {
    "collapsed": false
   },
   "outputs": [
    {
     "name": "stdout",
     "output_type": "stream",
     "text": [
      "[10 11 12 13 14 15 16 17 18 19 20 21 22 23 24 25 26 27 28 29 30 31 32 33\n",
      " 34 35 36 37 38 39 40 41 42 43 44 45 46 47 48 49]\n"
     ]
    },
    {
     "data": {
      "text/plain": [
       "array([49, 48, 47, 46, 45, 44, 43, 42, 41, 40, 39, 38, 37, 36, 35, 34, 33,\n",
       "       32, 31, 30, 29, 28, 27, 26, 25, 24, 23, 22, 21, 20, 19, 18, 17, 16,\n",
       "       15, 14, 13, 12, 11, 10])"
      ]
     },
     "execution_count": 8,
     "metadata": {},
     "output_type": "execute_result"
    }
   ],
   "source": [
    "print(v)\n",
    "v = v[::-1]\n",
    "v"
   ]
  },
  {
   "cell_type": "markdown",
   "metadata": {},
   "source": [
    "#### 9.  Create a 3x3 matrix with values ranging from 0 to 8 (★☆☆)"
   ]
  },
  {
   "cell_type": "code",
   "execution_count": 9,
   "metadata": {
    "collapsed": false
   },
   "outputs": [
    {
     "data": {
      "text/plain": [
       "array([[0, 1, 2],\n",
       "       [3, 4, 5],\n",
       "       [6, 7, 8]])"
      ]
     },
     "execution_count": 9,
     "metadata": {},
     "output_type": "execute_result"
    }
   ],
   "source": [
    "# mat = np.array([(np.arange(0,9,3)),(np.arange(0,9,3)),(np.arange(0,9,3))])\n",
    "# mat\n",
    "mat = np.arange(9).reshape(3,3)\n",
    "mat"
   ]
  },
  {
   "cell_type": "markdown",
   "metadata": {},
   "source": [
    "#### 10. Find indices of non-zero elements from \\[1,2,0,0,4,0\\] (★☆☆)"
   ]
  },
  {
   "cell_type": "code",
   "execution_count": 10,
   "metadata": {
    "collapsed": false
   },
   "outputs": [
    {
     "data": {
      "text/plain": [
       "(array([0, 1, 4], dtype=int64),)"
      ]
     },
     "execution_count": 10,
     "metadata": {},
     "output_type": "execute_result"
    }
   ],
   "source": [
    "a = np.nonzero([1,2,0,0,4,0])\n",
    "a"
   ]
  },
  {
   "cell_type": "markdown",
   "metadata": {},
   "source": [
    "#### 11. Create a 3x3 identity matrix (★☆☆)"
   ]
  },
  {
   "cell_type": "code",
   "execution_count": 11,
   "metadata": {
    "collapsed": false
   },
   "outputs": [
    {
     "data": {
      "text/plain": [
       "array([[1., 0., 0.],\n",
       "       [0., 1., 0.],\n",
       "       [0., 0., 1.]])"
      ]
     },
     "execution_count": 11,
     "metadata": {},
     "output_type": "execute_result"
    }
   ],
   "source": [
    "np.eye(3)"
   ]
  },
  {
   "cell_type": "markdown",
   "metadata": {},
   "source": [
    "#### 12. Create a 3x3x3 array with random values (★☆☆)"
   ]
  },
  {
   "cell_type": "code",
   "execution_count": 12,
   "metadata": {
    "collapsed": true
   },
   "outputs": [
    {
     "data": {
      "text/plain": [
       "array([[[6, 1, 9],\n",
       "        [8, 4, 9],\n",
       "        [8, 1, 6]],\n",
       "\n",
       "       [[4, 7, 0],\n",
       "        [6, 0, 3],\n",
       "        [3, 9, 2]],\n",
       "\n",
       "       [[0, 4, 8],\n",
       "        [2, 7, 7],\n",
       "        [4, 5, 7]]])"
      ]
     },
     "execution_count": 12,
     "metadata": {},
     "output_type": "execute_result"
    }
   ],
   "source": [
    "np.random.randint(0,10,(3,3,3))"
   ]
  },
  {
   "cell_type": "markdown",
   "metadata": {},
   "source": [
    "#### 13. Create a 10x10 array with random values and find the minimum and maximum values (★☆☆)"
   ]
  },
  {
   "cell_type": "code",
   "execution_count": 13,
   "metadata": {
    "collapsed": false
   },
   "outputs": [
    {
     "name": "stdout",
     "output_type": "stream",
     "text": [
      "Max :  387\n",
      "Min :  2\n"
     ]
    }
   ],
   "source": [
    "# a = np.random.random((10,10))\n",
    "# print(\"Max : \",a.max())\n",
    "# print(\"Min : \",a.min())\n",
    "a = np.random.randint(0,np.random.randint(1, 1000),(10,10))\n",
    "print(\"Max : \",a.max())\n",
    "print(\"Min : \",a.min())"
   ]
  },
  {
   "cell_type": "markdown",
   "metadata": {},
   "source": [
    "#### 14. Create a random vector of size 30 and find the mean value (★☆☆)"
   ]
  },
  {
   "cell_type": "code",
   "execution_count": 14,
   "metadata": {
    "collapsed": false
   },
   "outputs": [
    {
     "data": {
      "text/plain": [
       "0.4677340153902177"
      ]
     },
     "execution_count": 14,
     "metadata": {},
     "output_type": "execute_result"
    }
   ],
   "source": [
    "np.random.random(30).mean()"
   ]
  },
  {
   "cell_type": "markdown",
   "metadata": {},
   "source": [
    "#### 15. Create a 2d array with 1 on the border and 0 inside (★☆☆)"
   ]
  },
  {
   "cell_type": "code",
   "execution_count": 15,
   "metadata": {
    "collapsed": false
   },
   "outputs": [
    {
     "data": {
      "text/plain": [
       "array([[1, 1, 1, 1, 1, 1, 1],\n",
       "       [0, 0, 0, 0, 0, 0, 1],\n",
       "       [0, 0, 0, 0, 0, 0, 1],\n",
       "       [0, 0, 0, 0, 0, 0, 1],\n",
       "       [0, 0, 0, 0, 0, 0, 1],\n",
       "       [0, 0, 0, 0, 0, 0, 1],\n",
       "       [1, 1, 1, 1, 1, 1, 1]])"
      ]
     },
     "execution_count": 15,
     "metadata": {},
     "output_type": "execute_result"
    }
   ],
   "source": [
    "n, m = 7 , 7 \n",
    "a = np.zeros((n,m), dtype=int)\n",
    "a[0,:] = 1\n",
    "a[:,-1] = 1\n",
    "a[-1,:] = 1\n",
    "a[:,-1] = 1\n",
    "\n",
    "a"
   ]
  },
  {
   "cell_type": "code",
   "execution_count": 16,
   "metadata": {},
   "outputs": [
    {
     "data": {
      "text/plain": [
       "array([[1, 1, 1, 1, 1, 1, 1],\n",
       "       [1, 0, 0, 0, 0, 0, 1],\n",
       "       [1, 0, 0, 0, 0, 0, 1],\n",
       "       [1, 0, 0, 0, 0, 0, 1],\n",
       "       [1, 0, 0, 0, 0, 0, 1],\n",
       "       [1, 0, 0, 0, 0, 0, 1],\n",
       "       [1, 1, 1, 1, 1, 1, 1]])"
      ]
     },
     "execution_count": 16,
     "metadata": {},
     "output_type": "execute_result"
    }
   ],
   "source": [
    "a = np.zeros((5,5), dtype=int)\n",
    "\n",
    "a = np.pad(a,pad_width=1,mode=\"constant\",constant_values=1)\n",
    "a"
   ]
  },
  {
   "cell_type": "markdown",
   "metadata": {},
   "source": [
    "#### 16. How to add a border (filled with 0's) around an existing array? (★☆☆)"
   ]
  },
  {
   "cell_type": "code",
   "execution_count": 17,
   "metadata": {
    "collapsed": false
   },
   "outputs": [
    {
     "data": {
      "text/plain": [
       "array([[0, 0, 0, 0, 0, 0, 0],\n",
       "       [0, 1, 1, 1, 1, 1, 0],\n",
       "       [0, 1, 1, 1, 1, 1, 0],\n",
       "       [0, 1, 1, 1, 1, 1, 0],\n",
       "       [0, 1, 1, 1, 1, 1, 0],\n",
       "       [0, 1, 1, 1, 1, 1, 0],\n",
       "       [0, 0, 0, 0, 0, 0, 0]])"
      ]
     },
     "execution_count": 17,
     "metadata": {},
     "output_type": "execute_result"
    }
   ],
   "source": [
    "a = np.ones((5,5), dtype=int)\n",
    "\n",
    "a = np.pad(a,pad_width=1,mode=\"constant\",constant_values=0)\n",
    "a"
   ]
  },
  {
   "cell_type": "markdown",
   "metadata": {},
   "source": [
    "#### 17. What is the result of the following expression? (★☆☆)"
   ]
  },
  {
   "cell_type": "markdown",
   "metadata": {},
   "source": [
    "```python\n",
    "0 * np.nan\n",
    "np.nan == np.nan\n",
    "np.inf > np.nan\n",
    "np.nan - np.nan\n",
    "0.3 == 3 * 0.1\n",
    "```"
   ]
  },
  {
   "cell_type": "code",
   "execution_count": 18,
   "metadata": {
    "collapsed": false
   },
   "outputs": [
    {
     "name": "stdout",
     "output_type": "stream",
     "text": [
      "nan\n",
      "False\n",
      "False\n",
      "nan\n",
      "False\n"
     ]
    }
   ],
   "source": [
    "print(0 * np.nan)\n",
    "print(np.nan == np.nan)\n",
    "print(np.inf > np.nan)\n",
    "print(np.nan - np.nan)\n",
    "print(0.3 == 3 * 0.1)"
   ]
  },
  {
   "cell_type": "markdown",
   "metadata": {},
   "source": [
    "#### 18. Create a 5x5 matrix with values 1,2,3,4 just below the diagonal (★☆☆)"
   ]
  },
  {
   "cell_type": "code",
   "execution_count": 19,
   "metadata": {
    "collapsed": false
   },
   "outputs": [
    {
     "data": {
      "text/plain": [
       "array([[0, 0, 0, 0, 0],\n",
       "       [1, 0, 0, 0, 0],\n",
       "       [0, 2, 0, 0, 0],\n",
       "       [0, 0, 3, 0, 0],\n",
       "       [0, 0, 0, 4, 0]])"
      ]
     },
     "execution_count": 19,
     "metadata": {},
     "output_type": "execute_result"
    }
   ],
   "source": [
    "np.diag(1+np.arange(4),k=-1)"
   ]
  },
  {
   "cell_type": "markdown",
   "metadata": {},
   "source": [
    "#### 19. Create a 8x8 matrix and fill it with a checkerboard pattern (★☆☆)"
   ]
  },
  {
   "cell_type": "code",
   "execution_count": 20,
   "metadata": {
    "collapsed": false
   },
   "outputs": [
    {
     "data": {
      "text/plain": [
       "array([[0, 1, 0, 1, 0, 1, 0, 1],\n",
       "       [1, 0, 1, 0, 1, 0, 1, 0],\n",
       "       [0, 1, 0, 1, 0, 1, 0, 1],\n",
       "       [1, 0, 1, 0, 1, 0, 1, 0],\n",
       "       [0, 1, 0, 1, 0, 1, 0, 1],\n",
       "       [1, 0, 1, 0, 1, 0, 1, 0],\n",
       "       [0, 1, 0, 1, 0, 1, 0, 1],\n",
       "       [1, 0, 1, 0, 1, 0, 1, 0]])"
      ]
     },
     "execution_count": 20,
     "metadata": {},
     "output_type": "execute_result"
    }
   ],
   "source": [
    "a = np.zeros((8,8),dtype=int)\n",
    "a[1::2,::2] = 1\n",
    "a[::2,1::2] = 1\n",
    "a"
   ]
  },
  {
   "cell_type": "markdown",
   "metadata": {},
   "source": [
    "#### 20. Consider a (6,7,8) shape array, what is the index (x,y,z) of the 100th element?"
   ]
  },
  {
   "cell_type": "code",
   "execution_count": 21,
   "metadata": {
    "collapsed": false
   },
   "outputs": [
    {
     "data": {
      "text/plain": [
       "(1, 5, 4)"
      ]
     },
     "execution_count": 21,
     "metadata": {},
     "output_type": "execute_result"
    }
   ],
   "source": [
    "np.unravel_index(100, (6,7,8))"
   ]
  },
  {
   "cell_type": "markdown",
   "metadata": {},
   "source": [
    "#### 21. Create a checkerboard 8x8 matrix using the tile function (★☆☆)"
   ]
  },
  {
   "cell_type": "code",
   "execution_count": 22,
   "metadata": {
    "collapsed": false
   },
   "outputs": [
    {
     "data": {
      "text/plain": [
       "array([[0, 1, 0, 1, 0, 1, 0, 1],\n",
       "       [1, 0, 1, 0, 1, 0, 1, 0],\n",
       "       [0, 1, 0, 1, 0, 1, 0, 1],\n",
       "       [1, 0, 1, 0, 1, 0, 1, 0],\n",
       "       [0, 1, 0, 1, 0, 1, 0, 1],\n",
       "       [1, 0, 1, 0, 1, 0, 1, 0],\n",
       "       [0, 1, 0, 1, 0, 1, 0, 1],\n",
       "       [1, 0, 1, 0, 1, 0, 1, 0]])"
      ]
     },
     "execution_count": 22,
     "metadata": {},
     "output_type": "execute_result"
    }
   ],
   "source": [
    "a = np.array([[0,1],[1,0]])\n",
    "b = np.tile(a,(4,4))\n",
    "b"
   ]
  },
  {
   "cell_type": "markdown",
   "metadata": {},
   "source": [
    "#### 22. Normalize a 5x5 random matrix (★☆☆)"
   ]
  },
  {
   "cell_type": "code",
   "execution_count": 23,
   "metadata": {
    "collapsed": false
   },
   "outputs": [
    {
     "name": "stdout",
     "output_type": "stream",
     "text": [
      "[[34 56 31 69 21]\n",
      " [21 58 16 19  3]\n",
      " [ 5 24 60 26 40]\n",
      " [69 26  8  9 59]\n",
      " [16 13 51 54 20]]\n"
     ]
    },
    {
     "data": {
      "text/plain": [
       "array([[0.46969697, 0.8030303 , 0.42424242, 1.        , 0.27272727],\n",
       "       [0.27272727, 0.83333333, 0.1969697 , 0.24242424, 0.        ],\n",
       "       [0.03030303, 0.31818182, 0.86363636, 0.34848485, 0.56060606],\n",
       "       [1.        , 0.34848485, 0.07575758, 0.09090909, 0.84848485],\n",
       "       [0.1969697 , 0.15151515, 0.72727273, 0.77272727, 0.25757576]])"
      ]
     },
     "execution_count": 23,
     "metadata": {},
     "output_type": "execute_result"
    }
   ],
   "source": [
    "a = np.random.randint(0,np.random.randint(0,100), (5,5))\n",
    "print(a)\n",
    "n = (a-a.min()) / (a.max()-a.min())\n",
    "n"
   ]
  },
  {
   "cell_type": "markdown",
   "metadata": {},
   "source": [
    "#### 23. Create a custom dtype that describes a color as four unsigned bytes (RGBA) (★☆☆)"
   ]
  },
  {
   "cell_type": "code",
   "execution_count": 24,
   "metadata": {
    "collapsed": true
   },
   "outputs": [
    {
     "name": "stdout",
     "output_type": "stream",
     "text": [
      "(255, 0, 0, 255)\n"
     ]
    }
   ],
   "source": [
    "rgba_dtype = np.dtype([\n",
    "    ('r', np.uint8),\n",
    "    ('g', np.uint8),\n",
    "    ('b', np.uint8),\n",
    "    ('a', np.uint8)\n",
    "])\n",
    "color = np.array((255, 0, 0, 255), dtype=rgba_dtype)\n",
    "\n",
    "print(color)"
   ]
  },
  {
   "cell_type": "markdown",
   "metadata": {},
   "source": [
    "#### 24. Multiply a 5x3 matrix by a 3x2 matrix (real matrix product) (★☆☆)"
   ]
  },
  {
   "cell_type": "code",
   "execution_count": 25,
   "metadata": {
    "collapsed": false
   },
   "outputs": [
    {
     "name": "stdout",
     "output_type": "stream",
     "text": [
      "A :  [[1 5 0]\n",
      " [0 4 4]\n",
      " [5 3 2]\n",
      " [0 4 7]\n",
      " [0 5 3]]\n",
      "B :  [[3 6]\n",
      " [0 3]\n",
      " [5 4]]\n"
     ]
    },
    {
     "data": {
      "text/plain": [
       "array([[ 3, 21],\n",
       "       [20, 28],\n",
       "       [25, 47],\n",
       "       [35, 40],\n",
       "       [15, 27]])"
      ]
     },
     "execution_count": 25,
     "metadata": {},
     "output_type": "execute_result"
    }
   ],
   "source": [
    "a = np.random.randint(0,np.random.randint(1,10), (5,3))\n",
    "b = np.random.randint(0,np.random.randint(1,10), (3,2))\n",
    "print(\"A : \",a)\n",
    "print(\"B : \",b)\n",
    "a@b"
   ]
  },
  {
   "cell_type": "markdown",
   "metadata": {},
   "source": [
    "#### 25. Given a 1D array, negate all elements which are between 3 and 8, in place. (★☆☆)"
   ]
  },
  {
   "cell_type": "code",
   "execution_count": 26,
   "metadata": {
    "collapsed": false
   },
   "outputs": [
    {
     "data": {
      "text/plain": [
       "array([96, 10, 50, 28, 70, 20, 24, 64, 72, 10, 77, 43, 46, 98, 53, 10, 91,\n",
       "       52, 70, 49, 52, 93, 94, 16, 50, 25, 94,  9, 31, 45, 54, 58, 26, 16,\n",
       "       30, 30, 82, 91, 37, 68, 43, 12, -1, 42,  9, 13, 10, 43, 65, 69, 38,\n",
       "       -1, 51, 40, 59, 51, 60, 28, 31, 68, 62, 14, 38, 10, 33, 80, 41, 43,\n",
       "       -1, 51, 51, 82, 51, 18, 10, 17, 81, 45, 45, 42, -1, 45, 86, -1, 55,\n",
       "       48, 78, 89, 72, 30, 96, 32, 61, 80, 96, -1, 53, 32, 56, 57, 16])"
      ]
     },
     "execution_count": 26,
     "metadata": {},
     "output_type": "execute_result"
    }
   ],
   "source": [
    "# a = np.arange(101)\n",
    "a = np.random.randint(2,100,size=101)\n",
    "a[(a>=3) & (a<=8)] = -1\n",
    "a"
   ]
  },
  {
   "cell_type": "markdown",
   "metadata": {},
   "source": [
    "#### 26. What is the output of the following script? (★☆☆)"
   ]
  },
  {
   "cell_type": "markdown",
   "metadata": {},
   "source": [
    "```python\n",
    "print(sum(range(5),-1))\n",
    "from numpy import *\n",
    "print(sum(range(5),-1))\n",
    "```"
   ]
  },
  {
   "cell_type": "code",
   "execution_count": 27,
   "metadata": {},
   "outputs": [
    {
     "name": "stdout",
     "output_type": "stream",
     "text": [
      "9\n",
      "10\n"
     ]
    }
   ],
   "source": [
    "print(sum(range(5),-1))\n",
    "from numpy import *\n",
    "print(sum(range(5),-1))"
   ]
  },
  {
   "cell_type": "markdown",
   "metadata": {},
   "source": [
    "#### 27. Consider an integer vector Z, which of these expressions are legal? (★☆☆)"
   ]
  },
  {
   "cell_type": "markdown",
   "metadata": {},
   "source": [
    "```python\n",
    "Z**Z\n",
    "2 << Z >> 2\n",
    "Z <- Z\n",
    "1j*Z\n",
    "Z/1/1\n",
    "Z<Z>Z\n",
    "```"
   ]
  },
  {
   "cell_type": "code",
   "execution_count": 31,
   "metadata": {
    "collapsed": false
   },
   "outputs": [
    {
     "name": "stdout",
     "output_type": "stream",
     "text": [
      "[         1          1          4         27        256       3125\n",
      "      46656     823543   16777216  387420489 1410065408]\n",
      "[  0   1   2   4   8  16  32  64 128 256 512]\n",
      "[False False False False False False False False False False False]\n",
      "[0. +0.j 0. +1.j 0. +2.j 0. +3.j 0. +4.j 0. +5.j 0. +6.j 0. +7.j 0. +8.j\n",
      " 0. +9.j 0.+10.j]\n",
      "[ 0.  1.  2.  3.  4.  5.  6.  7.  8.  9. 10.]\n"
     ]
    }
   ],
   "source": [
    "Z = np.arange(11)\n",
    "print(Z**Z)\n",
    "print(2 << Z >> 2)\n",
    "print(Z <- Z)\n",
    "print(1j*Z)\n",
    "print(Z/1/1)\n",
    "#print(Z<Z>Z)"
   ]
  },
  {
   "cell_type": "markdown",
   "metadata": {},
   "source": [
    "#### 28. What are the result of the following expressions?"
   ]
  },
  {
   "cell_type": "markdown",
   "metadata": {},
   "source": [
    "```python\n",
    "np.array(0) / np.array(0)\n",
    "np.array(0) // np.array(0)\n",
    "np.array([np.nan]).astype(int).astype(float)\n",
    "```"
   ]
  },
  {
   "cell_type": "code",
   "execution_count": null,
   "metadata": {},
   "outputs": [],
   "source": []
  },
  {
   "cell_type": "code",
   "execution_count": 32,
   "metadata": {
    "collapsed": false
   },
   "outputs": [
    {
     "name": "stdout",
     "output_type": "stream",
     "text": [
      "nan\n",
      "0\n",
      "[-2.14748365e+09]\n"
     ]
    },
    {
     "name": "stderr",
     "output_type": "stream",
     "text": [
      "C:\\Users\\Admin\\AppData\\Local\\Temp\\ipykernel_15728\\3912170336.py:1: RuntimeWarning: invalid value encountered in true_divide\n",
      "  print(np.array(0) / np.array(0))\n",
      "C:\\Users\\Admin\\AppData\\Local\\Temp\\ipykernel_15728\\3912170336.py:2: RuntimeWarning: divide by zero encountered in floor_divide\n",
      "  print(np.array(0) // np.array(0))\n"
     ]
    }
   ],
   "source": [
    "print(np.array(0) / np.array(0))\n",
    "print(np.array(0) // np.array(0))\n",
    "print(np.array([np.nan]).astype(int).astype(float))"
   ]
  },
  {
   "cell_type": "markdown",
   "metadata": {},
   "source": [
    "#### 29. How to round away from zero a float array ? (★☆☆)"
   ]
  },
  {
   "cell_type": "code",
   "execution_count": 33,
   "metadata": {
    "collapsed": false
   },
   "outputs": [
    {
     "name": "stdout",
     "output_type": "stream",
     "text": [
      "[ 8.11755425 -0.57234081  6.73205804 -6.87057628 -0.87936385 -8.28922288\n",
      "  0.04095949 -4.73648522 -3.25114381  9.86941244]\n",
      "[ 9. -1.  7. -7. -1. -9.  1. -5. -4. 10.]\n"
     ]
    }
   ],
   "source": [
    "Z = np.random.uniform(-10, +10, 10)\n",
    "print(Z)\n",
    "print(np.copysign(np.ceil(np.abs(Z)), Z))"
   ]
  },
  {
   "cell_type": "markdown",
   "metadata": {},
   "source": [
    "#### 30. How to find common values between two arrays? (★☆☆)"
   ]
  },
  {
   "cell_type": "code",
   "execution_count": 34,
   "metadata": {
    "collapsed": false
   },
   "outputs": [
    {
     "name": "stdout",
     "output_type": "stream",
     "text": [
      "[0 1 4]\n"
     ]
    }
   ],
   "source": [
    "a = np.random.randint(0,10,10)\n",
    "b = np.random.randint(0,10,10)\n",
    "print(np.intersect1d(a,b))"
   ]
  },
  {
   "cell_type": "markdown",
   "metadata": {},
   "source": [
    "#### 31. How to ignore all numpy warnings (not recommended)? (★☆☆)"
   ]
  },
  {
   "cell_type": "code",
   "execution_count": 35,
   "metadata": {
    "collapsed": false
   },
   "outputs": [],
   "source": [
    "with np.errstate(divide='ignore'):\n",
    "    Z = np.ones(1) / 0"
   ]
  },
  {
   "cell_type": "markdown",
   "metadata": {},
   "source": [
    "#### 32. Is the following expressions true? (★☆☆)"
   ]
  },
  {
   "cell_type": "markdown",
   "metadata": {},
   "source": [
    "```python\n",
    "np.sqrt(-1) == np.emath.sqrt(-1)\n",
    "```"
   ]
  },
  {
   "cell_type": "code",
   "execution_count": 36,
   "metadata": {
    "collapsed": false
   },
   "outputs": [
    {
     "name": "stdout",
     "output_type": "stream",
     "text": [
      "False\n"
     ]
    },
    {
     "name": "stderr",
     "output_type": "stream",
     "text": [
      "C:\\Users\\Admin\\AppData\\Local\\Temp\\ipykernel_15728\\2770867030.py:1: RuntimeWarning: invalid value encountered in sqrt\n",
      "  print(np.sqrt(-1) == np.emath.sqrt(-1))\n"
     ]
    }
   ],
   "source": [
    "print(np.sqrt(-1) == np.emath.sqrt(-1))"
   ]
  },
  {
   "cell_type": "markdown",
   "metadata": {},
   "source": [
    "#### 33. How to get the dates of yesterday, today and tomorrow? (★☆☆)"
   ]
  },
  {
   "cell_type": "code",
   "execution_count": 37,
   "metadata": {
    "collapsed": true
   },
   "outputs": [
    {
     "name": "stdout",
     "output_type": "stream",
     "text": [
      "Yesterday: 2025-05-07\n",
      "Today:     2025-05-08\n",
      "Tomorrow:  2025-05-09\n"
     ]
    }
   ],
   "source": [
    "today = np.datetime64('today', 'D')\n",
    "yesterday = today - np.timedelta64(1, 'D')\n",
    "tomorrow = today + np.timedelta64(1, 'D')\n",
    "\n",
    "print(\"Yesterday:\", yesterday)\n",
    "print(\"Today:    \", today)\n",
    "print(\"Tomorrow: \", tomorrow)"
   ]
  },
  {
   "cell_type": "markdown",
   "metadata": {},
   "source": [
    "#### 34. How to get all the dates corresponding to the month of July 2016? (★★☆)"
   ]
  },
  {
   "cell_type": "code",
   "execution_count": 38,
   "metadata": {
    "collapsed": false
   },
   "outputs": [
    {
     "name": "stdout",
     "output_type": "stream",
     "text": [
      "['2016-07-01' '2016-07-02' '2016-07-03' '2016-07-04' '2016-07-05'\n",
      " '2016-07-06' '2016-07-07' '2016-07-08' '2016-07-09' '2016-07-10'\n",
      " '2016-07-11' '2016-07-12' '2016-07-13' '2016-07-14' '2016-07-15'\n",
      " '2016-07-16' '2016-07-17' '2016-07-18' '2016-07-19' '2016-07-20'\n",
      " '2016-07-21' '2016-07-22' '2016-07-23' '2016-07-24' '2016-07-25'\n",
      " '2016-07-26' '2016-07-27' '2016-07-28' '2016-07-29' '2016-07-30'\n",
      " '2016-07-31']\n"
     ]
    }
   ],
   "source": [
    "Z = np.arange('2016-07', '2016-08', dtype='datetime64[D]')\n",
    "print(Z)"
   ]
  },
  {
   "cell_type": "markdown",
   "metadata": {},
   "source": [
    "#### 35. How to compute ((A+B)\\*(-A/2)) in place (without copy)? (★★☆)"
   ]
  },
  {
   "cell_type": "code",
   "execution_count": 39,
   "metadata": {
    "collapsed": false
   },
   "outputs": [
    {
     "name": "stdout",
     "output_type": "stream",
     "text": [
      "[1. 1. 1. 1. 1.]\n",
      "[2. 2. 2. 2. 2.]\n",
      "[3. 3. 3. 3. 3.]\n",
      "[0.5 0.5 0.5 0.5 0.5]\n",
      "[-0.5 -0.5 -0.5 -0.5 -0.5]\n",
      "[-1.5 -1.5 -1.5 -1.5 -1.5]\n"
     ]
    }
   ],
   "source": [
    "a = np.ones(5)*1\n",
    "b = np.ones(5)*2\n",
    "print(a)\n",
    "print(b)\n",
    "print(np.add(a,b,out=b))\n",
    "print(np.divide(a,2,out=a))\n",
    "print(np.negative(a,out=a))\n",
    "print(np.multiply(a,b,out=a))"
   ]
  },
  {
   "cell_type": "markdown",
   "metadata": {},
   "source": [
    "#### 36. Extract the integer part of a random array using 5 different methods (★★☆)"
   ]
  },
  {
   "cell_type": "code",
   "execution_count": 40,
   "metadata": {
    "collapsed": false
   },
   "outputs": [
    {
     "name": "stdout",
     "output_type": "stream",
     "text": [
      "[3.34787553 4.43228928 5.93041662 0.91268543 5.97648008 2.62228029\n",
      " 4.18443846 6.27451092 6.75300296 8.08756107]\n",
      "------------------------------\n",
      "[3 4 5 0 5 2 4 6 6 8]\n",
      "------------------------------\n",
      "[3 4 5 0 5 2 4 6 6 8]\n",
      "------------------------------\n",
      "[3 4 5 0 5 2 4 6 6 8]\n",
      "------------------------------\n",
      "[3 4 5 0 5 2 4 6 6 8]\n",
      "------------------------------\n",
      "[3 4 5 0 5 2 4 6 6 8]\n",
      "------------------------------\n",
      "[3 4 5 0 5 2 4 6 6 8]\n"
     ]
    }
   ],
   "source": [
    "a = np.random.uniform(0,10,10)\n",
    "print(a)\n",
    "print(\"-\"*30)\n",
    "print(np.floor(a).astype(int))\n",
    "print(\"-\"*30)\n",
    "print(np.trunc(a).astype(int))\n",
    "print(\"-\"*30)\n",
    "print(a.astype(int))\n",
    "print(\"-\"*30)\n",
    "print(np.fix(a).astype(int))\n",
    "print(\"-\"*30)\n",
    "print(np.ceil(a).astype(int)-1)\n",
    "print(\"-\"*30)\n",
    "print((a-a%1).astype(int))"
   ]
  },
  {
   "cell_type": "markdown",
   "metadata": {},
   "source": [
    "#### 37. Create a 5x5 matrix with row values ranging from 0 to 4 (★★☆)"
   ]
  },
  {
   "cell_type": "code",
   "execution_count": 41,
   "metadata": {
    "collapsed": false
   },
   "outputs": [
    {
     "data": {
      "text/plain": [
       "array([[0, 1, 2, 3, 4],\n",
       "       [0, 1, 2, 3, 4],\n",
       "       [0, 1, 2, 3, 4],\n",
       "       [0, 1, 2, 3, 4],\n",
       "       [0, 1, 2, 3, 4]])"
      ]
     },
     "execution_count": 41,
     "metadata": {},
     "output_type": "execute_result"
    }
   ],
   "source": [
    "a = np.arange(5).reshape(1,5)\n",
    "a = np.tile(a,(5,1))\n",
    "a"
   ]
  },
  {
   "cell_type": "markdown",
   "metadata": {},
   "source": [
    "#### 38. Consider a generator function that generates 10 integers and use it to build an array (★☆☆)"
   ]
  },
  {
   "cell_type": "code",
   "execution_count": 42,
   "metadata": {
    "collapsed": false
   },
   "outputs": [
    {
     "name": "stdout",
     "output_type": "stream",
     "text": [
      "(<module 'numpy' from 'c:\\\\Users\\\\Admin\\\\AppData\\\\Local\\\\Programs\\\\Python\\\\Python39\\\\lib\\\\site-packages\\\\numpy\\\\__init__.py'>, array([0, 1, 2, 3, 4, 5, 6, 7, 8, 9]))\n"
     ]
    }
   ],
   "source": [
    "def gen():\n",
    "    for x in range(10):\n",
    "        yield x\n",
    "\n",
    "a = np,fromiter(gen(),dtype=int,count=-1)\n",
    "print(a)"
   ]
  },
  {
   "cell_type": "markdown",
   "metadata": {},
   "source": [
    "#### 39. Create a vector of size 10 with values ranging from 0 to 1, both excluded (★★☆)"
   ]
  },
  {
   "cell_type": "code",
   "execution_count": 43,
   "metadata": {
    "collapsed": false
   },
   "outputs": [
    {
     "data": {
      "text/plain": [
       "array([0.09090909, 0.18181818, 0.27272727, 0.36363636, 0.45454545,\n",
       "       0.54545455, 0.63636364, 0.72727273, 0.81818182, 0.90909091])"
      ]
     },
     "execution_count": 43,
     "metadata": {},
     "output_type": "execute_result"
    }
   ],
   "source": [
    "np.linspace(0,1,12,endpoint=True)[1:-1]"
   ]
  },
  {
   "cell_type": "markdown",
   "metadata": {},
   "source": [
    "#### 40. Create a random vector of size 10 and sort it (★★☆)"
   ]
  },
  {
   "cell_type": "code",
   "execution_count": 44,
   "metadata": {
    "collapsed": false
   },
   "outputs": [
    {
     "name": "stdout",
     "output_type": "stream",
     "text": [
      "[3 6 8 3 1 0 4 7 0 6]\n",
      "--------------------------------------------------\n",
      "[0 0 1 3 3 4 6 6 7 8]\n"
     ]
    }
   ],
   "source": [
    "a = np.random.randint(0,10,10)\n",
    "print(a)\n",
    "print(\"-\"*50)\n",
    "print(np.sort(a))"
   ]
  },
  {
   "cell_type": "markdown",
   "metadata": {},
   "source": [
    "#### 41. How to sum a small array faster than np.sum? (★★☆)"
   ]
  },
  {
   "cell_type": "code",
   "execution_count": 45,
   "metadata": {
    "collapsed": false
   },
   "outputs": [
    {
     "data": {
      "text/plain": [
       "38"
      ]
     },
     "execution_count": 45,
     "metadata": {},
     "output_type": "execute_result"
    }
   ],
   "source": [
    "# pythons Sum()\n",
    "a.sum()"
   ]
  },
  {
   "cell_type": "markdown",
   "metadata": {},
   "source": [
    "#### 42. Consider two random array A and B, check if they are equal (★★☆)"
   ]
  },
  {
   "cell_type": "code",
   "execution_count": 46,
   "metadata": {
    "collapsed": false
   },
   "outputs": [
    {
     "name": "stdout",
     "output_type": "stream",
     "text": [
      "[9 2 6 2 1 9 9 2 9 5]\n",
      "[4 5 1 0 3 1 0 8 6 5]\n",
      "False\n"
     ]
    },
    {
     "data": {
      "text/plain": [
       "False"
      ]
     },
     "execution_count": 46,
     "metadata": {},
     "output_type": "execute_result"
    }
   ],
   "source": [
    "a = np.random.randint(0,10,10)\n",
    "b = np.random.randint(0,10,10)\n",
    "\n",
    "print(a)\n",
    "print(b)\n",
    "print(np.array_equal(a,b))\n",
    "(a == b).all()\n"
   ]
  },
  {
   "cell_type": "markdown",
   "metadata": {},
   "source": [
    "#### 43. Make an array immutable (read-only) (★★☆)"
   ]
  },
  {
   "cell_type": "code",
   "execution_count": 47,
   "metadata": {
    "collapsed": false
   },
   "outputs": [
    {
     "name": "stdout",
     "output_type": "stream",
     "text": [
      "[0 1 2 3 4 5 6 7 8 9]\n"
     ]
    },
    {
     "data": {
      "text/plain": [
       "(0, 1, 2, 3, 4, 5, 6, 7, 8, 9)"
      ]
     },
     "execution_count": 47,
     "metadata": {},
     "output_type": "execute_result"
    }
   ],
   "source": [
    "a = np.arange(10)\n",
    "a.flags.writeable = False\n",
    "print(a)\n",
    "b = a\n",
    "# OR\n",
    "tuple(b)"
   ]
  },
  {
   "cell_type": "markdown",
   "metadata": {},
   "source": [
    "#### 44. Consider a random 10x2 matrix representing cartesian coordinates, convert them to polar coordinates (★★☆)"
   ]
  },
  {
   "cell_type": "code",
   "execution_count": 48,
   "metadata": {
    "collapsed": false
   },
   "outputs": [
    {
     "name": "stdout",
     "output_type": "stream",
     "text": [
      "[[3 5]\n",
      " [1 2]\n",
      " [1 7]\n",
      " [7 4]\n",
      " [6 3]\n",
      " [7 3]\n",
      " [9 4]\n",
      " [4 1]\n",
      " [4 2]\n",
      " [1 8]]\n"
     ]
    },
    {
     "data": {
      "text/plain": [
       "array([[5.83095189, 1.03037683],\n",
       "       [2.23606798, 1.10714872],\n",
       "       [7.07106781, 1.42889927],\n",
       "       [8.06225775, 0.51914611],\n",
       "       [6.70820393, 0.46364761],\n",
       "       [7.61577311, 0.40489179],\n",
       "       [9.8488578 , 0.41822433],\n",
       "       [4.12310563, 0.24497866],\n",
       "       [4.47213595, 0.46364761],\n",
       "       [8.06225775, 1.44644133]])"
      ]
     },
     "execution_count": 48,
     "metadata": {},
     "output_type": "execute_result"
    }
   ],
   "source": [
    "mat = np.random.randint(0,10,(10,2))\n",
    "print(mat)\n",
    "x = mat[:,0]\n",
    "y = mat[:,1]\n",
    "\n",
    "r = np.sqrt(x**2 + y**2)\n",
    "thetha = np.arctan2(y,x)\n",
    "\n",
    "polar = np.column_stack((r,thetha))\n",
    "polar"
   ]
  },
  {
   "cell_type": "markdown",
   "metadata": {},
   "source": [
    "#### 45. Create random vector of size 10 and replace the maximum value by 0 (★★☆)"
   ]
  },
  {
   "cell_type": "code",
   "execution_count": 49,
   "metadata": {
    "collapsed": false
   },
   "outputs": [
    {
     "name": "stdout",
     "output_type": "stream",
     "text": [
      "[0.67898619 0.2537805  0.49858649 0.52868938 0.95177619 0.52614962\n",
      " 0.84362339 0.001558   0.46858835 0.41268523]\n"
     ]
    },
    {
     "data": {
      "text/plain": [
       "array([0.67898619, 0.2537805 , 0.49858649, 0.52868938, 0.        ,\n",
       "       0.52614962, 0.84362339, 0.001558  , 0.46858835, 0.41268523])"
      ]
     },
     "execution_count": 49,
     "metadata": {},
     "output_type": "execute_result"
    }
   ],
   "source": [
    "a = np.random.rand(10)\n",
    "print(a)\n",
    "a[a==a.max()] = 0\n",
    "a\n"
   ]
  },
  {
   "cell_type": "markdown",
   "metadata": {},
   "source": [
    "#### 46. Create a structured array with `x` and `y` coordinates covering the \\[0,1\\]x\\[0,1\\] area (★★☆)"
   ]
  },
  {
   "cell_type": "code",
   "execution_count": 50,
   "metadata": {
    "collapsed": false
   },
   "outputs": [
    {
     "name": "stdout",
     "output_type": "stream",
     "text": [
      "[[(0.  , 0.  ) (0.25, 0.  ) (0.5 , 0.  ) (0.75, 0.  ) (1.  , 0.  )]\n",
      " [(0.  , 0.25) (0.25, 0.25) (0.5 , 0.25) (0.75, 0.25) (1.  , 0.25)]\n",
      " [(0.  , 0.5 ) (0.25, 0.5 ) (0.5 , 0.5 ) (0.75, 0.5 ) (1.  , 0.5 )]\n",
      " [(0.  , 0.75) (0.25, 0.75) (0.5 , 0.75) (0.75, 0.75) (1.  , 0.75)]\n",
      " [(0.  , 1.  ) (0.25, 1.  ) (0.5 , 1.  ) (0.75, 1.  ) (1.  , 1.  )]]\n"
     ]
    }
   ],
   "source": [
    "a = np.zeros((5,5),[('x',float),('y',float)])\n",
    "\n",
    "x, y = np.meshgrid(np.linspace(0,1,5),np.linspace(0,1,5))\n",
    "\n",
    "a['x'], a['y'] = x,y\n",
    "print(a)"
   ]
  },
  {
   "cell_type": "markdown",
   "metadata": {},
   "source": [
    "####  47. Given two arrays, X and Y, construct the Cauchy matrix C (Cij =1/(xi - yj))"
   ]
  },
  {
   "cell_type": "code",
   "execution_count": 51,
   "metadata": {
    "collapsed": false
   },
   "outputs": [
    {
     "name": "stdout",
     "output_type": "stream",
     "text": [
      "-131.91659501325756\n"
     ]
    }
   ],
   "source": [
    "X = np.arange(5)\n",
    "Y = X + 0.5\n",
    "C = 1.0 / np.subtract.outer(X, Y)\n",
    "print(np.linalg.det(C))"
   ]
  },
  {
   "cell_type": "markdown",
   "metadata": {},
   "source": [
    "#### 48. Print the minimum and maximum representable value for each numpy scalar type (★★☆)"
   ]
  },
  {
   "cell_type": "code",
   "execution_count": 52,
   "metadata": {
    "collapsed": false
   },
   "outputs": [
    {
     "name": "stdout",
     "output_type": "stream",
     "text": [
      "Floating Point Types:\n",
      "<class 'numpy.float16'>: min = -65504.0, max = 65504.0\n",
      "<class 'numpy.float32'>: min = -3.4028234663852886e+38, max = 3.4028234663852886e+38\n",
      "<class 'numpy.float64'>: min = -1.7976931348623157e+308, max = 1.7976931348623157e+308\n",
      "\n",
      "Integer Types:\n",
      "<class 'numpy.int8'>: min = -128, max = 127\n",
      "<class 'numpy.int16'>: min = -32768, max = 32767\n",
      "<class 'numpy.int32'>: min = -2147483648, max = 2147483647\n",
      "<class 'numpy.int64'>: min = -9223372036854775808, max = 9223372036854775807\n",
      "<class 'numpy.uint8'>: min = 0, max = 255\n",
      "<class 'numpy.uint16'>: min = 0, max = 65535\n",
      "<class 'numpy.uint32'>: min = 0, max = 4294967295\n",
      "<class 'numpy.uint64'>: min = 0, max = 18446744073709551615\n"
     ]
    }
   ],
   "source": [
    "# For floating point types\n",
    "print(\"Floating Point Types:\")\n",
    "for dtype in [np.float16, np.float32, np.float64]:\n",
    "    info = np.finfo(dtype)\n",
    "    print(f\"{dtype}: min = {info.min}, max = {info.max}\")\n",
    "\n",
    "# For integer types\n",
    "print(\"\\nInteger Types:\")\n",
    "for dtype in [np.int8, np.int16, np.int32, np.int64, np.uint8, np.uint16, np.uint32, np.uint64]:\n",
    "    info = np.iinfo(dtype)\n",
    "    print(f\"{dtype}: min = {info.min}, max = {info.max}\")"
   ]
  },
  {
   "cell_type": "markdown",
   "metadata": {},
   "source": [
    "#### 49. How to print all the values of an array? (★★☆)"
   ]
  },
  {
   "cell_type": "code",
   "execution_count": 53,
   "metadata": {
    "collapsed": false
   },
   "outputs": [
    {
     "name": "stdout",
     "output_type": "stream",
     "text": [
      "[[0. 0. 0. 0. 0. 0. 0. 0. 0. 0. 0. 0. 0. 0. 0. 0.]\n",
      " [0. 0. 0. 0. 0. 0. 0. 0. 0. 0. 0. 0. 0. 0. 0. 0.]\n",
      " [0. 0. 0. 0. 0. 0. 0. 0. 0. 0. 0. 0. 0. 0. 0. 0.]\n",
      " [0. 0. 0. 0. 0. 0. 0. 0. 0. 0. 0. 0. 0. 0. 0. 0.]\n",
      " [0. 0. 0. 0. 0. 0. 0. 0. 0. 0. 0. 0. 0. 0. 0. 0.]\n",
      " [0. 0. 0. 0. 0. 0. 0. 0. 0. 0. 0. 0. 0. 0. 0. 0.]\n",
      " [0. 0. 0. 0. 0. 0. 0. 0. 0. 0. 0. 0. 0. 0. 0. 0.]\n",
      " [0. 0. 0. 0. 0. 0. 0. 0. 0. 0. 0. 0. 0. 0. 0. 0.]\n",
      " [0. 0. 0. 0. 0. 0. 0. 0. 0. 0. 0. 0. 0. 0. 0. 0.]\n",
      " [0. 0. 0. 0. 0. 0. 0. 0. 0. 0. 0. 0. 0. 0. 0. 0.]\n",
      " [0. 0. 0. 0. 0. 0. 0. 0. 0. 0. 0. 0. 0. 0. 0. 0.]\n",
      " [0. 0. 0. 0. 0. 0. 0. 0. 0. 0. 0. 0. 0. 0. 0. 0.]\n",
      " [0. 0. 0. 0. 0. 0. 0. 0. 0. 0. 0. 0. 0. 0. 0. 0.]\n",
      " [0. 0. 0. 0. 0. 0. 0. 0. 0. 0. 0. 0. 0. 0. 0. 0.]\n",
      " [0. 0. 0. 0. 0. 0. 0. 0. 0. 0. 0. 0. 0. 0. 0. 0.]\n",
      " [0. 0. 0. 0. 0. 0. 0. 0. 0. 0. 0. 0. 0. 0. 0. 0.]]\n"
     ]
    }
   ],
   "source": [
    "np.set_printoptions(threshold=np.inf)\n",
    "Z = np.zeros((16,16))\n",
    "print(Z)"
   ]
  },
  {
   "cell_type": "markdown",
   "metadata": {},
   "source": [
    "#### 50. How to find the closest value (to a given scalar) in a vector? (★★☆)"
   ]
  },
  {
   "cell_type": "code",
   "execution_count": 54,
   "metadata": {
    "collapsed": false
   },
   "outputs": [
    {
     "name": "stdout",
     "output_type": "stream",
     "text": [
      "8\n"
     ]
    }
   ],
   "source": [
    "# Create an array Z of integers from 0 to 99\n",
    "Z = np.arange(100)\n",
    "\n",
    "# Generate a random scalar v between 0 and 100\n",
    "v = np.random.uniform(0, 100)\n",
    "\n",
    "# Find the index of the closest value in Z to v\n",
    "index = (np.abs(Z - v)).argmin()\n",
    "\n",
    "# Print the closest value\n",
    "print(Z[index])"
   ]
  },
  {
   "cell_type": "markdown",
   "metadata": {},
   "source": [
    "#### 51. Create a structured array representing a position (x,y) and a color (r,g,b) (★★☆)"
   ]
  },
  {
   "cell_type": "code",
   "execution_count": 55,
   "metadata": {
    "collapsed": false
   },
   "outputs": [
    {
     "data": {
      "text/plain": [
       "array([((0., 0.), (0., 0., 0.)), ((0., 0.), (0., 0., 0.)),\n",
       "       ((0., 0.), (0., 0., 0.)), ((0., 0.), (0., 0., 0.)),\n",
       "       ((0., 0.), (0., 0., 0.)), ((0., 0.), (0., 0., 0.)),\n",
       "       ((0., 0.), (0., 0., 0.)), ((0., 0.), (0., 0., 0.)),\n",
       "       ((0., 0.), (0., 0., 0.)), ((0., 0.), (0., 0., 0.))],\n",
       "      dtype=[('position', [('x', '<f8'), ('y', '<f8')]), ('color', [('r', '<f8'), ('g', '<f8'), ('b', '<f8')])])"
      ]
     },
     "execution_count": 55,
     "metadata": {},
     "output_type": "execute_result"
    }
   ],
   "source": [
    "Z = np.zeros(10, [ ('position', [ ('x', float), ('y', float)]),\n",
    "                   ('color',    [ ('r', float), ('g', float), ('b', float)])])\n",
    "Z"
   ]
  },
  {
   "cell_type": "markdown",
   "metadata": {},
   "source": [
    "#### 52. Consider a random vector with shape (100,2) representing coordinates, find point by point distances (★★☆)"
   ]
  },
  {
   "cell_type": "code",
   "execution_count": 56,
   "metadata": {
    "collapsed": false
   },
   "outputs": [
    {
     "name": "stdout",
     "output_type": "stream",
     "text": [
      "[[0.         0.45593952 0.56699518 0.26525051 0.55717564 0.23103401\n",
      "  0.49451897 0.62181864 0.15216528 0.5332155 ]\n",
      " [0.45593952 0.         0.34798704 0.29520599 0.4859586  0.28944753\n",
      "  0.87972559 0.99535819 0.38732723 0.18752504]\n",
      " [0.56699518 0.34798704 0.         0.56332569 0.18014943 0.33758975\n",
      "  0.8002787  0.88752004 0.42323778 0.17431459]\n",
      " [0.26525051 0.29520599 0.56332569 0.         0.63388117 0.28748577\n",
      "  0.75858389 0.88531893 0.31057148 0.45144212]\n",
      " [0.55717564 0.4859586  0.18014943 0.63388117 0.         0.35778577\n",
      "  0.67217799 0.74415401 0.40513604 0.34050137]\n",
      " [0.23103401 0.28944753 0.33758975 0.28748577 0.35778577 0.\n",
      "  0.59061266 0.70598226 0.10579124 0.3119167 ]\n",
      " [0.49451897 0.87972559 0.8002787  0.75858389 0.67217799 0.59061266\n",
      "  0.         0.12778347 0.49463782 0.86951432]\n",
      " [0.62181864 0.99535819 0.88752004 0.88531893 0.74415401 0.70598226\n",
      "  0.12778347 0.         0.61408917 0.97190645]\n",
      " [0.15216528 0.38732723 0.42323778 0.31057148 0.40513604 0.10579124\n",
      "  0.49463782 0.61408917 0.         0.41647973]\n",
      " [0.5332155  0.18752504 0.17431459 0.45144212 0.34050137 0.3119167\n",
      "  0.86951432 0.97190645 0.41647973 0.        ]]\n"
     ]
    }
   ],
   "source": [
    "Z = np.random.random((10,2))\n",
    "X,Y = np.atleast_2d(Z[:,0], Z[:,1])\n",
    "D = np.sqrt( (X-X.T)**2 + (Y-Y.T)**2)\n",
    "print(D)"
   ]
  },
  {
   "cell_type": "markdown",
   "metadata": {},
   "source": [
    "#### 53. How to convert a float (32 bits) array into an integer (32 bits) in place?"
   ]
  },
  {
   "cell_type": "code",
   "execution_count": 57,
   "metadata": {
    "collapsed": false
   },
   "outputs": [
    {
     "name": "stdout",
     "output_type": "stream",
     "text": [
      "[0. 1. 2. 3. 4. 5. 6. 7. 8. 9.]\n"
     ]
    },
    {
     "data": {
      "text/plain": [
       "array([0, 1, 2, 3, 4, 5, 6, 7, 8, 9])"
      ]
     },
     "execution_count": 57,
     "metadata": {},
     "output_type": "execute_result"
    }
   ],
   "source": [
    "a = np.arange(10,dtype=np.float32)\n",
    "print(a)\n",
    "a = a.astype(np.int32, copy=False)\n",
    "a"
   ]
  },
  {
   "cell_type": "markdown",
   "metadata": {},
   "source": [
    "#### 54. How to read the following file? (★★☆)"
   ]
  },
  {
   "cell_type": "markdown",
   "metadata": {},
   "source": [
    "```\n",
    "1, 2, 3, 4, 5\n",
    "6,  ,  , 7, 8\n",
    " ,  , 9,10,11\n",
    "```"
   ]
  },
  {
   "cell_type": "code",
   "execution_count": 58,
   "metadata": {
    "collapsed": false
   },
   "outputs": [
    {
     "name": "stdout",
     "output_type": "stream",
     "text": [
      "[[ 1.  2.  3.  4.  5.]\n",
      " [ 6.  0.  0.  7.  8.]\n",
      " [ 0.  0.  9. 10. 11.]]\n"
     ]
    }
   ],
   "source": [
    "from io import StringIO\n",
    "\n",
    "s = StringIO(\"\"\"1, 2, 3, 4, 5\n",
    "6,  ,  , 7, 8\n",
    " ,  , 9,10,11\"\"\")\n",
    "\n",
    "Z = np.genfromtxt(s, delimiter=\",\", dtype=np.float64, filling_values=0)\n",
    "\n",
    "print(Z)\n"
   ]
  },
  {
   "cell_type": "markdown",
   "metadata": {},
   "source": [
    "#### 55. What is the equivalent of enumerate for numpy arrays? (★★☆)"
   ]
  },
  {
   "cell_type": "code",
   "execution_count": 59,
   "metadata": {
    "collapsed": false
   },
   "outputs": [
    {
     "name": "stdout",
     "output_type": "stream",
     "text": [
      "(0, 0) 0\n",
      "(0, 1) 1\n",
      "(0, 2) 2\n",
      "(1, 0) 3\n",
      "(1, 1) 4\n",
      "(1, 2) 5\n",
      "(2, 0) 6\n",
      "(2, 1) 7\n",
      "(2, 2) 8\n",
      "*-**-**-**-**-**-**-**-**-**-**-**-**-**-**-**-**-**-**-**-**-**-**-**-**-*\n",
      "(0, 0) 0\n",
      "(0, 1) 1\n",
      "(0, 2) 2\n",
      "(1, 0) 3\n",
      "(1, 1) 4\n",
      "(1, 2) 5\n",
      "(2, 0) 6\n",
      "(2, 1) 7\n",
      "(2, 2) 8\n"
     ]
    }
   ],
   "source": [
    "Z = np.arange(9).reshape(3,3)\n",
    "for index, value in np.ndenumerate(Z):\n",
    "    print(index, value)\n",
    "print(\"*-*\"*25)\n",
    "for index in np.ndindex(Z.shape):\n",
    "    print(index, Z[index])"
   ]
  },
  {
   "cell_type": "markdown",
   "metadata": {},
   "source": [
    "#### 56. Generate a generic 2D Gaussian-like array (★★☆)"
   ]
  },
  {
   "cell_type": "code",
   "execution_count": 60,
   "metadata": {
    "collapsed": false
   },
   "outputs": [
    {
     "name": "stdout",
     "output_type": "stream",
     "text": [
      "[[0.36787944 0.44822088 0.51979489 0.57375342 0.60279818 0.60279818\n",
      "  0.57375342 0.51979489 0.44822088 0.36787944]\n",
      " [0.44822088 0.54610814 0.63331324 0.69905581 0.73444367 0.73444367\n",
      "  0.69905581 0.63331324 0.54610814 0.44822088]\n",
      " [0.51979489 0.63331324 0.73444367 0.81068432 0.85172308 0.85172308\n",
      "  0.81068432 0.73444367 0.63331324 0.51979489]\n",
      " [0.57375342 0.69905581 0.81068432 0.89483932 0.9401382  0.9401382\n",
      "  0.89483932 0.81068432 0.69905581 0.57375342]\n",
      " [0.60279818 0.73444367 0.85172308 0.9401382  0.98773022 0.98773022\n",
      "  0.9401382  0.85172308 0.73444367 0.60279818]\n",
      " [0.60279818 0.73444367 0.85172308 0.9401382  0.98773022 0.98773022\n",
      "  0.9401382  0.85172308 0.73444367 0.60279818]\n",
      " [0.57375342 0.69905581 0.81068432 0.89483932 0.9401382  0.9401382\n",
      "  0.89483932 0.81068432 0.69905581 0.57375342]\n",
      " [0.51979489 0.63331324 0.73444367 0.81068432 0.85172308 0.85172308\n",
      "  0.81068432 0.73444367 0.63331324 0.51979489]\n",
      " [0.44822088 0.54610814 0.63331324 0.69905581 0.73444367 0.73444367\n",
      "  0.69905581 0.63331324 0.54610814 0.44822088]\n",
      " [0.36787944 0.44822088 0.51979489 0.57375342 0.60279818 0.60279818\n",
      "  0.57375342 0.51979489 0.44822088 0.36787944]]\n"
     ]
    }
   ],
   "source": [
    "# Create meshgrid\n",
    "X, Y = np.meshgrid(np.linspace(-1, 1, 10), np.linspace(-1, 1, 10))\n",
    "\n",
    "# Compute Euclidean distance\n",
    "D = np.sqrt(X**2 + Y**2)\n",
    "\n",
    "# Gaussian parameters\n",
    "sigma, mu = 1.0, 0.0\n",
    "\n",
    "# Apply Gaussian function\n",
    "G = np.exp(-( (D - mu)**2 / ( 2.0 * sigma**2 ) ))\n",
    "\n",
    "# Print the result\n",
    "print(G)"
   ]
  },
  {
   "cell_type": "markdown",
   "metadata": {},
   "source": [
    "#### 57. How to randomly place p elements in a 2D array? (★★☆)"
   ]
  },
  {
   "cell_type": "code",
   "execution_count": 61,
   "metadata": {
    "collapsed": false
   },
   "outputs": [
    {
     "data": {
      "text/plain": [
       "array([[     0.,      0.,      0.,      0.,      0.,      0.,      0.,\n",
       "             0.,      0.,      0.],\n",
       "       [     0.,      0.,      0., 111111.,      0.,      0.,      0.,\n",
       "             0.,      0.,      0.],\n",
       "       [     0.,      0.,      0.,      0.,      0.,      0.,      0.,\n",
       "             0.,      0.,      0.],\n",
       "       [     0.,      0.,      0.,      0.,      0.,      0.,      0.,\n",
       "             0.,      0.,      0.],\n",
       "       [     0.,      0.,      0.,      0.,      0.,      0.,      0.,\n",
       "             0.,      0.,      0.],\n",
       "       [     0.,      0.,      0.,      0.,      0.,      0.,      0.,\n",
       "             0.,      0.,      0.],\n",
       "       [     0.,      0.,      0.,      0.,      0.,      0.,      0.,\n",
       "        111111.,      0.,      0.],\n",
       "       [     0.,      0.,      0.,      0.,      0.,      0.,      0.,\n",
       "             0.,      0.,      0.],\n",
       "       [     0.,      0.,      0., 111111.,      0.,      0.,      0.,\n",
       "             0.,      0.,      0.],\n",
       "       [     0.,      0.,      0.,      0.,      0.,      0.,      0.,\n",
       "             0.,      0.,      0.]])"
      ]
     },
     "execution_count": 61,
     "metadata": {},
     "output_type": "execute_result"
    }
   ],
   "source": [
    "n=10\n",
    "a = np.zeros((n,n))\n",
    "p = 3\n",
    "np.put(a,np.random.choice(range(n*n),p,replace=False),111111)\n",
    "a"
   ]
  },
  {
   "cell_type": "markdown",
   "metadata": {},
   "source": [
    "#### 58. Subtract the mean of each row of a matrix (★★☆)"
   ]
  },
  {
   "cell_type": "code",
   "execution_count": 62,
   "metadata": {
    "collapsed": false
   },
   "outputs": [
    {
     "name": "stdout",
     "output_type": "stream",
     "text": [
      "[[0.57081322 0.51202868 0.60482429 0.72713145 0.55796928 0.67151469\n",
      "  0.75336411 0.20846863 0.69842002 0.38523837]\n",
      " [0.28418309 0.5373936  0.57004247 0.86439705 0.86562508 0.43079224\n",
      "  0.55650291 0.61648443 0.2227399  0.52707226]\n",
      " [0.82455109 0.28319845 0.07050251 0.0045543  0.71877129 0.35972591\n",
      "  0.39466266 0.78153189 0.38779703 0.27984299]\n",
      " [0.92080885 0.22183402 0.08656787 0.35448009 0.4811066  0.48540433\n",
      "  0.25671716 0.97560963 0.22344221 0.84318941]\n",
      " [0.14534922 0.13477788 0.43043082 0.3833128  0.83159611 0.77149029\n",
      "  0.75072628 0.36938546 0.16412635 0.01568214]]\n"
     ]
    },
    {
     "data": {
      "text/plain": [
       "array([[ 1.83594597e-03, -5.69485897e-02,  3.58470164e-02,\n",
       "         1.58154171e-01, -1.10079916e-02,  1.02537411e-01,\n",
       "         1.84386835e-01, -3.60508645e-01,  1.29442750e-01,\n",
       "        -1.83738903e-01],\n",
       "       [-2.63340213e-01, -1.01297061e-02,  2.25191691e-02,\n",
       "         3.16873746e-01,  3.18101777e-01, -1.16731062e-01,\n",
       "         8.97960564e-03,  6.89611270e-02, -3.24783403e-01,\n",
       "        -2.04510406e-02],\n",
       "       [ 4.14037275e-01, -1.27315366e-01, -3.40011298e-01,\n",
       "        -4.05959514e-01,  3.08257476e-01, -5.07878989e-02,\n",
       "        -1.58511566e-02,  3.71018082e-01, -2.27167775e-02,\n",
       "        -1.30670822e-01],\n",
       "       [ 4.35892828e-01, -2.63081997e-01, -3.98348144e-01,\n",
       "        -1.30435926e-01, -3.80941516e-03,  4.88311715e-04,\n",
       "        -2.28198855e-01,  4.90693613e-01, -2.61473812e-01,\n",
       "         3.58273397e-01],\n",
       "       [-2.54338513e-01, -2.64909855e-01,  3.07430823e-02,\n",
       "        -1.63749390e-02,  4.31908370e-01,  3.71802555e-01,\n",
       "         3.51038548e-01, -3.03022715e-02, -2.35561385e-01,\n",
       "        -3.84005593e-01]])"
      ]
     },
     "execution_count": 62,
     "metadata": {},
     "output_type": "execute_result"
    }
   ],
   "source": [
    "a = np.random.rand(5, 10)\n",
    "print(a)\n",
    "b = a - a.mean(axis=1, keepdims=True)\n",
    "b"
   ]
  },
  {
   "cell_type": "markdown",
   "metadata": {},
   "source": [
    "#### 59. How to sort an array by the nth column? (★★☆)"
   ]
  },
  {
   "cell_type": "code",
   "execution_count": 63,
   "metadata": {
    "collapsed": false
   },
   "outputs": [
    {
     "name": "stdout",
     "output_type": "stream",
     "text": [
      "[[9 8 6]\n",
      " [2 0 3]\n",
      " [6 5 6]]\n",
      "------------------------------\n",
      "[[2 0 3]\n",
      " [6 5 6]\n",
      " [9 8 6]]\n"
     ]
    }
   ],
   "source": [
    "Z = np.random.randint(0,10,(3,3))\n",
    "print(Z)\n",
    "print(\"-\"*30)\n",
    "print(Z[Z[:,1].argsort()])\n"
   ]
  },
  {
   "cell_type": "markdown",
   "metadata": {},
   "source": [
    "#### 60. How to tell if a given 2D array has null columns? (★★☆)"
   ]
  },
  {
   "cell_type": "code",
   "execution_count": 64,
   "metadata": {
    "collapsed": false
   },
   "outputs": [
    {
     "name": "stdout",
     "output_type": "stream",
     "text": [
      "[[1 2 0 1 2 1 2 1 2 0]\n",
      " [1 1 2 2 2 2 1 0 1 0]\n",
      " [2 1 0 0 1 1 0 2 1 1]]\n",
      "\n",
      "Does the array have any column that is entirely zero? False\n"
     ]
    }
   ],
   "source": [
    "Z = np.random.randint(0, 3, (3, 10))\n",
    "print(Z)\n",
    "\n",
    "result = (~Z.any(axis=0)).any()\n",
    "print(\"\\nDoes the array have any column that is entirely zero?\", result)"
   ]
  },
  {
   "cell_type": "markdown",
   "metadata": {},
   "source": [
    "#### 61. Find the nearest value from a given value in an array (★★☆)"
   ]
  },
  {
   "cell_type": "code",
   "execution_count": 65,
   "metadata": {
    "collapsed": false
   },
   "outputs": [
    {
     "data": {
      "text/plain": [
       "45"
      ]
     },
     "execution_count": 65,
     "metadata": {},
     "output_type": "execute_result"
    }
   ],
   "source": [
    "arr = np.array([10, 30, 45, 60, 75])\n",
    "target = 50\n",
    "ans = arr[np.abs(arr - target).argmin()]\n",
    "ans"
   ]
  },
  {
   "cell_type": "markdown",
   "metadata": {},
   "source": [
    "#### 62. Considering two arrays with shape (1,3) and (3,1), how to compute their sum using an iterator? (★★☆)"
   ]
  },
  {
   "cell_type": "code",
   "execution_count": 66,
   "metadata": {
    "collapsed": false
   },
   "outputs": [
    {
     "name": "stdout",
     "output_type": "stream",
     "text": [
      "[[48 47 38]]\n",
      "[[49]\n",
      " [66]\n",
      " [92]]\n",
      "**************************************************\n",
      "[[9 8 6]\n",
      " [2 0 3]\n",
      " [6 5 6]]\n",
      "**************************************************\n",
      "**************************************************\n",
      "[[ 97  96  87]\n",
      " [114 113 104]\n",
      " [140 139 130]]\n"
     ]
    }
   ],
   "source": [
    "a = np.random.randint(0,100,(1,3))\n",
    "b = np.random.randint(0,100,(3,1))\n",
    "c = np.empty((3, 3), dtype=a.dtype)\n",
    "print(a)\n",
    "print(b)\n",
    "print(\"*\"*50)\n",
    "print(c)\n",
    "print(\"*\"*50)\n",
    "it = np.nditer([a,b,c], flags=['external_loop', 'buffered', 'refs_ok'],\n",
    "               op_flags=[['readonly'], ['readonly'], ['writeonly']])\n",
    "for x,y,z in it:\n",
    "    z[...] = x + y\n",
    "\n",
    "print(\"*\"*50)\n",
    "print(c)\n"
   ]
  },
  {
   "cell_type": "markdown",
   "metadata": {},
   "source": [
    "#### 63. Create an array class that has a name attribute (★★☆)"
   ]
  },
  {
   "cell_type": "code",
   "execution_count": 67,
   "metadata": {
    "collapsed": false
   },
   "outputs": [
    {
     "name": "stdout",
     "output_type": "stream",
     "text": [
      "AAA\n",
      "[0 1 2 3 4 5 6 7 8 9]\n"
     ]
    }
   ],
   "source": [
    "class NamedArray(np.ndarray):\n",
    "    def __new__(self, array, name=\"no name\"):\n",
    "        obj = np.asarray(array).view(self)\n",
    "        obj.name = name\n",
    "        return obj\n",
    "    def __array_finalize__(self, obj):\n",
    "        if obj is None: return\n",
    "        self.info = getattr(obj, 'name', \"no name\")\n",
    "\n",
    "Z = NamedArray(np.arange(10),\"AAA\")\n",
    "print(Z.name)\n",
    "print (Z)"
   ]
  },
  {
   "cell_type": "markdown",
   "metadata": {},
   "source": [
    "#### 64. Consider a given vector, how to add 1 to each element indexed by a second vector (be careful with repeated indices)? (★★★)"
   ]
  },
  {
   "cell_type": "code",
   "execution_count": 68,
   "metadata": {
    "collapsed": false
   },
   "outputs": [
    {
     "name": "stdout",
     "output_type": "stream",
     "text": [
      "[0. 0. 0. 0. 0. 0. 0. 0. 0. 0.]\n",
      "[3 5 3 2 5 4 2 4 1 4 0 1 6 9 0 1 4 3 4 1]\n",
      "**************************************************\n",
      "[2. 4. 2. 3. 5. 2. 1. 0. 0. 1.]\n"
     ]
    }
   ],
   "source": [
    "a = np.zeros(10)\n",
    "b = np.random.randint(0,len(a),20)\n",
    "print(a)\n",
    "print(b)\n",
    "print(\"*\"*50)\n",
    "np.add.at(a,b,1)\n",
    "print(a)"
   ]
  },
  {
   "cell_type": "markdown",
   "metadata": {},
   "source": [
    "#### 65. How to accumulate elements of a vector (X) to an array (F) based on an index list (I)? (★★★)"
   ]
  },
  {
   "cell_type": "code",
   "execution_count": 69,
   "metadata": {
    "collapsed": false
   },
   "outputs": [
    {
     "name": "stdout",
     "output_type": "stream",
     "text": [
      "[0. 7. 0. 6. 5. 0. 0. 0. 0. 3.]\n"
     ]
    }
   ],
   "source": [
    "a = [1,2,3,4,5,6]\n",
    "b = [1,3,9,3,4,1]\n",
    "c = np.bincount(b,a)\n",
    "print(c)\n"
   ]
  },
  {
   "cell_type": "markdown",
   "metadata": {},
   "source": [
    "#### 66. Considering a (w,h,3) image of (dtype=ubyte), compute the number of unique colors (★★★)"
   ]
  },
  {
   "cell_type": "code",
   "execution_count": 70,
   "metadata": {
    "collapsed": false
   },
   "outputs": [
    {
     "name": "stdout",
     "output_type": "stream",
     "text": [
      "8\n"
     ]
    }
   ],
   "source": [
    "w,h = 16,16\n",
    "I = np.random.randint(0,2,(h,w,3)).astype(np.ubyte)\n",
    "#Note that we should compute 256*256 first. \n",
    "#Otherwise numpy will only promote F.dtype to 'uint16' and overfolw will occur\n",
    "F = I[...,0]*(256*256) + I[...,1]*256 +I[...,2]\n",
    "n = len(np.unique(F))\n",
    "print(n)"
   ]
  },
  {
   "cell_type": "markdown",
   "metadata": {},
   "source": [
    "#### 67. Considering a four dimensions array, how to get sum over the last two axis at once? (★★★)"
   ]
  },
  {
   "cell_type": "code",
   "execution_count": 71,
   "metadata": {
    "collapsed": false
   },
   "outputs": [
    {
     "name": "stdout",
     "output_type": "stream",
     "text": [
      "[[[[2 5]\n",
      "   [8 1]]\n",
      "\n",
      "  [[6 1]\n",
      "   [9 7]]]\n",
      "\n",
      "\n",
      " [[[1 9]\n",
      "   [5 3]]\n",
      "\n",
      "  [[9 7]\n",
      "   [4 5]]]]\n",
      "[[16 23]\n",
      " [18 25]]\n"
     ]
    }
   ],
   "source": [
    "a = np.random.randint(0,10,(2,2,2,2))\n",
    "print(a)\n",
    "sum = a.sum(axis=(-2,-1))\n",
    "print(sum)"
   ]
  },
  {
   "cell_type": "markdown",
   "metadata": {},
   "source": [
    "#### 68. Considering a one-dimensional vector D, how to compute means of subsets of D using a vector S of same size describing subset  indices? (★★★)"
   ]
  },
  {
   "cell_type": "code",
   "execution_count": 72,
   "metadata": {
    "collapsed": false
   },
   "outputs": [
    {
     "name": "stdout",
     "output_type": "stream",
     "text": [
      "Means: [2.  3.  5.5]\n"
     ]
    }
   ],
   "source": [
    "D = np.array([1, 2, 3, 4, 5, 6])\n",
    "S = np.array([0, 1, 0, 1, 2, 2])\n",
    "\n",
    "sums = np.bincount(S, weights=D)\n",
    "\n",
    "counts = np.bincount(S)\n",
    "\n",
    "means = sums / counts\n",
    "\n",
    "print(\"Means:\", means)"
   ]
  },
  {
   "cell_type": "markdown",
   "metadata": {},
   "source": [
    "#### 69. How to get the diagonal of a dot product? (★★★)"
   ]
  },
  {
   "cell_type": "code",
   "execution_count": 73,
   "metadata": {
    "collapsed": false
   },
   "outputs": [
    {
     "name": "stdout",
     "output_type": "stream",
     "text": [
      "[1.06386618 0.41816623 1.49038668 0.51120229 1.61126581]\n",
      "[1.06386618 0.41816623 1.49038668 0.51120229 1.61126581]\n",
      "[1.06386618 0.41816623 1.49038668 0.51120229 1.61126581]\n"
     ]
    }
   ],
   "source": [
    "A = np.random.uniform(0,1,(5,5))\n",
    "B = np.random.uniform(0,1,(5,5))\n",
    "\n",
    "# Slow version  \n",
    "print(np.diag(np.dot(A, B)))\n",
    "\n",
    "# Fast version\n",
    "print(np.sum(A * B.T, axis=1))\n",
    "\n",
    "# Faster version\n",
    "print(np.einsum(\"ij,ji->i\", A, B))"
   ]
  },
  {
   "cell_type": "markdown",
   "metadata": {},
   "source": [
    "#### 70. Consider the vector \\[1, 2, 3, 4, 5\\], how to build a new vector with 3 consecutive zeros interleaved between each value? (★★★)"
   ]
  },
  {
   "cell_type": "code",
   "execution_count": 74,
   "metadata": {
    "collapsed": false
   },
   "outputs": [
    {
     "name": "stdout",
     "output_type": "stream",
     "text": [
      "[1. 0. 0. 0. 2. 0. 0. 0. 3. 0. 0. 0. 4. 0. 0. 0. 5.]\n"
     ]
    }
   ],
   "source": [
    "Z = np.array([1,2,3,4,5])\n",
    "nz = 3\n",
    "Z0 = np.zeros(len(Z) + (len(Z)-1)*(nz))\n",
    "Z0[::nz+1] = Z\n",
    "print(Z0)"
   ]
  },
  {
   "cell_type": "markdown",
   "metadata": {},
   "source": [
    "#### 71. Consider an array of dimension (5,5,3), how to mulitply it by an array with dimensions (5,5)? (★★★)"
   ]
  },
  {
   "cell_type": "code",
   "execution_count": 75,
   "metadata": {
    "collapsed": true
   },
   "outputs": [
    {
     "name": "stdout",
     "output_type": "stream",
     "text": [
      "[[[ 0  0  0]\n",
      "  [72 72 32]\n",
      "  [35 20 35]\n",
      "  [72 56 72]\n",
      "  [54 18 18]]\n",
      "\n",
      " [[40 40 35]\n",
      "  [30 40  5]\n",
      "  [35 10 10]\n",
      "  [21 27 27]\n",
      "  [ 8 24  0]]\n",
      "\n",
      " [[ 0 12  6]\n",
      "  [ 5  2  9]\n",
      "  [24 18  0]\n",
      "  [ 8  8 40]\n",
      "  [28  0 21]]\n",
      "\n",
      " [[ 7  1  8]\n",
      "  [ 9 18 36]\n",
      "  [14 42  7]\n",
      "  [ 3 12  3]\n",
      "  [20 10 40]]\n",
      "\n",
      " [[ 4  6  0]\n",
      "  [ 0  0  0]\n",
      "  [ 4  6 14]\n",
      "  [81  9 72]\n",
      "  [18 12  0]]]\n"
     ]
    }
   ],
   "source": [
    "a = np.random.randint(0,10,(5,5,3))\n",
    "b = np.random.randint(0,10,(5,5))\n",
    "\n",
    "print(a*b[:,:,None])\n"
   ]
  },
  {
   "cell_type": "markdown",
   "metadata": {},
   "source": [
    "#### 72. How to swap two rows of an array? (★★★)"
   ]
  },
  {
   "cell_type": "code",
   "execution_count": 76,
   "metadata": {
    "collapsed": false
   },
   "outputs": [
    {
     "name": "stdout",
     "output_type": "stream",
     "text": [
      "[[ 0  1  2  3  4]\n",
      " [ 5  6  7  8  9]\n",
      " [10 11 12 13 14]\n",
      " [15 16 17 18 19]\n",
      " [20 21 22 23 24]]\n",
      "[[ 5  6  7  8  9]\n",
      " [ 0  1  2  3  4]\n",
      " [10 11 12 13 14]\n",
      " [15 16 17 18 19]\n",
      " [20 21 22 23 24]]\n"
     ]
    }
   ],
   "source": [
    "a = np.arange(25).reshape(5,5)\n",
    "print(a)\n",
    "a[[0,1]] = a[[1,0]]\n",
    "print(a)"
   ]
  },
  {
   "cell_type": "markdown",
   "metadata": {},
   "source": [
    "#### 73. Consider a set of 10 triplets describing 10 triangles (with shared vertices), find the set of unique line segments composing all the  triangles (★★★)"
   ]
  },
  {
   "cell_type": "code",
   "execution_count": 77,
   "metadata": {
    "collapsed": false
   },
   "outputs": [
    {
     "name": "stdout",
     "output_type": "stream",
     "text": [
      "[( 0, 55) ( 2,  7) ( 2, 11) ( 2, 27) ( 2, 54) ( 5, 10) ( 5, 70) ( 7, 54)\n",
      " (10, 70) (11, 27) (17, 34) (17, 51) (20, 60) (20, 94) (23, 41) (23, 58)\n",
      " (34, 51) (34, 77) (41, 58) (51, 89) (51, 94) (54, 73) (54, 83) (55, 55)\n",
      " (60, 94) (73, 83) (77, 77) (89, 94)]\n"
     ]
    }
   ],
   "source": [
    "faces = np.random.randint(0,100,(10,3))\n",
    "F = np.roll(faces.repeat(2,axis=1),-1,axis=1)\n",
    "F = F.reshape(len(F)*3,2)\n",
    "F = np.sort(F,axis=1)\n",
    "G = F.view( dtype=[('p0',F.dtype),('p1',F.dtype)] )\n",
    "G = np.unique(G)\n",
    "print(G)"
   ]
  },
  {
   "cell_type": "markdown",
   "metadata": {},
   "source": [
    "#### 74. Given an array C that is a bincount, how to produce an array A such that np.bincount(A) == C? (★★★)"
   ]
  },
  {
   "cell_type": "code",
   "execution_count": 78,
   "metadata": {
    "collapsed": false
   },
   "outputs": [
    {
     "name": "stdout",
     "output_type": "stream",
     "text": [
      "[1 1 2 3 4 4 6]\n"
     ]
    }
   ],
   "source": [
    "C = np.bincount([1,1,2,3,4,4,6])\n",
    "A = np.repeat(np.arange(len(C)), C)\n",
    "print(A)"
   ]
  },
  {
   "cell_type": "markdown",
   "metadata": {},
   "source": [
    "#### 75. How to compute averages using a sliding window over an array? (★★★)"
   ]
  },
  {
   "cell_type": "code",
   "execution_count": 79,
   "metadata": {
    "collapsed": false
   },
   "outputs": [
    {
     "name": "stdout",
     "output_type": "stream",
     "text": [
      "[ 1.  2.  3.  4.  5.  6.  7.  8.  9. 10. 11. 12. 13. 14. 15. 16. 17. 18.]\n"
     ]
    }
   ],
   "source": [
    "def moving_average(a, n=3) :\n",
    "    ret = np.cumsum(a, dtype=float)\n",
    "    ret[n:] = ret[n:] - ret[:-n]\n",
    "    return ret[n - 1:] / n\n",
    "Z = np.arange(20)\n",
    "print(moving_average(Z, n=3))"
   ]
  },
  {
   "cell_type": "markdown",
   "metadata": {},
   "source": [
    "#### 76. Consider a one-dimensional array Z, build a two-dimensional array whose first row is (Z\\[0\\],Z\\[1\\],Z\\[2\\]) and each subsequent row is  shifted by 1 (last row should be (Z\\[-3\\],Z\\[-2\\],Z\\[-1\\]) (★★★)"
   ]
  },
  {
   "cell_type": "code",
   "execution_count": 80,
   "metadata": {
    "collapsed": false
   },
   "outputs": [
    {
     "name": "stdout",
     "output_type": "stream",
     "text": [
      "[[1 2 3]\n",
      " [2 3 4]\n",
      " [3 4 5]\n",
      " [4 5 6]\n",
      " [5 6 7]]\n"
     ]
    }
   ],
   "source": [
    "from numpy.lib.stride_tricks import sliding_window_view\n",
    "\n",
    "Z = np.array([1, 2, 3, 4, 5, 6, 7])\n",
    "\n",
    "window_size = 3\n",
    "result = sliding_window_view(Z, window_shape=window_size)\n",
    "\n",
    "print(result)"
   ]
  },
  {
   "cell_type": "markdown",
   "metadata": {},
   "source": [
    "#### 77. How to negate a boolean, or to change the sign of a float inplace? (★★★)"
   ]
  },
  {
   "cell_type": "code",
   "execution_count": 81,
   "metadata": {
    "collapsed": false
   },
   "outputs": [
    {
     "data": {
      "text/plain": [
       "array([-0.88577749, -0.55113991, -0.20588591, -0.26110318,  0.57547699,\n",
       "       -0.49691799,  0.27699672,  0.24432608, -0.25983341, -0.69829693,\n",
       "       -0.3588064 , -0.71128472,  0.04794326,  0.09496812, -0.76495759,\n",
       "        0.77885329, -0.26005837, -0.93022894,  0.09030102,  0.63720834,\n",
       "       -0.18140145, -0.57620923,  0.41706866,  0.36598132,  0.16417884,\n",
       "        0.90445416, -0.51860717, -0.1505655 ,  0.04843519, -0.8866271 ,\n",
       "       -0.59235902, -0.01490061,  0.97755639,  0.45319969, -0.00797803,\n",
       "       -0.60033589, -0.68721465,  0.41534038, -0.7939508 ,  0.84344791,\n",
       "       -0.75331885,  0.66539873,  0.36247091, -0.02330365, -0.57247287,\n",
       "        0.58630262,  0.79892264, -0.79014133, -0.99000851, -0.35018157,\n",
       "        0.03158376, -0.25143307, -0.6576485 ,  0.97184344, -0.47631356,\n",
       "        0.94045162,  0.00704061,  0.27388213,  0.19258219, -0.79213977,\n",
       "        0.67148197, -0.4971492 , -0.0494463 , -0.99485528,  0.75334897,\n",
       "       -0.70541073, -0.65876913,  0.44482571,  0.09097145, -0.12925372,\n",
       "        0.89995712,  0.41122742,  0.48985346,  0.34902045,  0.90457201,\n",
       "       -0.75542139, -0.9630518 ,  0.83356639, -0.68641119,  0.90533791,\n",
       "        0.64407021,  0.71506188, -0.90046246,  0.58783687,  0.30795994,\n",
       "       -0.83877673,  0.66082761, -0.76366948,  0.97343308,  0.49922793,\n",
       "        0.33243064,  0.32469828,  0.07149396,  0.23496716, -0.85717302,\n",
       "       -0.37820552,  0.92686595,  0.40402328,  0.47085234,  0.79840378])"
      ]
     },
     "execution_count": 81,
     "metadata": {},
     "output_type": "execute_result"
    }
   ],
   "source": [
    "Z = np.random.randint(0,2,100)\n",
    "np.logical_not(Z, out=Z)\n",
    "\n",
    "Z = np.random.uniform(-1.0,1.0,100)\n",
    "np.negative(Z, out=Z)"
   ]
  },
  {
   "cell_type": "markdown",
   "metadata": {},
   "source": [
    "#### 78. Consider 2 sets of points P0,P1 describing lines (2d) and a point p, how to compute distance from p to each line i  (P0\\[i\\],P1\\[i\\])? (★★★)"
   ]
  },
  {
   "cell_type": "code",
   "execution_count": 82,
   "metadata": {
    "collapsed": false
   },
   "outputs": [
    {
     "name": "stdout",
     "output_type": "stream",
     "text": [
      "[ 7.4004972   7.93124474 13.86119381  4.95906578 11.54272412 14.85843403\n",
      " 15.05662454  6.5857502   5.16011035 12.21157727]\n"
     ]
    }
   ],
   "source": [
    "def distance(P0, P1, p):\n",
    "    T = P1 - P0\n",
    "    L = (T**2).sum(axis=1)\n",
    "    U = -((P0[:,0]-p[...,0])*T[:,0] + (P0[:,1]-p[...,1])*T[:,1]) / L\n",
    "    U = U.reshape(len(U),1)\n",
    "    D = P0 + U*T - p\n",
    "    return np.sqrt((D**2).sum(axis=1))\n",
    "\n",
    "P0 = np.random.uniform(-10,10,(10,2))\n",
    "P1 = np.random.uniform(-10,10,(10,2))\n",
    "p  = np.random.uniform(-10,10,( 1,2))\n",
    "print(distance(P0, P1, p))"
   ]
  },
  {
   "cell_type": "markdown",
   "metadata": {},
   "source": [
    "#### 79. Consider 2 sets of points P0,P1 describing lines (2d) and a set of points P, how to compute distance from each point j (P\\[j\\]) to each line i (P0\\[i\\],P1\\[i\\])? (★★★)"
   ]
  },
  {
   "cell_type": "code",
   "execution_count": 83,
   "metadata": {
    "collapsed": false
   },
   "outputs": [
    {
     "name": "stdout",
     "output_type": "stream",
     "text": [
      "[[ 4.32509445  2.18235108  1.47965477  1.63883435  7.93806122  4.39220283\n",
      "   4.58794734  3.45566015  8.38220375  3.72616903]\n",
      " [ 8.92669829 17.74421712 11.2607878   7.52145531  4.23501019  6.93992351\n",
      "   8.51028949  2.03587468  3.02561376 11.61012017]\n",
      " [ 0.22939849  5.06167543  2.69327543  2.74439794  7.89264882  4.70360318\n",
      "   0.46673883  5.63303546  8.66285925  1.61584153]\n",
      " [ 9.76336373 17.69208426 12.19127466  5.98975367  3.01134736  5.6112269\n",
      "   9.37637227  0.30581712  1.70563617 11.16893747]\n",
      " [ 0.60517298  2.01364126  2.64972039  8.32033198 13.25716232 10.17513092\n",
      "   0.73961721 11.02110222 14.12660618  5.60179316]\n",
      " [15.01376914 20.42010634 17.65807199  2.60840893  1.21514954  3.30927225\n",
      "  14.69588975  4.41854488  0.55323804 12.56227646]\n",
      " [11.64667915 17.16687361 14.33549136  1.71014128  0.52843003  1.81454596\n",
      "  11.3413236   4.40717311  2.06986523  9.62023397]\n",
      " [ 6.87353933 12.24511783  9.66323341  0.19547793  3.59704729  0.91686346\n",
      "   6.59765688  5.01332986  4.83114043  5.02731092]\n",
      " [ 1.9652348  12.60593688  4.19782349  8.90238997  3.68744729  6.98657273\n",
      "   1.51469691  5.24642643  3.02093618  7.69041124]\n",
      " [ 7.34063027 11.57350445 10.26101366  2.36091557  5.51734625  2.92805464\n",
      "   7.10545927  7.26884169  6.83501716  3.90574693]]\n"
     ]
    }
   ],
   "source": [
    "P0 = np.random.uniform(-10, 10, (10,2))\n",
    "P1 = np.random.uniform(-10,10,(10,2))\n",
    "p = np.random.uniform(-10, 10, (10,2))\n",
    "print(np.array([distance(P0,P1,p_i) for p_i in p]))"
   ]
  },
  {
   "cell_type": "markdown",
   "metadata": {},
   "source": [
    "#### 80. Consider an arbitrary array, write a function that extract a subpart with a fixed shape and centered on a given element (pad with a `fill` value when necessary) (★★★)"
   ]
  },
  {
   "cell_type": "code",
   "execution_count": 84,
   "metadata": {
    "collapsed": false
   },
   "outputs": [
    {
     "name": "stdout",
     "output_type": "stream",
     "text": [
      "[[9 9 0 2 7 8 0 1 8 7]\n",
      " [6 6 1 4 9 6 9 7 6 9]\n",
      " [2 1 8 5 4 3 1 1 1 7]\n",
      " [2 2 3 3 6 9 2 4 0 0]\n",
      " [0 7 5 4 8 4 2 1 8 4]\n",
      " [3 9 8 3 4 8 4 8 5 9]\n",
      " [7 9 9 5 7 1 3 2 0 8]\n",
      " [1 8 1 3 6 2 3 0 4 7]\n",
      " [5 2 5 8 4 2 7 8 2 7]\n",
      " [5 3 7 2 3 6 1 7 4 4]]\n",
      "[[0 0 0 0 0]\n",
      " [0 9 9 0 2]\n",
      " [0 6 6 1 4]\n",
      " [0 2 1 8 5]\n",
      " [0 2 2 3 3]]\n"
     ]
    },
    {
     "name": "stderr",
     "output_type": "stream",
     "text": [
      "C:\\Users\\Admin\\AppData\\Local\\Temp\\ipykernel_15728\\1159162857.py:23: FutureWarning: Using a non-tuple sequence for multidimensional indexing is deprecated; use `arr[tuple(seq)]` instead of `arr[seq]`. In the future this will be interpreted as an array index, `arr[np.array(seq)]`, which will result either in an error or a different result.\n",
      "  R[r] = Z[z]\n"
     ]
    }
   ],
   "source": [
    "Z = np.random.randint(0,10,(10,10))\n",
    "shape = (5,5)\n",
    "fill  = 0\n",
    "position = (1,1)\n",
    "\n",
    "R = np.ones(shape, dtype=Z.dtype)*fill\n",
    "P  = np.array(list(position)).astype(int)\n",
    "Rs = np.array(list(R.shape)).astype(int)\n",
    "Zs = np.array(list(Z.shape)).astype(int)\n",
    "\n",
    "R_start = np.zeros((len(shape),)).astype(int)\n",
    "R_stop  = np.array(list(shape)).astype(int)\n",
    "Z_start = (P-Rs//2)\n",
    "Z_stop  = (P+Rs//2)+Rs%2\n",
    "\n",
    "R_start = (R_start - np.minimum(Z_start,0)).tolist()\n",
    "Z_start = (np.maximum(Z_start,0)).tolist()\n",
    "R_stop = np.maximum(R_start, (R_stop - np.maximum(Z_stop-Zs,0))).tolist()\n",
    "Z_stop = (np.minimum(Z_stop,Zs)).tolist()\n",
    "\n",
    "r = [slice(start,stop) for start,stop in zip(R_start,R_stop)]\n",
    "z = [slice(start,stop) for start,stop in zip(Z_start,Z_stop)]\n",
    "R[r] = Z[z]\n",
    "print(Z)\n",
    "print(R)"
   ]
  },
  {
   "cell_type": "markdown",
   "metadata": {},
   "source": [
    "#### 81. Consider an array Z = \\[1,2,3,4,5,6,7,8,9,10,11,12,13,14\\], how to generate an array R = \\[\\[1,2,3,4\\], \\[2,3,4,5\\], \\[3,4,5,6\\], ..., \\[11,12,13,14\\]\\]? (★★★)"
   ]
  },
  {
   "cell_type": "code",
   "execution_count": 85,
   "metadata": {
    "collapsed": false
   },
   "outputs": [
    {
     "data": {
      "text/plain": [
       "array([[ 1,  2,  3,  4],\n",
       "       [ 2,  3,  4,  5],\n",
       "       [ 3,  4,  5,  6],\n",
       "       [ 4,  5,  6,  7],\n",
       "       [ 5,  6,  7,  8],\n",
       "       [ 6,  7,  8,  9],\n",
       "       [ 7,  8,  9, 10],\n",
       "       [ 8,  9, 10, 11],\n",
       "       [ 9, 10, 11, 12],\n",
       "       [10, 11, 12, 13],\n",
       "       [11, 12, 13, 14]])"
      ]
     },
     "execution_count": 85,
     "metadata": {},
     "output_type": "execute_result"
    }
   ],
   "source": [
    "from numpy.lib.stride_tricks import sliding_window_view\n",
    "z = np.arange(1,15)\n",
    "z = sliding_window_view(z, window_shape=4)\n",
    "z"
   ]
  },
  {
   "cell_type": "markdown",
   "metadata": {},
   "source": [
    "#### 82. Compute a matrix rank (★★★)"
   ]
  },
  {
   "cell_type": "code",
   "execution_count": 86,
   "metadata": {
    "collapsed": false
   },
   "outputs": [
    {
     "name": "stdout",
     "output_type": "stream",
     "text": [
      "Rank of A: 10\n"
     ]
    },
    {
     "data": {
      "text/plain": [
       "array([[35.59967423,  5.01916019, 45.55062978, 13.06544354, 86.36185686,\n",
       "        44.18099765, 44.61939143, 46.4093362 , 11.21074811, 58.59298751],\n",
       "       [45.94882466, 10.4139654 , 55.42660362, 12.33532085, 79.64898921,\n",
       "        64.5653962 , 74.1568438 , 99.8643164 , 66.06120501, 75.52606943],\n",
       "       [90.37782399, 31.73916958, 71.7744064 , 74.58272357, 51.42872144,\n",
       "        56.76495992, 76.55074021, 64.05438117, 46.82000861, 96.25467511],\n",
       "       [51.66383506, 88.09292402, 77.07743317, 78.20515901, 99.10180974,\n",
       "        70.76364892, 75.66948729, 67.16144556, 91.41328128, 12.42709816],\n",
       "       [76.55574472, 47.30189454, 32.69632627, 75.07672625, 92.16190882,\n",
       "        69.09833289, 79.69049748, 89.63985102, 17.55872899, 50.23853259],\n",
       "       [36.67583112, 93.73208462, 35.96358127, 76.83700947, 24.87862229,\n",
       "        42.89791303, 47.98487736, 98.71903716,  2.37690379, 12.58414181],\n",
       "       [95.4862547 , 96.1811476 ,  1.36467575, 38.66364273, 68.64420917,\n",
       "        64.16955154, 70.51642323, 52.18626624,  2.2826991 , 76.69942407],\n",
       "       [71.97126528,  3.48419984, 81.52138935, 36.6684868 , 85.27121347,\n",
       "        39.24245845, 41.39496351, 90.88522916, 77.27893466, 62.59272278],\n",
       "       [ 7.08465525, 71.4084234 , 26.20241725, 98.00362496, 39.02366104,\n",
       "        21.63332158, 50.17000809, 42.06793459, 89.29528985, 92.39746068],\n",
       "       [34.45860262, 29.71341222, 31.27860296, 42.97925238, 18.85307469,\n",
       "         4.86005118, 76.54612788,  7.99218102,  5.62234312, 62.33825583]])"
      ]
     },
     "execution_count": 86,
     "metadata": {},
     "output_type": "execute_result"
    }
   ],
   "source": [
    "a = np.random.uniform(0,100,(10,10))\n",
    "rank = np.linalg.matrix_rank(a)\n",
    "print(\"Rank of A:\", rank)\n",
    "a"
   ]
  },
  {
   "cell_type": "markdown",
   "metadata": {},
   "source": [
    "#### 83. How to find the most frequent value in an array?"
   ]
  },
  {
   "cell_type": "code",
   "execution_count": 87,
   "metadata": {
    "collapsed": false
   },
   "outputs": [
    {
     "name": "stdout",
     "output_type": "stream",
     "text": [
      "[ 1  5  6 10  4  3  2  9  3  8  5  4  7  5  2  2  7  7  7  4  5  1  2  4\n",
      "  1  6  4  9  3  8  2 10  6 10  1  2  8  3  9  3  3  9  8  9  7  3  6  2\n",
      "  8 10]\n",
      "Frequent\n",
      "2\n"
     ]
    }
   ],
   "source": [
    "Z = np.random.randint(1,11,50)\n",
    "print(Z)\n",
    "print(\"Frequent\")\n",
    "print(np.bincount(Z).argmax())"
   ]
  },
  {
   "cell_type": "markdown",
   "metadata": {},
   "source": [
    "#### 84. Extract all the contiguous 3x3 blocks from a random 10x10 matrix (★★★)"
   ]
  },
  {
   "cell_type": "code",
   "execution_count": 88,
   "metadata": {
    "collapsed": false
   },
   "outputs": [
    {
     "name": "stdout",
     "output_type": "stream",
     "text": [
      "[[[[2 2 2]\n",
      "   [4 1 2]\n",
      "   [4 1 3]]\n",
      "\n",
      "  [[2 2 1]\n",
      "   [1 2 3]\n",
      "   [1 3 4]]\n",
      "\n",
      "  [[2 1 2]\n",
      "   [2 3 0]\n",
      "   [3 4 4]]\n",
      "\n",
      "  [[1 2 0]\n",
      "   [3 0 0]\n",
      "   [4 4 3]]\n",
      "\n",
      "  [[2 0 3]\n",
      "   [0 0 4]\n",
      "   [4 3 3]]\n",
      "\n",
      "  [[0 3 3]\n",
      "   [0 4 1]\n",
      "   [3 3 3]]\n",
      "\n",
      "  [[3 3 1]\n",
      "   [4 1 1]\n",
      "   [3 3 0]]\n",
      "\n",
      "  [[3 1 1]\n",
      "   [1 1 3]\n",
      "   [3 0 1]]]\n",
      "\n",
      "\n",
      " [[[4 1 2]\n",
      "   [4 1 3]\n",
      "   [2 4 3]]\n",
      "\n",
      "  [[1 2 3]\n",
      "   [1 3 4]\n",
      "   [4 3 0]]\n",
      "\n",
      "  [[2 3 0]\n",
      "   [3 4 4]\n",
      "   [3 0 4]]\n",
      "\n",
      "  [[3 0 0]\n",
      "   [4 4 3]\n",
      "   [0 4 0]]\n",
      "\n",
      "  [[0 0 4]\n",
      "   [4 3 3]\n",
      "   [4 0 1]]\n",
      "\n",
      "  [[0 4 1]\n",
      "   [3 3 3]\n",
      "   [0 1 0]]\n",
      "\n",
      "  [[4 1 1]\n",
      "   [3 3 0]\n",
      "   [1 0 3]]\n",
      "\n",
      "  [[1 1 3]\n",
      "   [3 0 1]\n",
      "   [0 3 2]]]\n",
      "\n",
      "\n",
      " [[[4 1 3]\n",
      "   [2 4 3]\n",
      "   [2 2 1]]\n",
      "\n",
      "  [[1 3 4]\n",
      "   [4 3 0]\n",
      "   [2 1 0]]\n",
      "\n",
      "  [[3 4 4]\n",
      "   [3 0 4]\n",
      "   [1 0 4]]\n",
      "\n",
      "  [[4 4 3]\n",
      "   [0 4 0]\n",
      "   [0 4 3]]\n",
      "\n",
      "  [[4 3 3]\n",
      "   [4 0 1]\n",
      "   [4 3 4]]\n",
      "\n",
      "  [[3 3 3]\n",
      "   [0 1 0]\n",
      "   [3 4 3]]\n",
      "\n",
      "  [[3 3 0]\n",
      "   [1 0 3]\n",
      "   [4 3 4]]\n",
      "\n",
      "  [[3 0 1]\n",
      "   [0 3 2]\n",
      "   [3 4 2]]]\n",
      "\n",
      "\n",
      " [[[2 4 3]\n",
      "   [2 2 1]\n",
      "   [3 0 4]]\n",
      "\n",
      "  [[4 3 0]\n",
      "   [2 1 0]\n",
      "   [0 4 0]]\n",
      "\n",
      "  [[3 0 4]\n",
      "   [1 0 4]\n",
      "   [4 0 3]]\n",
      "\n",
      "  [[0 4 0]\n",
      "   [0 4 3]\n",
      "   [0 3 1]]\n",
      "\n",
      "  [[4 0 1]\n",
      "   [4 3 4]\n",
      "   [3 1 0]]\n",
      "\n",
      "  [[0 1 0]\n",
      "   [3 4 3]\n",
      "   [1 0 4]]\n",
      "\n",
      "  [[1 0 3]\n",
      "   [4 3 4]\n",
      "   [0 4 4]]\n",
      "\n",
      "  [[0 3 2]\n",
      "   [3 4 2]\n",
      "   [4 4 2]]]\n",
      "\n",
      "\n",
      " [[[2 2 1]\n",
      "   [3 0 4]\n",
      "   [1 0 4]]\n",
      "\n",
      "  [[2 1 0]\n",
      "   [0 4 0]\n",
      "   [0 4 4]]\n",
      "\n",
      "  [[1 0 4]\n",
      "   [4 0 3]\n",
      "   [4 4 2]]\n",
      "\n",
      "  [[0 4 3]\n",
      "   [0 3 1]\n",
      "   [4 2 0]]\n",
      "\n",
      "  [[4 3 4]\n",
      "   [3 1 0]\n",
      "   [2 0 2]]\n",
      "\n",
      "  [[3 4 3]\n",
      "   [1 0 4]\n",
      "   [0 2 1]]\n",
      "\n",
      "  [[4 3 4]\n",
      "   [0 4 4]\n",
      "   [2 1 0]]\n",
      "\n",
      "  [[3 4 2]\n",
      "   [4 4 2]\n",
      "   [1 0 0]]]\n",
      "\n",
      "\n",
      " [[[3 0 4]\n",
      "   [1 0 4]\n",
      "   [1 0 4]]\n",
      "\n",
      "  [[0 4 0]\n",
      "   [0 4 4]\n",
      "   [0 4 0]]\n",
      "\n",
      "  [[4 0 3]\n",
      "   [4 4 2]\n",
      "   [4 0 4]]\n",
      "\n",
      "  [[0 3 1]\n",
      "   [4 2 0]\n",
      "   [0 4 2]]\n",
      "\n",
      "  [[3 1 0]\n",
      "   [2 0 2]\n",
      "   [4 2 3]]\n",
      "\n",
      "  [[1 0 4]\n",
      "   [0 2 1]\n",
      "   [2 3 4]]\n",
      "\n",
      "  [[0 4 4]\n",
      "   [2 1 0]\n",
      "   [3 4 4]]\n",
      "\n",
      "  [[4 4 2]\n",
      "   [1 0 0]\n",
      "   [4 4 1]]]\n",
      "\n",
      "\n",
      " [[[1 0 4]\n",
      "   [1 0 4]\n",
      "   [0 0 0]]\n",
      "\n",
      "  [[0 4 4]\n",
      "   [0 4 0]\n",
      "   [0 0 3]]\n",
      "\n",
      "  [[4 4 2]\n",
      "   [4 0 4]\n",
      "   [0 3 1]]\n",
      "\n",
      "  [[4 2 0]\n",
      "   [0 4 2]\n",
      "   [3 1 0]]\n",
      "\n",
      "  [[2 0 2]\n",
      "   [4 2 3]\n",
      "   [1 0 1]]\n",
      "\n",
      "  [[0 2 1]\n",
      "   [2 3 4]\n",
      "   [0 1 0]]\n",
      "\n",
      "  [[2 1 0]\n",
      "   [3 4 4]\n",
      "   [1 0 4]]\n",
      "\n",
      "  [[1 0 0]\n",
      "   [4 4 1]\n",
      "   [0 4 4]]]\n",
      "\n",
      "\n",
      " [[[1 0 4]\n",
      "   [0 0 0]\n",
      "   [4 2 4]]\n",
      "\n",
      "  [[0 4 0]\n",
      "   [0 0 3]\n",
      "   [2 4 3]]\n",
      "\n",
      "  [[4 0 4]\n",
      "   [0 3 1]\n",
      "   [4 3 0]]\n",
      "\n",
      "  [[0 4 2]\n",
      "   [3 1 0]\n",
      "   [3 0 2]]\n",
      "\n",
      "  [[4 2 3]\n",
      "   [1 0 1]\n",
      "   [0 2 3]]\n",
      "\n",
      "  [[2 3 4]\n",
      "   [0 1 0]\n",
      "   [2 3 1]]\n",
      "\n",
      "  [[3 4 4]\n",
      "   [1 0 4]\n",
      "   [3 1 0]]\n",
      "\n",
      "  [[4 4 1]\n",
      "   [0 4 4]\n",
      "   [1 0 1]]]]\n"
     ]
    }
   ],
   "source": [
    "from numpy.lib import stride_tricks\n",
    "Z = np.random.randint(0,5,(10,10))\n",
    "n = 3\n",
    "i = 1 + (Z.shape[0]-3)\n",
    "j = 1 + (Z.shape[1]-3)\n",
    "C = stride_tricks.as_strided(Z, shape=(i, j, n, n), strides=Z.strides + Z.strides)\n",
    "print(C)"
   ]
  },
  {
   "cell_type": "markdown",
   "metadata": {},
   "source": [
    "#### 85. Create a 2D array subclass such that Z\\[i,j\\] == Z\\[j,i\\] (★★★)"
   ]
  },
  {
   "cell_type": "code",
   "execution_count": 89,
   "metadata": {
    "collapsed": false
   },
   "outputs": [
    {
     "name": "stdout",
     "output_type": "stream",
     "text": [
      "[[ 6 12  2  3  6]\n",
      " [12  2  8 11  8]\n",
      " [ 2  8  8 42 10]\n",
      " [ 3 11 42  5 10]\n",
      " [ 6  8 10 10  5]]\n"
     ]
    }
   ],
   "source": [
    "class Symetric(np.ndarray):\n",
    "    def __setitem__(self, index, value):\n",
    "        i,j = index\n",
    "        super(Symetric, self).__setitem__((i,j), value)\n",
    "        super(Symetric, self).__setitem__((j,i), value)\n",
    "\n",
    "def symetric(Z):\n",
    "    return np.asarray(Z + Z.T - np.diag(Z.diagonal())).view(Symetric)\n",
    "\n",
    "S = symetric(np.random.randint(0,10,(5,5)))\n",
    "S[2,3] = 42\n",
    "print(S)"
   ]
  },
  {
   "cell_type": "markdown",
   "metadata": {},
   "source": [
    "#### 86. Consider a set of p matrices wich shape (n,n) and a set of p vectors with shape (n,1). How to compute the sum of of the p matrix products at once? (result has shape (n,1)) (★★★)"
   ]
  },
  {
   "cell_type": "code",
   "execution_count": 90,
   "metadata": {
    "collapsed": false
   },
   "outputs": [
    {
     "data": {
      "text/plain": [
       "array([[5.12106063],\n",
       "       [4.77412824],\n",
       "       [4.08283408]])"
      ]
     },
     "execution_count": 90,
     "metadata": {},
     "output_type": "execute_result"
    }
   ],
   "source": [
    "p, n = 5, 3\n",
    "A = np.random.rand(p, n, n)\n",
    "x = np.random.rand(p, n, 1)\n",
    "result = np.sum(np.matmul(A, x), axis=0)\n",
    "result"
   ]
  },
  {
   "cell_type": "markdown",
   "metadata": {},
   "source": [
    "#### 87. Consider a 16x16 array, how to get the block-sum (block size is 4x4)? (★★★)"
   ]
  },
  {
   "cell_type": "code",
   "execution_count": 91,
   "metadata": {
    "collapsed": false
   },
   "outputs": [
    {
     "name": "stdout",
     "output_type": "stream",
     "text": [
      "[[[[1. 1. 1. 1.]\n",
      "   [1. 1. 1. 1.]\n",
      "   [1. 1. 1. 1.]\n",
      "   [1. 1. 1. 1.]]\n",
      "\n",
      "  [[1. 1. 1. 1.]\n",
      "   [1. 1. 1. 1.]\n",
      "   [1. 1. 1. 1.]\n",
      "   [1. 1. 1. 1.]]\n",
      "\n",
      "  [[1. 1. 1. 1.]\n",
      "   [1. 1. 1. 1.]\n",
      "   [1. 1. 1. 1.]\n",
      "   [1. 1. 1. 1.]]\n",
      "\n",
      "  [[1. 1. 1. 1.]\n",
      "   [1. 1. 1. 1.]\n",
      "   [1. 1. 1. 1.]\n",
      "   [1. 1. 1. 1.]]]\n",
      "\n",
      "\n",
      " [[[1. 1. 1. 1.]\n",
      "   [1. 1. 1. 1.]\n",
      "   [1. 1. 1. 1.]\n",
      "   [1. 1. 1. 1.]]\n",
      "\n",
      "  [[1. 1. 1. 1.]\n",
      "   [1. 1. 1. 1.]\n",
      "   [1. 1. 1. 1.]\n",
      "   [1. 1. 1. 1.]]\n",
      "\n",
      "  [[1. 1. 1. 1.]\n",
      "   [1. 1. 1. 1.]\n",
      "   [1. 1. 1. 1.]\n",
      "   [1. 1. 1. 1.]]\n",
      "\n",
      "  [[1. 1. 1. 1.]\n",
      "   [1. 1. 1. 1.]\n",
      "   [1. 1. 1. 1.]\n",
      "   [1. 1. 1. 1.]]]\n",
      "\n",
      "\n",
      " [[[1. 1. 1. 1.]\n",
      "   [1. 1. 1. 1.]\n",
      "   [1. 1. 1. 1.]\n",
      "   [1. 1. 1. 1.]]\n",
      "\n",
      "  [[1. 1. 1. 1.]\n",
      "   [1. 1. 1. 1.]\n",
      "   [1. 1. 1. 1.]\n",
      "   [1. 1. 1. 1.]]\n",
      "\n",
      "  [[1. 1. 1. 1.]\n",
      "   [1. 1. 1. 1.]\n",
      "   [1. 1. 1. 1.]\n",
      "   [1. 1. 1. 1.]]\n",
      "\n",
      "  [[1. 1. 1. 1.]\n",
      "   [1. 1. 1. 1.]\n",
      "   [1. 1. 1. 1.]\n",
      "   [1. 1. 1. 1.]]]\n",
      "\n",
      "\n",
      " [[[1. 1. 1. 1.]\n",
      "   [1. 1. 1. 1.]\n",
      "   [1. 1. 1. 1.]\n",
      "   [1. 1. 1. 1.]]\n",
      "\n",
      "  [[1. 1. 1. 1.]\n",
      "   [1. 1. 1. 1.]\n",
      "   [1. 1. 1. 1.]\n",
      "   [1. 1. 1. 1.]]\n",
      "\n",
      "  [[1. 1. 1. 1.]\n",
      "   [1. 1. 1. 1.]\n",
      "   [1. 1. 1. 1.]\n",
      "   [1. 1. 1. 1.]]\n",
      "\n",
      "  [[1. 1. 1. 1.]\n",
      "   [1. 1. 1. 1.]\n",
      "   [1. 1. 1. 1.]\n",
      "   [1. 1. 1. 1.]]]]\n"
     ]
    },
    {
     "data": {
      "text/plain": [
       "array([[16., 16., 16., 16.],\n",
       "       [16., 16., 16., 16.],\n",
       "       [16., 16., 16., 16.],\n",
       "       [16., 16., 16., 16.]])"
      ]
     },
     "execution_count": 91,
     "metadata": {},
     "output_type": "execute_result"
    }
   ],
   "source": [
    "A = np.ones((16, 16))\n",
    "\n",
    "blocks = A.reshape(4, 4, 4, 4)\n",
    "print(blocks)\n",
    "block_sums = blocks.sum(axis=(1, 3))\n",
    "block_sums"
   ]
  },
  {
   "cell_type": "markdown",
   "metadata": {},
   "source": [
    "#### 88. How to implement the Game of Life using numpy arrays? (★★★)"
   ]
  },
  {
   "cell_type": "code",
   "execution_count": 92,
   "metadata": {
    "collapsed": false
   },
   "outputs": [
    {
     "name": "stdout",
     "output_type": "stream",
     "text": [
      "[[0 0 0 0 0 0 0 0 0 0 0 0 0 0 0 0 0 0 0 0 0 0 0 0 0 0 0 0 0 0 0 0 0 0 0 0\n",
      "  0 0 0 0 0 0 0 0 0 0 0 0 0 0]\n",
      " [0 0 0 0 0 0 0 0 0 0 0 0 1 0 0 0 0 0 0 0 0 0 0 0 0 0 0 0 0 0 0 0 0 0 0 0\n",
      "  0 0 0 0 0 0 0 0 0 0 0 0 0 0]\n",
      " [0 0 0 0 0 0 0 0 0 0 0 1 0 1 0 0 0 0 0 0 0 0 0 0 0 0 0 0 0 0 0 0 0 0 0 0\n",
      "  0 0 0 0 0 0 0 0 0 0 0 0 0 0]\n",
      " [0 0 0 0 0 0 0 0 0 0 0 1 0 0 0 0 0 0 0 0 0 0 0 0 0 0 0 0 0 0 0 0 0 0 0 0\n",
      "  0 0 0 0 0 0 1 1 1 0 0 0 0 0]\n",
      " [0 0 0 0 0 0 0 0 0 0 1 0 0 0 0 0 0 0 0 0 0 0 0 0 1 1 0 0 0 0 0 0 0 0 0 0\n",
      "  0 1 1 0 0 0 0 0 0 0 0 0 0 0]\n",
      " [0 0 0 0 0 0 0 0 0 1 0 1 0 0 0 0 0 0 0 0 0 0 0 1 0 0 1 0 0 0 0 0 0 0 0 0\n",
      "  1 0 0 1 0 0 0 0 0 0 0 0 0 0]\n",
      " [0 0 0 0 0 0 0 0 0 1 1 0 0 1 0 0 0 0 0 0 0 0 0 0 1 1 0 0 0 0 0 0 0 0 0 0\n",
      "  0 1 1 0 0 0 0 0 0 0 0 0 0 0]\n",
      " [0 0 0 0 0 0 0 0 0 0 0 0 1 0 0 0 0 0 0 0 0 0 0 0 0 0 0 0 0 0 0 0 0 0 0 0\n",
      "  0 0 0 0 0 0 0 0 0 0 0 0 0 0]\n",
      " [0 0 0 1 1 0 0 0 0 0 0 0 0 0 0 0 0 0 0 1 1 0 0 0 0 0 0 0 0 0 0 0 0 0 0 0\n",
      "  0 0 0 0 0 0 0 0 0 0 0 0 0 0]\n",
      " [0 0 1 0 0 1 0 0 0 0 0 0 0 0 0 0 0 0 1 0 0 0 0 0 0 0 0 0 0 0 0 0 0 0 0 0\n",
      "  0 0 0 0 0 0 0 0 0 0 0 0 0 0]\n",
      " [0 0 1 0 1 0 0 0 1 1 0 0 0 0 0 0 0 0 0 1 0 0 0 0 0 0 0 0 0 0 0 0 0 0 0 0\n",
      "  0 0 0 0 0 0 0 0 0 0 0 0 0 0]\n",
      " [0 0 0 1 0 0 0 0 1 1 0 0 0 0 0 0 0 1 0 0 1 0 0 0 0 0 0 0 0 0 1 0 0 0 0 0\n",
      "  0 0 0 0 0 0 0 0 0 0 0 0 0 0]\n",
      " [0 0 0 0 0 0 0 0 0 0 0 0 0 0 0 0 1 0 0 1 1 0 0 0 0 0 0 0 0 0 1 0 0 0 0 0\n",
      "  0 0 0 0 0 0 0 0 0 0 0 0 0 0]\n",
      " [0 0 0 0 0 0 0 0 0 0 0 0 0 0 0 0 1 0 0 1 1 0 1 0 0 0 0 1 0 0 0 0 0 0 0 0\n",
      "  0 0 0 0 0 0 0 0 0 0 0 0 0 0]\n",
      " [0 0 0 0 0 0 0 0 0 0 0 0 0 0 0 0 0 1 0 0 0 1 1 1 0 0 0 0 1 0 0 0 0 0 0 0\n",
      "  0 0 0 0 0 0 0 0 0 0 0 0 0 0]\n",
      " [0 0 0 0 0 0 0 0 0 0 0 0 0 0 0 0 0 0 0 1 1 1 1 0 0 0 0 0 1 1 0 0 0 0 0 0\n",
      "  0 0 0 0 0 0 0 0 0 0 0 0 0 0]\n",
      " [0 0 0 0 0 0 0 0 0 0 0 0 0 0 0 0 0 0 0 1 0 0 0 0 0 0 1 0 1 0 0 0 0 0 0 0\n",
      "  0 0 0 0 0 0 0 0 0 0 0 0 0 0]\n",
      " [0 0 0 0 0 0 0 0 0 0 0 0 0 0 0 0 0 0 0 0 0 0 0 0 0 0 0 1 1 1 0 0 0 0 0 0\n",
      "  0 0 0 0 0 0 0 0 0 0 0 0 0 0]\n",
      " [0 0 0 1 0 0 0 0 0 0 0 0 0 0 0 0 0 0 0 0 0 0 0 0 0 0 1 0 1 0 0 0 0 0 0 0\n",
      "  0 0 0 0 0 0 0 0 0 0 0 0 0 0]\n",
      " [0 0 1 0 1 0 0 0 0 0 0 0 0 0 0 0 0 0 0 0 0 0 0 0 0 0 0 1 0 0 0 0 0 0 0 0\n",
      "  0 0 0 0 0 0 0 0 0 0 0 0 0 0]\n",
      " [0 0 1 1 0 0 0 0 0 0 0 0 0 0 0 0 0 0 0 0 0 0 0 0 0 0 0 0 0 0 0 0 0 0 0 0\n",
      "  0 0 0 0 0 0 0 0 0 0 0 0 0 0]\n",
      " [0 0 0 0 0 0 0 0 0 0 0 0 0 0 0 0 0 0 0 0 0 0 0 0 0 0 0 0 0 0 0 0 0 0 0 0\n",
      "  0 0 0 0 0 0 0 0 0 0 0 0 0 0]\n",
      " [0 0 0 0 0 0 0 0 0 0 0 0 0 0 0 0 0 0 0 0 0 0 0 0 0 0 0 0 0 0 0 0 0 0 0 0\n",
      "  0 0 0 0 0 0 0 0 0 0 0 0 0 0]\n",
      " [0 1 1 0 0 0 0 0 0 0 0 0 0 0 0 0 0 0 0 0 0 0 0 0 0 0 0 0 0 0 0 0 0 0 0 0\n",
      "  0 0 0 0 0 0 0 0 0 0 0 0 0 0]\n",
      " [0 1 1 0 0 0 1 0 0 0 0 0 0 0 0 0 0 0 0 0 0 0 0 0 0 0 0 0 1 1 1 0 0 0 0 0\n",
      "  0 0 0 0 0 0 0 0 0 0 0 0 0 0]\n",
      " [0 0 0 0 1 1 0 0 0 0 0 0 0 0 0 0 0 0 0 0 0 0 0 0 0 0 0 0 1 1 1 0 0 0 0 0\n",
      "  0 0 0 0 0 0 0 0 0 0 0 0 0 0]\n",
      " [0 0 0 0 0 1 1 0 0 0 0 0 0 0 0 0 0 0 0 0 0 0 0 0 0 0 0 0 0 0 1 0 0 0 0 0\n",
      "  0 0 0 0 0 0 0 0 0 0 0 0 0 0]\n",
      " [0 0 0 0 0 0 0 0 0 0 0 0 0 0 0 0 0 0 0 0 0 0 0 0 0 0 0 0 1 1 0 0 0 0 0 0\n",
      "  0 0 0 0 0 0 0 0 0 0 0 0 0 0]\n",
      " [0 0 0 0 0 0 0 0 0 0 0 0 0 0 0 0 0 0 0 0 0 0 0 0 0 0 0 0 0 0 1 0 0 0 0 0\n",
      "  0 0 0 0 0 0 0 0 0 0 0 0 0 0]\n",
      " [0 0 0 0 0 0 0 0 0 0 0 0 0 0 0 0 0 0 0 0 0 0 0 0 0 0 0 1 0 0 1 0 1 0 1 0\n",
      "  0 0 0 0 0 0 0 0 0 0 0 0 0 0]\n",
      " [0 0 0 0 0 0 0 0 0 0 0 0 0 0 0 0 0 0 0 0 0 0 0 0 0 0 1 0 0 0 0 0 1 1 0 0\n",
      "  0 0 0 0 0 0 0 0 0 0 0 0 0 0]\n",
      " [0 0 0 0 0 0 0 0 0 0 0 0 0 0 0 0 0 0 0 0 0 0 0 0 0 0 0 0 0 0 0 1 1 1 0 0\n",
      "  0 0 0 0 0 0 0 0 0 0 0 0 0 0]\n",
      " [0 0 0 0 0 0 0 0 0 0 0 0 0 0 0 0 0 0 0 0 0 0 0 0 0 0 1 0 0 1 1 0 0 0 0 1\n",
      "  1 1 0 0 0 0 0 0 0 0 0 0 0 0]\n",
      " [0 0 0 0 0 0 0 0 0 0 0 0 0 0 0 0 0 0 0 0 0 0 0 0 0 0 0 1 1 1 0 0 0 0 0 1\n",
      "  1 1 0 0 0 0 0 0 0 0 0 0 0 0]\n",
      " [0 0 0 0 0 0 0 0 0 0 0 0 0 0 0 0 0 0 1 0 0 0 0 0 0 0 0 0 0 0 0 0 0 0 1 0\n",
      "  1 0 1 1 0 0 0 0 0 0 0 0 0 0]\n",
      " [0 0 0 0 0 0 0 0 0 0 0 0 0 0 0 0 0 1 0 0 0 0 0 0 0 0 0 0 1 0 0 0 0 0 0 0\n",
      "  0 0 1 1 1 0 0 0 0 0 0 0 0 0]\n",
      " [0 0 0 0 0 0 0 0 0 0 0 0 0 0 0 0 0 1 0 1 0 0 0 0 0 0 0 1 0 1 0 0 0 0 0 1\n",
      "  0 0 0 0 1 0 0 0 0 0 0 0 0 0]\n",
      " [0 0 0 0 0 0 0 0 0 0 0 0 0 0 0 0 0 0 1 0 0 0 0 0 0 0 0 1 0 0 0 0 0 0 0 1\n",
      "  1 1 1 1 0 0 0 0 0 0 0 0 0 0]\n",
      " [0 0 0 0 0 0 0 0 0 0 0 0 0 1 0 0 0 0 0 0 0 0 0 0 0 0 0 0 1 0 0 0 0 0 0 1\n",
      "  1 1 0 1 0 0 0 0 0 0 0 0 0 0]\n",
      " [0 0 0 0 0 0 0 0 0 0 0 0 1 0 1 0 0 0 0 0 0 0 1 1 0 0 0 0 0 1 0 0 0 0 0 1\n",
      "  0 1 1 0 0 0 0 0 0 0 0 0 0 0]\n",
      " [0 0 0 0 0 0 0 0 0 0 0 1 1 0 0 1 0 0 0 0 0 0 1 1 0 0 0 0 1 1 0 0 0 0 1 1\n",
      "  0 1 1 0 0 0 0 0 0 0 0 0 0 0]\n",
      " [0 0 0 0 0 0 0 0 0 0 0 0 1 1 1 0 0 0 0 0 0 0 0 0 0 0 0 0 1 0 0 1 1 1 0 1\n",
      "  1 0 0 0 0 0 0 0 0 0 0 0 0 0]\n",
      " [0 0 0 0 0 0 0 0 0 0 0 0 0 1 0 0 0 0 0 0 0 0 0 0 0 1 0 0 0 0 0 0 0 0 0 0\n",
      "  0 0 0 0 0 0 0 0 0 0 0 0 0 0]\n",
      " [0 0 0 0 0 0 0 0 0 0 0 0 0 0 0 0 0 0 0 0 0 0 0 0 1 0 1 1 1 0 0 0 0 0 0 0\n",
      "  0 0 0 0 0 0 0 0 0 0 0 0 0 0]\n",
      " [0 0 0 0 0 0 0 0 0 0 0 0 0 0 0 0 0 0 0 0 0 0 0 0 0 1 0 1 1 0 0 0 0 0 0 0\n",
      "  0 0 0 0 0 0 0 0 0 0 0 0 0 0]\n",
      " [0 0 0 0 0 0 0 0 0 0 0 0 0 0 0 0 0 0 0 0 0 0 0 0 0 0 1 1 1 0 0 0 1 1 0 0\n",
      "  0 0 0 0 0 0 0 0 0 0 0 0 0 0]\n",
      " [0 0 0 0 0 0 0 0 0 0 0 0 0 0 1 1 1 0 0 0 0 0 0 0 0 0 1 0 1 0 0 0 1 0 0 0\n",
      "  0 0 0 0 0 0 0 0 1 0 0 0 0 0]\n",
      " [0 0 0 0 0 0 0 0 0 0 0 0 0 0 0 1 0 0 0 0 0 0 0 0 0 0 1 0 0 0 0 0 0 0 0 0\n",
      "  0 0 0 0 0 0 0 0 1 0 0 0 0 0]\n",
      " [0 0 0 0 0 0 0 0 0 0 0 0 0 0 0 0 0 0 0 0 0 0 0 0 0 0 1 0 0 0 0 0 0 0 0 0\n",
      "  0 0 0 0 0 0 0 0 1 0 0 0 0 0]\n",
      " [0 0 0 0 0 0 0 0 0 0 0 0 0 0 0 0 0 0 0 0 0 0 0 0 0 0 0 0 0 0 0 0 0 0 0 0\n",
      "  0 0 0 0 0 0 0 0 0 0 0 0 0 0]]\n"
     ]
    }
   ],
   "source": [
    "def iterate(Z):\n",
    "    # Count neighbours\n",
    "    N = (Z[0:-2,0:-2] + Z[0:-2,1:-1] + Z[0:-2,2:] +\n",
    "         Z[1:-1,0:-2]                + Z[1:-1,2:] +\n",
    "         Z[2:  ,0:-2] + Z[2:  ,1:-1] + Z[2:  ,2:])\n",
    "\n",
    "    # Apply rules\n",
    "    birth = (N==3) & (Z[1:-1,1:-1]==0)\n",
    "    survive = ((N==2) | (N==3)) & (Z[1:-1,1:-1]==1)\n",
    "    Z[...] = 0\n",
    "    Z[1:-1,1:-1][birth | survive] = 1\n",
    "    return Z\n",
    "\n",
    "Z = np.random.randint(0,2,(50,50))\n",
    "for i in range(100): Z = iterate(Z)\n",
    "print(Z)"
   ]
  },
  {
   "cell_type": "markdown",
   "metadata": {},
   "source": [
    "#### 89. How to get the n largest values of an array (★★★)"
   ]
  },
  {
   "cell_type": "code",
   "execution_count": 93,
   "metadata": {
    "collapsed": false
   },
   "outputs": [
    {
     "name": "stdout",
     "output_type": "stream",
     "text": [
      "Slow: [95 96 97 98 99]\n",
      "Fast: [99 98 97 96 95]\n"
     ]
    }
   ],
   "source": [
    "\n",
    "Z = np.arange(100)\n",
    "np.random.shuffle(Z)\n",
    "n = 5\n",
    "\n",
    "# Slow\n",
    "print(\"Slow:\", Z[np.argsort(Z)[-n:]])\n",
    "\n",
    "# Fast\n",
    "print(\"Fast:\", Z[np.argpartition(-Z, n)[:n]])"
   ]
  },
  {
   "cell_type": "markdown",
   "metadata": {},
   "source": [
    "#### 90. Given an arbitrary number of vectors, build the cartesian product (every combinations of every item) (★★★)"
   ]
  },
  {
   "cell_type": "code",
   "execution_count": 94,
   "metadata": {
    "collapsed": false,
    "scrolled": true
   },
   "outputs": [
    {
     "name": "stdout",
     "output_type": "stream",
     "text": [
      "[[1 4 6]\n",
      " [1 4 7]\n",
      " [1 5 6]\n",
      " [1 5 7]\n",
      " [2 4 6]\n",
      " [2 4 7]\n",
      " [2 5 6]\n",
      " [2 5 7]\n",
      " [3 4 6]\n",
      " [3 4 7]\n",
      " [3 5 6]\n",
      " [3 5 7]]\n"
     ]
    }
   ],
   "source": [
    "def cartesian(arrays):\n",
    "    arrays = [np.asarray(a) for a in arrays]\n",
    "    shape = (len(x) for x in arrays)\n",
    "\n",
    "    ix = np.indices(shape, dtype=int)\n",
    "    ix = ix.reshape(len(arrays), -1).T\n",
    "\n",
    "    for n, arr in enumerate(arrays):\n",
    "        ix[:, n] = arrays[n][ix[:, n]]\n",
    "\n",
    "    return ix\n",
    "\n",
    "print (cartesian(([1, 2, 3], [4, 5], [6, 7])))"
   ]
  },
  {
   "cell_type": "markdown",
   "metadata": {},
   "source": [
    "#### 91. How to create a record array from a regular array? (★★★)"
   ]
  },
  {
   "cell_type": "code",
   "execution_count": 95,
   "metadata": {
    "collapsed": false
   },
   "outputs": [
    {
     "name": "stdout",
     "output_type": "stream",
     "text": [
      "[(b'Hello', 2.5, 3) (b'World', 3.6, 2)]\n"
     ]
    }
   ],
   "source": [
    "Z = np.array([(\"Hello\", 2.5, 3),\n",
    "              (\"World\", 3.6, 2)])\n",
    "R = np.core.records.fromarrays(Z.T, \n",
    "                               names='col1, col2, col3',\n",
    "                               formats = 'S8, f8, i8')\n",
    "print(R)"
   ]
  },
  {
   "cell_type": "markdown",
   "metadata": {},
   "source": [
    "#### 92. Consider a large vector Z, compute Z to the power of 3 using 3 different methods (★★★)"
   ]
  },
  {
   "cell_type": "code",
   "execution_count": 98,
   "metadata": {
    "collapsed": false
   },
   "outputs": [
    {
     "name": "stdout",
     "output_type": "stream",
     "text": [
      "36.9 ms ± 5.79 ms per loop (mean ± std. dev. of 7 runs, 10 loops each)\n",
      "8.79 ms ± 283 µs per loop (mean ± std. dev. of 7 runs, 100 loops each)\n",
      "5.57 ms ± 247 µs per loop (mean ± std. dev. of 7 runs, 100 loops each)\n"
     ]
    }
   ],
   "source": [
    "x = np.random.rand(10**6) \n",
    "\n",
    "%timeit np.power(x,3)\n",
    "%timeit x*x*x\n",
    "%timeit np.einsum('i,i,i->i',x,x,x)"
   ]
  },
  {
   "cell_type": "markdown",
   "metadata": {},
   "source": [
    "#### 93. Consider two arrays A and B of shape (8,3) and (2,2). How to find rows of A that contain elements of each row of B regardless of the order of the elements in B? (★★★)"
   ]
  },
  {
   "cell_type": "code",
   "execution_count": 99,
   "metadata": {
    "collapsed": false
   },
   "outputs": [
    {
     "name": "stdout",
     "output_type": "stream",
     "text": [
      "[3 4 5]\n"
     ]
    }
   ],
   "source": [
    "A = np.random.randint(0,5,(8,3))\n",
    "B = np.random.randint(0,5,(2,2))\n",
    "\n",
    "C = (A[..., np.newaxis, np.newaxis] == B)\n",
    "rows = np.where(C.any((3,1)).all(1))[0]\n",
    "print(rows)"
   ]
  },
  {
   "cell_type": "markdown",
   "metadata": {},
   "source": [
    "#### 94. Considering a 10x3 matrix, extract rows with unequal values (e.g. \\[2,2,3\\]) (★★★)"
   ]
  },
  {
   "cell_type": "code",
   "execution_count": 100,
   "metadata": {
    "collapsed": false
   },
   "outputs": [
    {
     "name": "stdout",
     "output_type": "stream",
     "text": [
      "[[3 3 0]\n",
      " [3 4 1]\n",
      " [1 0 2]\n",
      " [4 1 2]\n",
      " [0 0 4]\n",
      " [3 2 0]\n",
      " [4 4 0]\n",
      " [2 0 1]\n",
      " [3 2 0]\n",
      " [1 3 4]]\n",
      "[[3 3 0]\n",
      " [3 4 1]\n",
      " [1 0 2]\n",
      " [4 1 2]\n",
      " [0 0 4]\n",
      " [3 2 0]\n",
      " [4 4 0]\n",
      " [2 0 1]\n",
      " [3 2 0]\n",
      " [1 3 4]]\n",
      "[[3 3 0]\n",
      " [3 4 1]\n",
      " [1 0 2]\n",
      " [4 1 2]\n",
      " [0 0 4]\n",
      " [3 2 0]\n",
      " [4 4 0]\n",
      " [2 0 1]\n",
      " [3 2 0]\n",
      " [1 3 4]]\n"
     ]
    }
   ],
   "source": [
    "Z = np.random.randint(0,5,(10,3))\n",
    "print(Z)\n",
    "# solution for arrays of all dtypes (including string arrays and record arrays)\n",
    "E = np.all(Z[:,1:] == Z[:,:-1], axis=1)\n",
    "U = Z[~E]\n",
    "print(U)\n",
    "# soluiton for numerical arrays only, will work for any number of columns in Z\n",
    "U = Z[Z.max(axis=1) != Z.min(axis=1),:]\n",
    "print(U)"
   ]
  },
  {
   "cell_type": "markdown",
   "metadata": {},
   "source": [
    "#### 95. Convert a vector of ints into a matrix binary representation (★★★)"
   ]
  },
  {
   "cell_type": "code",
   "execution_count": 101,
   "metadata": {
    "collapsed": false
   },
   "outputs": [
    {
     "name": "stdout",
     "output_type": "stream",
     "text": [
      "[[0 0 0 0 0 0 0 0]\n",
      " [0 0 0 0 0 0 0 1]\n",
      " [0 0 0 0 0 0 1 0]\n",
      " [0 0 0 0 0 0 1 1]\n",
      " [0 0 0 0 1 1 1 1]\n",
      " [0 0 0 1 0 0 0 0]\n",
      " [0 0 1 0 0 0 0 0]\n",
      " [0 1 0 0 0 0 0 0]\n",
      " [1 0 0 0 0 0 0 0]]\n",
      "[[0 0 0 0 0 0 0 0]\n",
      " [0 0 0 0 0 0 0 1]\n",
      " [0 0 0 0 0 0 1 0]\n",
      " [0 0 0 0 0 0 1 1]\n",
      " [0 0 0 0 1 1 1 1]\n",
      " [0 0 0 1 0 0 0 0]\n",
      " [0 0 1 0 0 0 0 0]\n",
      " [0 1 0 0 0 0 0 0]\n",
      " [1 0 0 0 0 0 0 0]]\n"
     ]
    }
   ],
   "source": [
    "I = np.array([0, 1, 2, 3, 15, 16, 32, 64, 128])\n",
    "B = ((I.reshape(-1,1) & (2**np.arange(8))) != 0).astype(int)\n",
    "print(B[:,::-1])\n",
    "\n",
    "# Author: Daniel T. McDonald\n",
    "\n",
    "I = np.array([0, 1, 2, 3, 15, 16, 32, 64, 128], dtype=np.uint8)\n",
    "print(np.unpackbits(I[:, np.newaxis], axis=1))"
   ]
  },
  {
   "cell_type": "markdown",
   "metadata": {},
   "source": [
    "#### 96. Given a two dimensional array, how to extract unique rows? (★★★)"
   ]
  },
  {
   "cell_type": "code",
   "execution_count": 102,
   "metadata": {
    "collapsed": false
   },
   "outputs": [
    {
     "name": "stdout",
     "output_type": "stream",
     "text": [
      "[[0 0 0]\n",
      " [0 1 0]\n",
      " [0 1 1]\n",
      " [1 0 0]\n",
      " [1 1 1]]\n"
     ]
    }
   ],
   "source": [
    "Z = np.random.randint(0,2,(6,3))\n",
    "T = np.ascontiguousarray(Z).view(np.dtype((np.void, Z.dtype.itemsize * Z.shape[1])))\n",
    "_, idx = np.unique(T, return_index=True)\n",
    "uZ = Z[idx]\n",
    "print(uZ)"
   ]
  },
  {
   "cell_type": "markdown",
   "metadata": {},
   "source": [
    "#### 97. Considering 2 vectors A & B, write the einsum equivalent of inner, outer, sum, and mul function (★★★)"
   ]
  },
  {
   "cell_type": "code",
   "execution_count": 103,
   "metadata": {
    "collapsed": false
   },
   "outputs": [
    {
     "data": {
      "text/plain": [
       "array([[0.10624884, 0.22454763, 0.4165785 , 0.35341855, 0.24865981,\n",
       "        0.35370167, 0.44498052, 0.02549593, 0.42772694, 0.41686543],\n",
       "       [0.17891675, 0.37812489, 0.70149349, 0.59513589, 0.41872837,\n",
       "        0.59561264, 0.74932081, 0.04293364, 0.7202668 , 0.70197666],\n",
       "       [0.18035058, 0.38115518, 0.70711525, 0.5999053 , 0.42208405,\n",
       "        0.60038587, 0.75532586, 0.04327771, 0.72603901, 0.70760229],\n",
       "       [0.04027078, 0.08510877, 0.15789293, 0.13395384, 0.09424784,\n",
       "        0.13406115, 0.16865795, 0.00966355, 0.16211844, 0.15800168],\n",
       "       [0.16839297, 0.3558838 , 0.66023205, 0.56013033, 0.39409901,\n",
       "        0.56057904, 0.70524619, 0.0404083 , 0.67790112, 0.6606868 ],\n",
       "       [0.14771711, 0.31218718, 0.57916651, 0.49135563, 0.34571019,\n",
       "        0.49174924, 0.61865367, 0.03544684, 0.59466611, 0.57956543],\n",
       "       [0.15108413, 0.31930308, 0.59236786, 0.50255544, 0.35359021,\n",
       "        0.50295802, 0.63275507, 0.0362548 , 0.60822075, 0.59277587],\n",
       "       [0.017317  , 0.03659797, 0.06789619, 0.05760205, 0.0405279 ,\n",
       "        0.05764819, 0.0725253 , 0.00415546, 0.06971322, 0.06794296],\n",
       "       [0.05701914, 0.12050497, 0.22355961, 0.18966441, 0.13344493,\n",
       "        0.18981634, 0.23880174, 0.01368256, 0.22954249, 0.22371359],\n",
       "       [0.11808317, 0.24955846, 0.46297834, 0.39278344, 0.27635633,\n",
       "        0.39309809, 0.49454387, 0.02833575, 0.47536852, 0.46329723]])"
      ]
     },
     "execution_count": 103,
     "metadata": {},
     "output_type": "execute_result"
    }
   ],
   "source": [
    "A = np.random.uniform(0,1,10)\n",
    "B = np.random.uniform(0,1,10)\n",
    "\n",
    "np.einsum('i->', A)       # np.sum(A)\n",
    "np.einsum('i,i->i', A, B) # A * B\n",
    "np.einsum('i,i', A, B)    # np.inner(A, B)\n",
    "np.einsum('i,j->ij', A, B)    # np.outer(A, B)"
   ]
  },
  {
   "cell_type": "markdown",
   "metadata": {},
   "source": [
    "#### 98. Considering a path described by two vectors (X,Y), how to sample it using equidistant samples (★★★)?"
   ]
  },
  {
   "cell_type": "code",
   "execution_count": 104,
   "metadata": {
    "collapsed": true
   },
   "outputs": [],
   "source": [
    "phi = np.arange(0, 10*np.pi, 0.1)\n",
    "a = 1\n",
    "x = a*phi*np.cos(phi)\n",
    "y = a*phi*np.sin(phi)\n",
    "\n",
    "dr = (np.diff(x)**2 + np.diff(y)**2)**.5 # segment lengths\n",
    "r = np.zeros_like(x)\n",
    "r[1:] = np.cumsum(dr)                # integrate path\n",
    "r_int = np.linspace(0, r.max(), 200) # regular spaced path\n",
    "x_int = np.interp(r_int, r, x)       # integrate path\n",
    "y_int = np.interp(r_int, r, y)"
   ]
  },
  {
   "cell_type": "markdown",
   "metadata": {},
   "source": [
    "#### 99. Given an integer n and a 2D array X, select from X the rows which can be interpreted as draws from a multinomial distribution with n degrees, i.e., the rows which only contain integers and which sum to n. (★★★)"
   ]
  },
  {
   "cell_type": "code",
   "execution_count": 105,
   "metadata": {
    "collapsed": false
   },
   "outputs": [
    {
     "name": "stdout",
     "output_type": "stream",
     "text": [
      "[[2. 0. 1. 1.]]\n"
     ]
    }
   ],
   "source": [
    "X = np.asarray([[1.0, 0.0, 3.0, 8.0],\n",
    "                [2.0, 0.0, 1.0, 1.0],\n",
    "                [1.5, 2.5, 1.0, 0.0]])\n",
    "n = 4\n",
    "M = np.logical_and.reduce(np.mod(X, 1) == 0, axis=-1)\n",
    "M &= (X.sum(axis=-1) == n)\n",
    "print(X[M])"
   ]
  },
  {
   "cell_type": "markdown",
   "metadata": {},
   "source": [
    "#### 100. Compute bootstrapped 95% confidence intervals for the mean of a 1D array X (i.e., resample the elements of an array with replacement N times, compute the mean of each sample, and then compute percentiles over the means). (★★★)"
   ]
  },
  {
   "cell_type": "code",
   "execution_count": 106,
   "metadata": {
    "collapsed": false
   },
   "outputs": [
    {
     "name": "stdout",
     "output_type": "stream",
     "text": [
      "[-0.17872314  0.26596142]\n"
     ]
    }
   ],
   "source": [
    "X = np.random.randn(100) # random 1D array\n",
    "N = 1000 # number of bootstrap samples\n",
    "idx = np.random.randint(0, X.size, (N, X.size))\n",
    "means = X[idx].mean(axis=1)\n",
    "confint = np.percentile(means, [2.5, 97.5])\n",
    "print(confint)"
   ]
  },
  {
   "cell_type": "code",
   "execution_count": null,
   "metadata": {},
   "outputs": [],
   "source": []
  }
 ],
 "metadata": {
  "kernelspec": {
   "display_name": "Python 3",
   "language": "python",
   "name": "python3"
  },
  "language_info": {
   "codemirror_mode": {
    "name": "ipython",
    "version": 3
   },
   "file_extension": ".py",
   "mimetype": "text/x-python",
   "name": "python",
   "nbconvert_exporter": "python",
   "pygments_lexer": "ipython3",
   "version": "3.9.2"
  }
 },
 "nbformat": 4,
 "nbformat_minor": 0
}
